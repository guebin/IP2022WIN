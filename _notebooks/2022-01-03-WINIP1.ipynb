{
 "cells": [
  {
   "cell_type": "markdown",
   "id": "de9ee1eb-1bc0-472a-bbf8-6a9dd54946b6",
   "metadata": {},
   "source": [
    "# 파이썬입문 겨울방학 특강 (1)"
   ]
  },
  {
   "cell_type": "markdown",
   "id": "a9e72a5b-e275-4b84-9b60-eccddeebbe08",
   "metadata": {},
   "source": [
    "`-` 오늘오전: 자료형, 오브젝트 .. \n",
    "\n",
    "`-` 오늘오후: 참조, 얕은복사, 깊은복사 \n",
    "\n",
    "`-` 내일오전: 뷰와 카피 \n",
    "\n",
    "`-` 내일오후: 개발환경 비교 "
   ]
  },
  {
   "cell_type": "code",
   "execution_count": 8,
   "id": "2be37688-e663-4451-b53c-fcc87421e19f",
   "metadata": {},
   "outputs": [],
   "source": [
    "a=[1,2,3]"
   ]
  },
  {
   "cell_type": "code",
   "execution_count": 9,
   "id": "9f4e9bdc-d1e5-4d5e-94ff-5341b971d96f",
   "metadata": {},
   "outputs": [
    {
     "data": {
      "text/plain": [
       "[1, 2, 3]"
      ]
     },
     "execution_count": 9,
     "metadata": {},
     "output_type": "execute_result"
    }
   ],
   "source": [
    "a"
   ]
  },
  {
   "cell_type": "code",
   "execution_count": 10,
   "id": "0ed4e88b-a0e6-4dae-be60-c97772bb76db",
   "metadata": {},
   "outputs": [],
   "source": [
    "b=a"
   ]
  },
  {
   "cell_type": "code",
   "execution_count": 11,
   "id": "97fb648b-7a9a-4f26-bcf5-c95deac145b4",
   "metadata": {},
   "outputs": [
    {
     "data": {
      "text/plain": [
       "[1, 2, 3]"
      ]
     },
     "execution_count": 11,
     "metadata": {},
     "output_type": "execute_result"
    }
   ],
   "source": [
    "b"
   ]
  },
  {
   "cell_type": "code",
   "execution_count": 12,
   "id": "e19f6866-68a7-4418-9915-5fbe96eafa30",
   "metadata": {},
   "outputs": [],
   "source": [
    "a.append(4) "
   ]
  },
  {
   "cell_type": "code",
   "execution_count": 13,
   "id": "5b7f4917-a6c4-4e13-978c-fdd8233c0558",
   "metadata": {},
   "outputs": [
    {
     "data": {
      "text/plain": [
       "[1, 2, 3, 4]"
      ]
     },
     "execution_count": 13,
     "metadata": {},
     "output_type": "execute_result"
    }
   ],
   "source": [
    "a"
   ]
  },
  {
   "cell_type": "code",
   "execution_count": 14,
   "id": "f54bad07-50d2-4530-ad0f-06d9c22bcc68",
   "metadata": {},
   "outputs": [
    {
     "data": {
      "text/plain": [
       "[1, 2, 3, 4]"
      ]
     },
     "execution_count": 14,
     "metadata": {},
     "output_type": "execute_result"
    }
   ],
   "source": [
    "b"
   ]
  },
  {
   "cell_type": "markdown",
   "id": "ce9b8eef-94a3-4d25-86a1-c0bf564e89db",
   "metadata": {},
   "source": [
    "### 0차원 자료형의 소개 "
   ]
  },
  {
   "cell_type": "markdown",
   "id": "e4be4053-33d5-42de-9ed5-7b861ecc4627",
   "metadata": {},
   "source": [
    "`-` 0차원 자료형: 하나의 값을 저장할 수 있는 자료형 "
   ]
  },
  {
   "cell_type": "markdown",
   "id": "ff633104-19bc-440e-843c-9ca730b479fd",
   "metadata": {},
   "source": [
    "`-` int, bool, float "
   ]
  },
  {
   "cell_type": "code",
   "execution_count": 15,
   "id": "2697c12d-f206-46c1-93d3-0b1ac1246506",
   "metadata": {},
   "outputs": [],
   "source": [
    "a=100"
   ]
  },
  {
   "cell_type": "code",
   "execution_count": 17,
   "id": "c62164ba-7900-4795-abb4-118fa9040eac",
   "metadata": {},
   "outputs": [
    {
     "data": {
      "text/plain": [
       "int"
      ]
     },
     "execution_count": 17,
     "metadata": {},
     "output_type": "execute_result"
    }
   ],
   "source": [
    "type(a)"
   ]
  },
  {
   "cell_type": "code",
   "execution_count": 18,
   "id": "458081ed-4469-4c80-9370-6c258bd44610",
   "metadata": {},
   "outputs": [
    {
     "data": {
      "text/plain": [
       "3.5999999999999996"
      ]
     },
     "execution_count": 18,
     "metadata": {},
     "output_type": "execute_result"
    }
   ],
   "source": [
    "a=1.2*3 \n",
    "a"
   ]
  },
  {
   "cell_type": "code",
   "execution_count": 19,
   "id": "787fc09e-5e63-4ec0-a2b6-f1a3e861ed19",
   "metadata": {},
   "outputs": [
    {
     "data": {
      "text/plain": [
       "float"
      ]
     },
     "execution_count": 19,
     "metadata": {},
     "output_type": "execute_result"
    }
   ],
   "source": [
    "type(a)"
   ]
  },
  {
   "cell_type": "code",
   "execution_count": 20,
   "id": "d4918e88-3b61-4b01-9e9c-a934dec4a562",
   "metadata": {},
   "outputs": [],
   "source": [
    "a=True \n",
    "b=False "
   ]
  },
  {
   "cell_type": "code",
   "execution_count": 23,
   "id": "43032e6e-a46c-4799-8ad0-58e3e531afaa",
   "metadata": {},
   "outputs": [
    {
     "data": {
      "text/plain": [
       "bool"
      ]
     },
     "execution_count": 23,
     "metadata": {},
     "output_type": "execute_result"
    }
   ],
   "source": [
    "type(a)"
   ]
  },
  {
   "cell_type": "markdown",
   "id": "a7cbee77-e332-4551-901b-858724fb6e1c",
   "metadata": {},
   "source": [
    "`-` 0차원 자료형이 int, bool, float 3개만 있는 것은 아니다. "
   ]
  },
  {
   "cell_type": "code",
   "execution_count": 24,
   "id": "7ac21b54-7099-492c-9348-93e5da2dc2c7",
   "metadata": {},
   "outputs": [],
   "source": [
    "a=1+1j\n",
    "b=2-2j"
   ]
  },
  {
   "cell_type": "code",
   "execution_count": 26,
   "id": "71db3ff2-42d8-4bd2-bed0-d2fb96fefc6e",
   "metadata": {},
   "outputs": [
    {
     "data": {
      "text/plain": [
       "complex"
      ]
     },
     "execution_count": 26,
     "metadata": {},
     "output_type": "execute_result"
    }
   ],
   "source": [
    "type(a)"
   ]
  },
  {
   "cell_type": "code",
   "execution_count": 28,
   "id": "fea9c9d8-cd43-44c5-9e1b-a531c42e4aae",
   "metadata": {},
   "outputs": [
    {
     "data": {
      "text/plain": [
       "(3-1j)"
      ]
     },
     "execution_count": 28,
     "metadata": {},
     "output_type": "execute_result"
    }
   ],
   "source": [
    "c=a+b\n",
    "c"
   ]
  },
  {
   "cell_type": "code",
   "execution_count": 29,
   "id": "d2d88f31-d524-48f4-8cb0-eca7e34a0671",
   "metadata": {},
   "outputs": [
    {
     "data": {
      "text/plain": [
       "complex"
      ]
     },
     "execution_count": 29,
     "metadata": {},
     "output_type": "execute_result"
    }
   ],
   "source": [
    "type(c)"
   ]
  },
  {
   "cell_type": "markdown",
   "id": "ea73e9d3-221b-40f2-99a0-11d4f4d8a775",
   "metadata": {},
   "source": [
    "- 잘 쓰지 않음 "
   ]
  },
  {
   "cell_type": "markdown",
   "id": "c18ba053-a95a-4048-9a44-52ae51be1068",
   "metadata": {},
   "source": [
    "### 0차원 자료형의 변환 "
   ]
  },
  {
   "cell_type": "markdown",
   "id": "cca714d5-7ad4-48f5-bae9-597ce085e805",
   "metadata": {},
   "source": [
    "`-` float $\\to$ int "
   ]
  },
  {
   "cell_type": "code",
   "execution_count": 33,
   "id": "d09b09b4-41b7-46fd-8d8e-eb9c247cbe49",
   "metadata": {},
   "outputs": [
    {
     "data": {
      "text/plain": [
       "3.14122222"
      ]
     },
     "execution_count": 33,
     "metadata": {},
     "output_type": "execute_result"
    }
   ],
   "source": [
    "a=3.14122222\n",
    "a"
   ]
  },
  {
   "cell_type": "code",
   "execution_count": 34,
   "id": "d73f7b50-c406-4ccf-8623-e2ee2ab04086",
   "metadata": {},
   "outputs": [
    {
     "data": {
      "text/plain": [
       "3"
      ]
     },
     "execution_count": 34,
     "metadata": {},
     "output_type": "execute_result"
    }
   ],
   "source": [
    "b=int(a)\n",
    "b"
   ]
  },
  {
   "cell_type": "markdown",
   "id": "914ddab5-d25b-49cc-84fb-a0747a1f9350",
   "metadata": {},
   "source": [
    "`-` int $\\to$ float "
   ]
  },
  {
   "cell_type": "code",
   "execution_count": 36,
   "id": "5fd81a5e-8ac4-49e2-a5ef-4937f0715022",
   "metadata": {},
   "outputs": [
    {
     "data": {
      "text/plain": [
       "int"
      ]
     },
     "execution_count": 36,
     "metadata": {},
     "output_type": "execute_result"
    }
   ],
   "source": [
    "a=3 \n",
    "type(a)"
   ]
  },
  {
   "cell_type": "code",
   "execution_count": 38,
   "id": "66882db1-343e-4fdb-91e6-8f3d62423001",
   "metadata": {},
   "outputs": [
    {
     "data": {
      "text/plain": [
       "float"
      ]
     },
     "execution_count": 38,
     "metadata": {},
     "output_type": "execute_result"
    }
   ],
   "source": [
    "b=float(a)\n",
    "type(b)"
   ]
  },
  {
   "cell_type": "markdown",
   "id": "7a083dd0-e864-41fb-8744-7a79598d20de",
   "metadata": {},
   "source": [
    "`-` bool $\\to$ int, bool $\\to$ float (이게 가능하지 않을것 같지만 사실 가능함)"
   ]
  },
  {
   "cell_type": "code",
   "execution_count": 42,
   "id": "5f05e13d-f17a-481d-961d-581d9446adfa",
   "metadata": {},
   "outputs": [
    {
     "data": {
      "text/plain": [
       "1"
      ]
     },
     "execution_count": 42,
     "metadata": {},
     "output_type": "execute_result"
    }
   ],
   "source": [
    "a=True\n",
    "int(a)"
   ]
  },
  {
   "cell_type": "code",
   "execution_count": 43,
   "id": "a085a93f-0b4f-470c-a2dc-2351213c3587",
   "metadata": {},
   "outputs": [
    {
     "data": {
      "text/plain": [
       "1.0"
      ]
     },
     "execution_count": 43,
     "metadata": {},
     "output_type": "execute_result"
    }
   ],
   "source": [
    "float(a)"
   ]
  },
  {
   "cell_type": "code",
   "execution_count": 44,
   "id": "519f8990-5aee-4201-832c-1a21332b1684",
   "metadata": {},
   "outputs": [
    {
     "data": {
      "text/plain": [
       "0"
      ]
     },
     "execution_count": 44,
     "metadata": {},
     "output_type": "execute_result"
    }
   ],
   "source": [
    "b=False\n",
    "int(b)"
   ]
  },
  {
   "cell_type": "code",
   "execution_count": 45,
   "id": "f3f0ddd7-4cf1-4c54-81b9-63b696a6929c",
   "metadata": {},
   "outputs": [
    {
     "data": {
      "text/plain": [
       "0.0"
      ]
     },
     "execution_count": 45,
     "metadata": {},
     "output_type": "execute_result"
    }
   ],
   "source": [
    "float(b)"
   ]
  },
  {
   "cell_type": "markdown",
   "id": "f1f541e9-722f-48ed-9daf-eaeca2189c08",
   "metadata": {},
   "source": [
    "`-` \"이런건 변환 못하겠지?\" 싶은것도 바꿔줌 "
   ]
  },
  {
   "cell_type": "code",
   "execution_count": 46,
   "id": "9fcc46b9-b25f-4916-a4f3-adad81cad00a",
   "metadata": {},
   "outputs": [
    {
     "data": {
      "text/plain": [
       "True"
      ]
     },
     "execution_count": 46,
     "metadata": {},
     "output_type": "execute_result"
    }
   ],
   "source": [
    "bool(-3.14)"
   ]
  },
  {
   "cell_type": "markdown",
   "id": "378ed339-d3cc-4394-b75c-86bb797851e7",
   "metadata": {},
   "source": [
    "- 저는 이런걸 쓰지 않아요.. "
   ]
  },
  {
   "cell_type": "markdown",
   "id": "ad5a9de0-a40e-4f0d-ab4c-cccb65219326",
   "metadata": {},
   "source": [
    "`-` 형변환이 항상 성공하는것은 아님 (규칙은 잘 모르겠음) "
   ]
  },
  {
   "cell_type": "code",
   "execution_count": 48,
   "id": "eb61c3a2-cc74-427a-9b53-6c62d47d7d73",
   "metadata": {},
   "outputs": [
    {
     "ename": "TypeError",
     "evalue": "can't convert complex to float",
     "output_type": "error",
     "traceback": [
      "\u001b[0;31m---------------------------------------------------------------------------\u001b[0m",
      "\u001b[0;31mTypeError\u001b[0m                                 Traceback (most recent call last)",
      "\u001b[0;32m<ipython-input-48-804a051fe87a>\u001b[0m in \u001b[0;36m<module>\u001b[0;34m\u001b[0m\n\u001b[0;32m----> 1\u001b[0;31m \u001b[0mfloat\u001b[0m\u001b[0;34m(\u001b[0m\u001b[0;36m3\u001b[0m\u001b[0;34m+\u001b[0m\u001b[0;36m0j\u001b[0m\u001b[0;34m)\u001b[0m\u001b[0;34m\u001b[0m\u001b[0;34m\u001b[0m\u001b[0m\n\u001b[0m",
      "\u001b[0;31mTypeError\u001b[0m: can't convert complex to float"
     ]
    }
   ],
   "source": [
    "float(3+0j)"
   ]
  },
  {
   "cell_type": "markdown",
   "id": "70ab22e2-c8ff-4701-81ca-b1ea52c6254a",
   "metadata": {},
   "source": [
    "`-` 묵시적 형변환 (약간 눈치주는 느낌) \n",
    "- explicit: 온풍기를 좀 키자.. \n",
    "- implicit: 날이 좀 춥지 않어..? (온풍기좀 틀자는 이야기) "
   ]
  },
  {
   "cell_type": "code",
   "execution_count": 50,
   "id": "4db7b50f-12c5-4c9c-82fa-5f0175fb6331",
   "metadata": {},
   "outputs": [
    {
     "data": {
      "text/plain": [
       "1"
      ]
     },
     "execution_count": 50,
     "metadata": {},
     "output_type": "execute_result"
    }
   ],
   "source": [
    "True*1 "
   ]
  },
  {
   "cell_type": "markdown",
   "id": "90781be2-fba3-4da8-92c4-54ef3040aefb",
   "metadata": {},
   "source": [
    "- 1을 곱해야하는데..? 너 계속 bool형태로 있을거야?? "
   ]
  },
  {
   "cell_type": "code",
   "execution_count": 51,
   "id": "1626041b-db86-4ae5-8b7a-96826bbea54f",
   "metadata": {},
   "outputs": [
    {
     "data": {
      "text/plain": [
       "1.0"
      ]
     },
     "execution_count": 51,
     "metadata": {},
     "output_type": "execute_result"
    }
   ],
   "source": [
    "1*1.0 "
   ]
  },
  {
   "cell_type": "markdown",
   "id": "1d6ef843-e832-486c-b38f-48c9e7f14553",
   "metadata": {},
   "source": [
    "- 1.0을 곱할건데..? 너 계속 int형으로 있을거야?? "
   ]
  },
  {
   "cell_type": "markdown",
   "id": "e1414888-b57b-4735-a950-c05e699bfdcd",
   "metadata": {},
   "source": [
    "### 1차원 자료형의 소개 "
   ]
  },
  {
   "cell_type": "markdown",
   "id": "ce44c039-7c19-4e33-a6e7-2db8c259bb8d",
   "metadata": {},
   "source": [
    "`-` 기본적인 1차원 자료형은 리스트와 튜플이 있다. "
   ]
  },
  {
   "cell_type": "code",
   "execution_count": 70,
   "id": "03cc1fb1-502e-4b05-88cf-7c4f9dc237d7",
   "metadata": {},
   "outputs": [
    {
     "data": {
      "text/plain": [
       "[1, 2, 3]"
      ]
     },
     "execution_count": 70,
     "metadata": {},
     "output_type": "execute_result"
    }
   ],
   "source": [
    "a=[1,2,3] ## 리스트 \n",
    "a"
   ]
  },
  {
   "cell_type": "code",
   "execution_count": 71,
   "id": "703ea3ab-05de-4e20-b507-7655e12c38b6",
   "metadata": {},
   "outputs": [
    {
     "data": {
      "text/plain": [
       "list"
      ]
     },
     "execution_count": 71,
     "metadata": {},
     "output_type": "execute_result"
    }
   ],
   "source": [
    "type(a)"
   ]
  },
  {
   "cell_type": "code",
   "execution_count": 72,
   "id": "262bed2c-ef6e-4af0-93b0-5e9c252ab772",
   "metadata": {},
   "outputs": [
    {
     "data": {
      "text/plain": [
       "(1, 2, 3)"
      ]
     },
     "execution_count": 72,
     "metadata": {},
     "output_type": "execute_result"
    }
   ],
   "source": [
    "b=(1,2,3) ## 튜플 \n",
    "b"
   ]
  },
  {
   "cell_type": "code",
   "execution_count": 73,
   "id": "e22568d9-97e3-4ed6-926d-b6a8fbcd286a",
   "metadata": {},
   "outputs": [
    {
     "data": {
      "text/plain": [
       "tuple"
      ]
     },
     "execution_count": 73,
     "metadata": {},
     "output_type": "execute_result"
    }
   ],
   "source": [
    "type(b)"
   ]
  },
  {
   "cell_type": "markdown",
   "id": "6e681ea0-b726-4ec4-a6b3-b2f647b22d32",
   "metadata": {},
   "source": [
    "`-` 리스트와 튜플 모두 원소에 접근하기 위해서 `[]`를 사용한다. (R과 동일) "
   ]
  },
  {
   "cell_type": "code",
   "execution_count": 55,
   "id": "4a8d6821-e2f4-4ffa-91b4-afd6bc5b84a2",
   "metadata": {},
   "outputs": [
    {
     "data": {
      "text/plain": [
       "1"
      ]
     },
     "execution_count": 55,
     "metadata": {},
     "output_type": "execute_result"
    }
   ],
   "source": [
    "a[0]"
   ]
  },
  {
   "cell_type": "code",
   "execution_count": 56,
   "id": "4e8fc654-129c-4413-9565-43ce686ead53",
   "metadata": {},
   "outputs": [
    {
     "data": {
      "text/plain": [
       "2"
      ]
     },
     "execution_count": 56,
     "metadata": {},
     "output_type": "execute_result"
    }
   ],
   "source": [
    "a[1]"
   ]
  },
  {
   "cell_type": "code",
   "execution_count": 57,
   "id": "f7cf2f63-27e5-4f3c-a329-9bc92a3d1d81",
   "metadata": {},
   "outputs": [
    {
     "data": {
      "text/plain": [
       "3"
      ]
     },
     "execution_count": 57,
     "metadata": {},
     "output_type": "execute_result"
    }
   ],
   "source": [
    "a[2]"
   ]
  },
  {
   "cell_type": "code",
   "execution_count": 58,
   "id": "4f490b4d-c3ed-48cf-a927-cb9aeddf53b7",
   "metadata": {},
   "outputs": [
    {
     "data": {
      "text/plain": [
       "1"
      ]
     },
     "execution_count": 58,
     "metadata": {},
     "output_type": "execute_result"
    }
   ],
   "source": [
    "b[0]"
   ]
  },
  {
   "cell_type": "code",
   "execution_count": 59,
   "id": "da66f355-c91b-4f93-b02c-b9485cace4b5",
   "metadata": {},
   "outputs": [
    {
     "data": {
      "text/plain": [
       "2"
      ]
     },
     "execution_count": 59,
     "metadata": {},
     "output_type": "execute_result"
    }
   ],
   "source": [
    "b[1]"
   ]
  },
  {
   "cell_type": "code",
   "execution_count": 60,
   "id": "e7ebd004-bc7c-4740-b38b-87301c2d85b8",
   "metadata": {},
   "outputs": [
    {
     "data": {
      "text/plain": [
       "3"
      ]
     },
     "execution_count": 60,
     "metadata": {},
     "output_type": "execute_result"
    }
   ],
   "source": [
    "b[2]"
   ]
  },
  {
   "cell_type": "markdown",
   "id": "158b72d6-1c5b-474b-9334-183ccc79c398",
   "metadata": {},
   "source": [
    "`-` 리스트는 원소의 값을 바꿀 수 있지만 튜플은 바꿀 수 없다. "
   ]
  },
  {
   "cell_type": "code",
   "execution_count": 61,
   "id": "8230bd50-7fbb-4730-b7e6-1545c7ad15e4",
   "metadata": {},
   "outputs": [
    {
     "data": {
      "text/plain": [
       "[1, 2, 3]"
      ]
     },
     "execution_count": 61,
     "metadata": {},
     "output_type": "execute_result"
    }
   ],
   "source": [
    "a"
   ]
  },
  {
   "cell_type": "code",
   "execution_count": 63,
   "id": "2074b70e-5686-4066-901c-544cf238afa4",
   "metadata": {},
   "outputs": [],
   "source": [
    "a[0]=100"
   ]
  },
  {
   "cell_type": "code",
   "execution_count": 64,
   "id": "2d4e15be-643a-4fd9-be81-4b2dbbf7e44d",
   "metadata": {},
   "outputs": [
    {
     "data": {
      "text/plain": [
       "[100, 2, 3]"
      ]
     },
     "execution_count": 64,
     "metadata": {},
     "output_type": "execute_result"
    }
   ],
   "source": [
    "a"
   ]
  },
  {
   "cell_type": "code",
   "execution_count": 65,
   "id": "587ec50c-c929-47b6-a8a7-e554c737d516",
   "metadata": {},
   "outputs": [
    {
     "data": {
      "text/plain": [
       "(1, 2, 3)"
      ]
     },
     "execution_count": 65,
     "metadata": {},
     "output_type": "execute_result"
    }
   ],
   "source": [
    "b"
   ]
  },
  {
   "cell_type": "code",
   "execution_count": 67,
   "id": "55218bbd-0dce-40a4-b6c9-f163bd484808",
   "metadata": {},
   "outputs": [
    {
     "ename": "TypeError",
     "evalue": "'tuple' object does not support item assignment",
     "output_type": "error",
     "traceback": [
      "\u001b[0;31m---------------------------------------------------------------------------\u001b[0m",
      "\u001b[0;31mTypeError\u001b[0m                                 Traceback (most recent call last)",
      "\u001b[0;32m<ipython-input-67-2a3fb166f233>\u001b[0m in \u001b[0;36m<module>\u001b[0;34m\u001b[0m\n\u001b[0;32m----> 1\u001b[0;31m \u001b[0mb\u001b[0m\u001b[0;34m[\u001b[0m\u001b[0;36m0\u001b[0m\u001b[0;34m]\u001b[0m\u001b[0;34m=\u001b[0m\u001b[0;36m100\u001b[0m\u001b[0;34m\u001b[0m\u001b[0;34m\u001b[0m\u001b[0m\n\u001b[0m",
      "\u001b[0;31mTypeError\u001b[0m: 'tuple' object does not support item assignment"
     ]
    }
   ],
   "source": [
    "b[0]=100"
   ]
  },
  {
   "cell_type": "markdown",
   "id": "47cfb318-9c57-47b9-9bbe-4dac2d9663d1",
   "metadata": {},
   "source": [
    "`-` 문자열도 1차원자료형으로 생각한다. (조금 의외임)"
   ]
  },
  {
   "cell_type": "code",
   "execution_count": 79,
   "id": "db1d25e8-d537-4e92-8bbb-9667da370686",
   "metadata": {},
   "outputs": [],
   "source": [
    "a='guebin' "
   ]
  },
  {
   "cell_type": "code",
   "execution_count": 80,
   "id": "c1543873-6ace-4070-b4bd-4d3949611640",
   "metadata": {},
   "outputs": [
    {
     "data": {
      "text/plain": [
       "str"
      ]
     },
     "execution_count": 80,
     "metadata": {},
     "output_type": "execute_result"
    }
   ],
   "source": [
    "type(a)"
   ]
  },
  {
   "cell_type": "code",
   "execution_count": 81,
   "id": "2227c55b-c6dc-4af2-a702-686f9e6e9e4c",
   "metadata": {},
   "outputs": [
    {
     "data": {
      "text/plain": [
       "'g'"
      ]
     },
     "execution_count": 81,
     "metadata": {},
     "output_type": "execute_result"
    }
   ],
   "source": [
    "a[0]"
   ]
  },
  {
   "cell_type": "code",
   "execution_count": 82,
   "id": "f14de04c-12f6-4932-acc6-bc5c4412f83d",
   "metadata": {},
   "outputs": [
    {
     "data": {
      "text/plain": [
       "'u'"
      ]
     },
     "execution_count": 82,
     "metadata": {},
     "output_type": "execute_result"
    }
   ],
   "source": [
    "a[1]"
   ]
  },
  {
   "cell_type": "markdown",
   "id": "7718bc82-7ecd-487f-946a-84a078b3ef38",
   "metadata": {},
   "source": [
    "`-` 그밖에 집합, 딕셔너리와 같은 1차원 자료형도 있다. (여기서는 자세히 다루지 않음) "
   ]
  },
  {
   "cell_type": "code",
   "execution_count": 86,
   "id": "89fe69b5-ee3a-4350-99f7-1e4f227376da",
   "metadata": {},
   "outputs": [],
   "source": [
    "s={1,2,3,4,4}"
   ]
  },
  {
   "cell_type": "code",
   "execution_count": 88,
   "id": "ae8393ee-0616-4013-bb10-308e6b64567b",
   "metadata": {},
   "outputs": [
    {
     "data": {
      "text/plain": [
       "{1, 2, 3, 4}"
      ]
     },
     "execution_count": 88,
     "metadata": {},
     "output_type": "execute_result"
    }
   ],
   "source": [
    "s"
   ]
  },
  {
   "cell_type": "code",
   "execution_count": 85,
   "id": "83044792-83b9-4b43-9f71-349fd7359fef",
   "metadata": {},
   "outputs": [
    {
     "data": {
      "text/plain": [
       "set"
      ]
     },
     "execution_count": 85,
     "metadata": {},
     "output_type": "execute_result"
    }
   ],
   "source": [
    "type(s)"
   ]
  },
  {
   "cell_type": "code",
   "execution_count": 90,
   "id": "0ae0c967-a845-4072-958e-99acc4421aae",
   "metadata": {},
   "outputs": [
    {
     "data": {
      "text/plain": [
       "{'a': 123, 'b': 234, 'c': 233}"
      ]
     },
     "execution_count": 90,
     "metadata": {},
     "output_type": "execute_result"
    }
   ],
   "source": [
    "d={'a':123,'b':234 ,'c':233}\n",
    "d"
   ]
  },
  {
   "cell_type": "code",
   "execution_count": 91,
   "id": "3c8bb6dc-f309-4f0c-8d2a-46b6b82e2f48",
   "metadata": {},
   "outputs": [
    {
     "data": {
      "text/plain": [
       "dict"
      ]
     },
     "execution_count": 91,
     "metadata": {},
     "output_type": "execute_result"
    }
   ],
   "source": [
    "type(d)"
   ]
  },
  {
   "cell_type": "code",
   "execution_count": 92,
   "id": "9d537728-1625-4342-b7d5-66a016fd4a4b",
   "metadata": {},
   "outputs": [
    {
     "data": {
      "text/plain": [
       "123"
      ]
     },
     "execution_count": 92,
     "metadata": {},
     "output_type": "execute_result"
    }
   ],
   "source": [
    "d['a']"
   ]
  },
  {
   "cell_type": "code",
   "execution_count": 93,
   "id": "67aaed65-85e9-44c8-a943-d195baa90fd2",
   "metadata": {},
   "outputs": [
    {
     "ename": "KeyError",
     "evalue": "0",
     "output_type": "error",
     "traceback": [
      "\u001b[0;31m---------------------------------------------------------------------------\u001b[0m",
      "\u001b[0;31mKeyError\u001b[0m                                  Traceback (most recent call last)",
      "\u001b[0;32m<ipython-input-93-123a9cc6df61>\u001b[0m in \u001b[0;36m<module>\u001b[0;34m\u001b[0m\n\u001b[0;32m----> 1\u001b[0;31m \u001b[0md\u001b[0m\u001b[0;34m[\u001b[0m\u001b[0;36m0\u001b[0m\u001b[0;34m]\u001b[0m\u001b[0;34m\u001b[0m\u001b[0;34m\u001b[0m\u001b[0m\n\u001b[0m",
      "\u001b[0;31mKeyError\u001b[0m: 0"
     ]
    }
   ],
   "source": [
    "d[0]"
   ]
  },
  {
   "cell_type": "markdown",
   "id": "765fb70c-35b8-499c-9de7-dce0cf22ac12",
   "metadata": {},
   "source": [
    "`-` 원소에 접근할 수 있는 자료형인지 없는 자료형인지 파악하는 방법? \n",
    "- dir()을 사용했을 경우 `__getitem__` 이 보이면 원소에 접근할 수 있는 자료형임. "
   ]
  },
  {
   "cell_type": "code",
   "execution_count": 104,
   "id": "6b3c0517-5ec5-4a2b-a6b4-c825935b76e6",
   "metadata": {},
   "outputs": [
    {
     "data": {
      "text/plain": [
       "\u001b[0;31mDocstring:\u001b[0m x.__getitem__(y) <==> x[y]\n",
       "\u001b[0;31mType:\u001b[0m      builtin_function_or_method\n"
      ]
     },
     "metadata": {},
     "output_type": "display_data"
    }
   ],
   "source": [
    "a=[1,2,3]\n",
    "a.__getitem__?"
   ]
  },
  {
   "cell_type": "code",
   "execution_count": 105,
   "id": "916207a4-7255-4a0f-880c-8acd301666bd",
   "metadata": {},
   "outputs": [
    {
     "data": {
      "text/plain": [
       "2"
      ]
     },
     "execution_count": 105,
     "metadata": {},
     "output_type": "execute_result"
    }
   ],
   "source": [
    "a.__getitem__(1) ## a[1]"
   ]
  },
  {
   "cell_type": "markdown",
   "id": "babe9961-000b-4326-a220-5a0b71fbaadb",
   "metadata": {},
   "source": [
    "### 리스트공부 1단계 "
   ]
  },
  {
   "cell_type": "markdown",
   "id": "e75f7158-e1a6-4e9c-8f7e-cde6a823e802",
   "metadata": {},
   "source": [
    "`-` 리스트의 선언 "
   ]
  },
  {
   "cell_type": "code",
   "execution_count": 106,
   "id": "b44b5c24-309c-48aa-9a80-1f85cc14573f",
   "metadata": {},
   "outputs": [
    {
     "data": {
      "text/plain": [
       "[1, 2, 3]"
      ]
     },
     "execution_count": 106,
     "metadata": {},
     "output_type": "execute_result"
    }
   ],
   "source": [
    "a=[1,2,3]\n",
    "a"
   ]
  },
  {
   "cell_type": "code",
   "execution_count": 107,
   "id": "ee1da0c8-fd2b-436d-8e19-69561bd609bd",
   "metadata": {},
   "outputs": [
    {
     "data": {
      "text/plain": [
       "list"
      ]
     },
     "execution_count": 107,
     "metadata": {},
     "output_type": "execute_result"
    }
   ],
   "source": [
    "type(a)"
   ]
  },
  {
   "cell_type": "markdown",
   "id": "2e6d75d2-7a2d-421e-853e-074ffbe3dede",
   "metadata": {},
   "source": [
    "`-` 비어있는 리스트를 선언 "
   ]
  },
  {
   "cell_type": "code",
   "execution_count": 109,
   "id": "c825f14d-c81e-42ac-a3e8-6f8da8d4c9bb",
   "metadata": {},
   "outputs": [
    {
     "data": {
      "text/plain": [
       "[]"
      ]
     },
     "execution_count": 109,
     "metadata": {},
     "output_type": "execute_result"
    }
   ],
   "source": [
    "a=list() ## 방법1\n",
    "a"
   ]
  },
  {
   "cell_type": "code",
   "execution_count": 111,
   "id": "bd428005-da6e-4ac6-bdb6-47434aadc600",
   "metadata": {},
   "outputs": [
    {
     "data": {
      "text/plain": [
       "[]"
      ]
     },
     "execution_count": 111,
     "metadata": {},
     "output_type": "execute_result"
    }
   ],
   "source": [
    "a=[] ## 방법2\n",
    "a"
   ]
  },
  {
   "cell_type": "markdown",
   "id": "faad43c7-6ba9-43c4-a959-b4600e8ae58b",
   "metadata": {},
   "source": [
    "`-` 리스트에서 `+`의 의미 "
   ]
  },
  {
   "cell_type": "code",
   "execution_count": 112,
   "id": "283355c2-ebcb-40d8-aaba-58ac89b5240d",
   "metadata": {},
   "outputs": [
    {
     "data": {
      "text/plain": [
       "[1, 2, 3, 4, 5, 6]"
      ]
     },
     "execution_count": 112,
     "metadata": {},
     "output_type": "execute_result"
    }
   ],
   "source": [
    "a=[1,2,3]\n",
    "b=[4,5,6] \n",
    "a+b "
   ]
  },
  {
   "cell_type": "markdown",
   "id": "ed255b3e-ba47-4b68-ae02-68cf891b06c9",
   "metadata": {},
   "source": [
    "- 충격.. 리스트에서는 + 연산자를 쓰면 우리가 상식적으로 생각하는 벡터연산이 수행되지 않음. "
   ]
  },
  {
   "cell_type": "markdown",
   "id": "286e9e88-fd9b-4234-855d-9963974fcc91",
   "metadata": {},
   "source": [
    "`-` 리스트에서 `*`의 의미 "
   ]
  },
  {
   "cell_type": "code",
   "execution_count": 117,
   "id": "455932ca-9bfe-483d-865e-8536616a7bf5",
   "metadata": {},
   "outputs": [
    {
     "data": {
      "text/plain": [
       "[1, 2, 3, 1, 2, 3]"
      ]
     },
     "execution_count": 117,
     "metadata": {},
     "output_type": "execute_result"
    }
   ],
   "source": [
    "a=[1,2,3]\n",
    "a+a"
   ]
  },
  {
   "cell_type": "code",
   "execution_count": 118,
   "id": "ce335de4-46bb-49ac-8a82-ae5bbc2d5d2b",
   "metadata": {},
   "outputs": [
    {
     "data": {
      "text/plain": [
       "[1, 2, 3, 1, 2, 3]"
      ]
     },
     "execution_count": 118,
     "metadata": {},
     "output_type": "execute_result"
    }
   ],
   "source": [
    "a*2 ## a+a?? "
   ]
  },
  {
   "cell_type": "code",
   "execution_count": 119,
   "id": "e1123988-be06-4ea0-9d1a-1d42b63286d1",
   "metadata": {},
   "outputs": [
    {
     "data": {
      "text/plain": [
       "[1, 1, 1, 1, 1, 1, 1, 1, 1, 1]"
      ]
     },
     "execution_count": 119,
     "metadata": {},
     "output_type": "execute_result"
    }
   ],
   "source": [
    "[1]*10 "
   ]
  },
  {
   "cell_type": "markdown",
   "id": "0897b666-e35d-4487-9957-c95bf2a33072",
   "metadata": {},
   "source": [
    "`-` 예제: 비어있는 리스트를 만들고 [1], [2], [3]을 각각 더하여 원소를 추가해보자. "
   ]
  },
  {
   "cell_type": "code",
   "execution_count": 127,
   "id": "e807bd0b-bffc-4428-b97b-c73a7474ed91",
   "metadata": {},
   "outputs": [
    {
     "data": {
      "text/plain": [
       "[]"
      ]
     },
     "execution_count": 127,
     "metadata": {},
     "output_type": "execute_result"
    }
   ],
   "source": [
    "a=[]\n",
    "a"
   ]
  },
  {
   "cell_type": "code",
   "execution_count": 124,
   "id": "45a2cc2a-501f-4456-8932-d1962a6bbcb6",
   "metadata": {},
   "outputs": [
    {
     "data": {
      "text/plain": [
       "[1]"
      ]
     },
     "execution_count": 124,
     "metadata": {},
     "output_type": "execute_result"
    }
   ],
   "source": [
    "a=a+[1] \n",
    "a"
   ]
  },
  {
   "cell_type": "code",
   "execution_count": 125,
   "id": "04dd2623-5883-4e8f-86db-5fd6b245d133",
   "metadata": {},
   "outputs": [
    {
     "data": {
      "text/plain": [
       "[1, 2]"
      ]
     },
     "execution_count": 125,
     "metadata": {},
     "output_type": "execute_result"
    }
   ],
   "source": [
    "a=a+[2]\n",
    "a"
   ]
  },
  {
   "cell_type": "code",
   "execution_count": 126,
   "id": "dcff8cbe-a3fe-4d4f-bcff-5cdfc5e3f719",
   "metadata": {},
   "outputs": [
    {
     "data": {
      "text/plain": [
       "[1, 2, 3]"
      ]
     },
     "execution_count": 126,
     "metadata": {},
     "output_type": "execute_result"
    }
   ],
   "source": [
    "a=a+[3]\n",
    "a"
   ]
  },
  {
   "cell_type": "markdown",
   "id": "094298b7-3d28-46d8-9c18-435f3c689bd0",
   "metadata": {},
   "source": [
    "### 리스트공부 2단계 "
   ]
  },
  {
   "cell_type": "markdown",
   "id": "93f26d29-b02a-4a27-a8ec-e7e71299f850",
   "metadata": {},
   "source": [
    "`-` 리스트에서 원소를 추가하는 또 다른 방법 "
   ]
  },
  {
   "cell_type": "code",
   "execution_count": 128,
   "id": "22288254-0df8-4b67-9a77-7887143d165d",
   "metadata": {},
   "outputs": [
    {
     "data": {
      "text/plain": [
       "[1, 2, 3]"
      ]
     },
     "execution_count": 128,
     "metadata": {},
     "output_type": "execute_result"
    }
   ],
   "source": [
    "a = [] \n",
    "a += [1] \n",
    "a += [2] \n",
    "a += [3] \n",
    "a"
   ]
  },
  {
   "cell_type": "markdown",
   "id": "1be851eb-081a-4210-9fe1-8539326f033d",
   "metadata": {},
   "source": [
    "`-` 리스트에서 원소를 추가하는 또 또 다른 방법 "
   ]
  },
  {
   "cell_type": "code",
   "execution_count": 129,
   "id": "45f10c7e-81f1-4739-8c34-22e539dfde07",
   "metadata": {},
   "outputs": [
    {
     "data": {
      "text/plain": [
       "[]"
      ]
     },
     "execution_count": 129,
     "metadata": {},
     "output_type": "execute_result"
    }
   ],
   "source": [
    "a=[]\n",
    "a"
   ]
  },
  {
   "cell_type": "code",
   "execution_count": 130,
   "id": "4c10ffc1-9f48-432c-aea9-91b78552ebbe",
   "metadata": {},
   "outputs": [
    {
     "data": {
      "text/plain": [
       "[1]"
      ]
     },
     "execution_count": 130,
     "metadata": {},
     "output_type": "execute_result"
    }
   ],
   "source": [
    "a.append(1)\n",
    "a"
   ]
  },
  {
   "cell_type": "code",
   "execution_count": 131,
   "id": "1533ad8c-4262-45d0-be1a-4b44119a3b6a",
   "metadata": {},
   "outputs": [
    {
     "data": {
      "text/plain": [
       "[1, 2]"
      ]
     },
     "execution_count": 131,
     "metadata": {},
     "output_type": "execute_result"
    }
   ],
   "source": [
    "a.append(2)\n",
    "a"
   ]
  },
  {
   "cell_type": "code",
   "execution_count": 132,
   "id": "4ce87483-4aeb-4007-8a44-3de99b8b8c61",
   "metadata": {},
   "outputs": [
    {
     "data": {
      "text/plain": [
       "[1, 2, 3]"
      ]
     },
     "execution_count": 132,
     "metadata": {},
     "output_type": "execute_result"
    }
   ],
   "source": [
    "a.append(3)\n",
    "a"
   ]
  },
  {
   "cell_type": "markdown",
   "id": "d37cd05f-ddc5-46cc-9603-7c2cfc17a0b3",
   "metadata": {},
   "source": [
    "`-` `a.append(1)`이라는 문법이 너무 낯설어요 $\\to$ 당연해요\n",
    "- 파이썬 특징: 모든 변수명 뒤에 `.`을 붙이면 그 변수에 특화된 새로운 기능을 쓸 수 있다. (파이썬에서 변수는 단순히 정보가 담긴 그릇을 의미하는 것이 아니다. 기능이 있다.)\n",
    "- 장점: 초보자라도 눈치껏 문법을 배우기 편하다. \n",
    "- 단점: 처음에는 너무 이해하기 난해함. "
   ]
  },
  {
   "cell_type": "markdown",
   "id": "86c12b66-1454-4179-a20a-7c82e3599b93",
   "metadata": {},
   "source": [
    "`-` 마음의 눈 \n",
    "- `a.f() = f(a)` 로 생각하면 편리함\n",
    "- `a.f(2) = f(a,2)` 로 생각하면 편리함. \n",
    "- 이러한 점에서 R의 `%>%` 연산자와 유사하다고 생각할 수 있음 (사실 약간 다르긴해요) "
   ]
  },
  {
   "cell_type": "markdown",
   "id": "aa0f7eed-c282-4e2a-969c-339ea790f753",
   "metadata": {},
   "source": [
    "`-` 리스트 특화기능 (=특화함수=메소드) "
   ]
  },
  {
   "cell_type": "markdown",
   "id": "6ae4f8ce-ff78-4e49-84fe-e5991ba830af",
   "metadata": {},
   "source": [
    "**(append)**"
   ]
  },
  {
   "cell_type": "code",
   "execution_count": 135,
   "id": "bbf0eacf-c979-4550-a1cc-25d4178fcd0f",
   "metadata": {},
   "outputs": [
    {
     "data": {
      "text/plain": [
       "\u001b[0;31mSignature:\u001b[0m \u001b[0ma\u001b[0m\u001b[0;34m.\u001b[0m\u001b[0mappend\u001b[0m\u001b[0;34m(\u001b[0m\u001b[0mobject\u001b[0m\u001b[0;34m,\u001b[0m \u001b[0;34m/\u001b[0m\u001b[0;34m)\u001b[0m\u001b[0;34m\u001b[0m\u001b[0;34m\u001b[0m\u001b[0m\n",
       "\u001b[0;31mDocstring:\u001b[0m Append object to the end of the list.\n",
       "\u001b[0;31mType:\u001b[0m      builtin_function_or_method\n"
      ]
     },
     "metadata": {},
     "output_type": "display_data"
    }
   ],
   "source": [
    "a.append?"
   ]
  },
  {
   "cell_type": "code",
   "execution_count": 147,
   "id": "4cbadd86-3fe6-4117-a1ab-b9c9cd3f7e0e",
   "metadata": {},
   "outputs": [
    {
     "data": {
      "text/plain": [
       "[1, 2, 3, 4]"
      ]
     },
     "execution_count": 147,
     "metadata": {},
     "output_type": "execute_result"
    }
   ],
   "source": [
    "a=[1,2,3]\n",
    "a.append(4)\n",
    "a"
   ]
  },
  {
   "cell_type": "markdown",
   "id": "7ee75074-e1ec-43f0-a4b3-8f95b3c89373",
   "metadata": {},
   "source": [
    "**(clear)**"
   ]
  },
  {
   "cell_type": "code",
   "execution_count": 136,
   "id": "015954de-3c3d-4e3a-ad75-db32a962bcca",
   "metadata": {},
   "outputs": [
    {
     "data": {
      "text/plain": [
       "\u001b[0;31mSignature:\u001b[0m \u001b[0ma\u001b[0m\u001b[0;34m.\u001b[0m\u001b[0mclear\u001b[0m\u001b[0;34m(\u001b[0m\u001b[0;34m)\u001b[0m\u001b[0;34m\u001b[0m\u001b[0;34m\u001b[0m\u001b[0m\n",
       "\u001b[0;31mDocstring:\u001b[0m Remove all items from list.\n",
       "\u001b[0;31mType:\u001b[0m      builtin_function_or_method\n"
      ]
     },
     "metadata": {},
     "output_type": "display_data"
    }
   ],
   "source": [
    "a.clear?"
   ]
  },
  {
   "cell_type": "code",
   "execution_count": 149,
   "id": "4da84ad3-6585-4876-9982-79cf9d07e263",
   "metadata": {},
   "outputs": [
    {
     "data": {
      "text/plain": [
       "[]"
      ]
     },
     "execution_count": 149,
     "metadata": {},
     "output_type": "execute_result"
    }
   ],
   "source": [
    "a=[1,2,3]\n",
    "a.clear()\n",
    "a"
   ]
  },
  {
   "cell_type": "markdown",
   "id": "07859590-7503-4d7c-b819-b39736801b66",
   "metadata": {},
   "source": [
    "**(copy)**"
   ]
  },
  {
   "cell_type": "code",
   "execution_count": 137,
   "id": "8ac39f63-0d64-4578-bb3f-48151d20d45d",
   "metadata": {},
   "outputs": [
    {
     "data": {
      "text/plain": [
       "\u001b[0;31mSignature:\u001b[0m \u001b[0ma\u001b[0m\u001b[0;34m.\u001b[0m\u001b[0mcopy\u001b[0m\u001b[0;34m(\u001b[0m\u001b[0;34m)\u001b[0m\u001b[0;34m\u001b[0m\u001b[0;34m\u001b[0m\u001b[0m\n",
       "\u001b[0;31mDocstring:\u001b[0m Return a shallow copy of the list.\n",
       "\u001b[0;31mType:\u001b[0m      builtin_function_or_method\n"
      ]
     },
     "metadata": {},
     "output_type": "display_data"
    }
   ],
   "source": [
    "a.copy?"
   ]
  },
  {
   "cell_type": "code",
   "execution_count": 151,
   "id": "dfec18c7-9fb6-44b4-bd6b-18c73713c6a4",
   "metadata": {},
   "outputs": [
    {
     "data": {
      "text/plain": [
       "[1, 2, 3]"
      ]
     },
     "execution_count": 151,
     "metadata": {},
     "output_type": "execute_result"
    }
   ],
   "source": [
    "a=[1,2,3]\n",
    "b=a.copy()\n",
    "b"
   ]
  },
  {
   "cell_type": "markdown",
   "id": "edba42c0-433f-482f-b16c-bdb8c653a673",
   "metadata": {},
   "source": [
    "**(count)**"
   ]
  },
  {
   "cell_type": "code",
   "execution_count": 160,
   "id": "0fe2ea3e-bc0b-4a58-a319-b6c8cbd1c434",
   "metadata": {},
   "outputs": [
    {
     "data": {
      "text/plain": [
       "\u001b[0;31mSignature:\u001b[0m \u001b[0ma\u001b[0m\u001b[0;34m.\u001b[0m\u001b[0mcount\u001b[0m\u001b[0;34m(\u001b[0m\u001b[0mvalue\u001b[0m\u001b[0;34m,\u001b[0m \u001b[0;34m/\u001b[0m\u001b[0;34m)\u001b[0m\u001b[0;34m\u001b[0m\u001b[0;34m\u001b[0m\u001b[0m\n",
       "\u001b[0;31mDocstring:\u001b[0m Return number of occurrences of value.\n",
       "\u001b[0;31mType:\u001b[0m      builtin_function_or_method\n"
      ]
     },
     "metadata": {},
     "output_type": "display_data"
    }
   ],
   "source": [
    "a.count?"
   ]
  },
  {
   "cell_type": "code",
   "execution_count": 165,
   "id": "dcc98cc8-5b28-48ad-ada1-f85809213182",
   "metadata": {},
   "outputs": [
    {
     "data": {
      "text/plain": [
       "2"
      ]
     },
     "execution_count": 165,
     "metadata": {},
     "output_type": "execute_result"
    }
   ],
   "source": [
    "a=[1,1,2,3.14,3.14]\n",
    "a.count(3.14)"
   ]
  },
  {
   "cell_type": "markdown",
   "id": "8ffc3e26-c0bd-4346-be41-52a9eadacb7f",
   "metadata": {},
   "source": [
    "**(extend)**"
   ]
  },
  {
   "cell_type": "code",
   "execution_count": 138,
   "id": "edaf0051-b397-4bbb-8235-b81a534d212b",
   "metadata": {},
   "outputs": [
    {
     "data": {
      "text/plain": [
       "\u001b[0;31mSignature:\u001b[0m \u001b[0ma\u001b[0m\u001b[0;34m.\u001b[0m\u001b[0mextend\u001b[0m\u001b[0;34m(\u001b[0m\u001b[0miterable\u001b[0m\u001b[0;34m,\u001b[0m \u001b[0;34m/\u001b[0m\u001b[0;34m)\u001b[0m\u001b[0;34m\u001b[0m\u001b[0;34m\u001b[0m\u001b[0m\n",
       "\u001b[0;31mDocstring:\u001b[0m Extend list by appending elements from the iterable.\n",
       "\u001b[0;31mType:\u001b[0m      builtin_function_or_method\n"
      ]
     },
     "metadata": {},
     "output_type": "display_data"
    }
   ],
   "source": [
    "a.extend?"
   ]
  },
  {
   "cell_type": "code",
   "execution_count": 154,
   "id": "5b091bcb-4b8d-43ae-b798-c807e07890f6",
   "metadata": {},
   "outputs": [
    {
     "data": {
      "text/plain": [
       "[1, 2, 3, 1, 2, 3, 4, 5, 6]"
      ]
     },
     "execution_count": 154,
     "metadata": {},
     "output_type": "execute_result"
    }
   ],
   "source": [
    "a=[1,2,3]\n",
    "b=[1,2,3,4,5,6]\n",
    "a.extend(b)\n",
    "a"
   ]
  },
  {
   "cell_type": "markdown",
   "id": "b9a7571a-d29f-49ca-8bc2-84c4ffc1e5c1",
   "metadata": {},
   "source": [
    "**(index)**"
   ]
  },
  {
   "cell_type": "code",
   "execution_count": 139,
   "id": "d213f6b8-31ad-4600-90b0-f9feed8f8cf2",
   "metadata": {},
   "outputs": [
    {
     "data": {
      "text/plain": [
       "\u001b[0;31mSignature:\u001b[0m \u001b[0ma\u001b[0m\u001b[0;34m.\u001b[0m\u001b[0mindex\u001b[0m\u001b[0;34m(\u001b[0m\u001b[0mvalue\u001b[0m\u001b[0;34m,\u001b[0m \u001b[0mstart\u001b[0m\u001b[0;34m=\u001b[0m\u001b[0;36m0\u001b[0m\u001b[0;34m,\u001b[0m \u001b[0mstop\u001b[0m\u001b[0;34m=\u001b[0m\u001b[0;36m9223372036854775807\u001b[0m\u001b[0;34m,\u001b[0m \u001b[0;34m/\u001b[0m\u001b[0;34m)\u001b[0m\u001b[0;34m\u001b[0m\u001b[0;34m\u001b[0m\u001b[0m\n",
       "\u001b[0;31mDocstring:\u001b[0m\n",
       "Return first index of value.\n",
       "\n",
       "Raises ValueError if the value is not present.\n",
       "\u001b[0;31mType:\u001b[0m      builtin_function_or_method\n"
      ]
     },
     "metadata": {},
     "output_type": "display_data"
    }
   ],
   "source": [
    "a.index?"
   ]
  },
  {
   "cell_type": "code",
   "execution_count": 158,
   "id": "e1a12c9d-b4a2-43e8-9c2f-f4300126b7ca",
   "metadata": {},
   "outputs": [
    {
     "data": {
      "text/plain": [
       "6"
      ]
     },
     "execution_count": 158,
     "metadata": {},
     "output_type": "execute_result"
    }
   ],
   "source": [
    "a=[1,2,3,3,4,4,5,6]\n",
    "a.index(5)"
   ]
  },
  {
   "cell_type": "markdown",
   "id": "f98376e7-3cd7-49d9-8410-df0f53e5694a",
   "metadata": {},
   "source": [
    "**(insert)**"
   ]
  },
  {
   "cell_type": "code",
   "execution_count": 140,
   "id": "586fce1e-45ec-4564-b690-c999acf89989",
   "metadata": {},
   "outputs": [
    {
     "data": {
      "text/plain": [
       "\u001b[0;31mSignature:\u001b[0m \u001b[0ma\u001b[0m\u001b[0;34m.\u001b[0m\u001b[0minsert\u001b[0m\u001b[0;34m(\u001b[0m\u001b[0mindex\u001b[0m\u001b[0;34m,\u001b[0m \u001b[0mobject\u001b[0m\u001b[0;34m,\u001b[0m \u001b[0;34m/\u001b[0m\u001b[0;34m)\u001b[0m\u001b[0;34m\u001b[0m\u001b[0;34m\u001b[0m\u001b[0m\n",
       "\u001b[0;31mDocstring:\u001b[0m Insert object before index.\n",
       "\u001b[0;31mType:\u001b[0m      builtin_function_or_method\n"
      ]
     },
     "metadata": {},
     "output_type": "display_data"
    }
   ],
   "source": [
    "a.insert?"
   ]
  },
  {
   "cell_type": "code",
   "execution_count": 159,
   "id": "bd64bb45-6a54-4c6c-a95b-31d59c34a732",
   "metadata": {},
   "outputs": [
    {
     "data": {
      "text/plain": [
       "[88, 1, 2, 3]"
      ]
     },
     "execution_count": 159,
     "metadata": {},
     "output_type": "execute_result"
    }
   ],
   "source": [
    "a=[1,2,3]\n",
    "a.insert(0,88)\n",
    "a"
   ]
  },
  {
   "cell_type": "markdown",
   "id": "6abe8491-9f9f-4ae3-99ff-805ac91dcb15",
   "metadata": {},
   "source": [
    "**(pop)**"
   ]
  },
  {
   "cell_type": "code",
   "execution_count": 141,
   "id": "51c0098a-16ac-49f7-b24f-cb026fdac8de",
   "metadata": {},
   "outputs": [
    {
     "data": {
      "text/plain": [
       "\u001b[0;31mSignature:\u001b[0m \u001b[0ma\u001b[0m\u001b[0;34m.\u001b[0m\u001b[0mpop\u001b[0m\u001b[0;34m(\u001b[0m\u001b[0mindex\u001b[0m\u001b[0;34m=\u001b[0m\u001b[0;34m-\u001b[0m\u001b[0;36m1\u001b[0m\u001b[0;34m,\u001b[0m \u001b[0;34m/\u001b[0m\u001b[0;34m)\u001b[0m\u001b[0;34m\u001b[0m\u001b[0;34m\u001b[0m\u001b[0m\n",
       "\u001b[0;31mDocstring:\u001b[0m\n",
       "Remove and return item at index (default last).\n",
       "\n",
       "Raises IndexError if list is empty or index is out of range.\n",
       "\u001b[0;31mType:\u001b[0m      builtin_function_or_method\n"
      ]
     },
     "metadata": {},
     "output_type": "display_data"
    }
   ],
   "source": [
    "a.pop?"
   ]
  },
  {
   "cell_type": "code",
   "execution_count": 168,
   "id": "dac1915c-6699-4251-a7c3-1b7631bb192d",
   "metadata": {},
   "outputs": [
    {
     "data": {
      "text/plain": [
       "[1, 2, 3]"
      ]
     },
     "execution_count": 168,
     "metadata": {},
     "output_type": "execute_result"
    }
   ],
   "source": [
    "a=[1,2,3,4]\n",
    "a.pop()\n",
    "a"
   ]
  },
  {
   "cell_type": "code",
   "execution_count": 169,
   "id": "0325850f-14fa-45e6-921f-9e287f99ea6c",
   "metadata": {},
   "outputs": [
    {
     "data": {
      "text/plain": [
       "[1, 2]"
      ]
     },
     "execution_count": 169,
     "metadata": {},
     "output_type": "execute_result"
    }
   ],
   "source": [
    "a.pop()\n",
    "a"
   ]
  },
  {
   "cell_type": "code",
   "execution_count": 170,
   "id": "58461215-3f34-4830-8377-172ce14defe5",
   "metadata": {},
   "outputs": [
    {
     "data": {
      "text/plain": [
       "[1]"
      ]
     },
     "execution_count": 170,
     "metadata": {},
     "output_type": "execute_result"
    }
   ],
   "source": [
    "a.pop()\n",
    "a"
   ]
  },
  {
   "cell_type": "code",
   "execution_count": 171,
   "id": "1ebcd3d0-e5e4-4775-92df-e2926749d491",
   "metadata": {},
   "outputs": [
    {
     "data": {
      "text/plain": [
       "[]"
      ]
     },
     "execution_count": 171,
     "metadata": {},
     "output_type": "execute_result"
    }
   ],
   "source": [
    "a.pop()\n",
    "a"
   ]
  },
  {
   "cell_type": "markdown",
   "id": "2bf32282-3e3c-4ee0-92f8-f6c85119f1a5",
   "metadata": {},
   "source": [
    "**(remove)**"
   ]
  },
  {
   "cell_type": "code",
   "execution_count": 142,
   "id": "987154f1-0e75-46f9-8d5e-4ebe311ce489",
   "metadata": {},
   "outputs": [
    {
     "data": {
      "text/plain": [
       "\u001b[0;31mSignature:\u001b[0m \u001b[0ma\u001b[0m\u001b[0;34m.\u001b[0m\u001b[0mremove\u001b[0m\u001b[0;34m(\u001b[0m\u001b[0mvalue\u001b[0m\u001b[0;34m,\u001b[0m \u001b[0;34m/\u001b[0m\u001b[0;34m)\u001b[0m\u001b[0;34m\u001b[0m\u001b[0;34m\u001b[0m\u001b[0m\n",
       "\u001b[0;31mDocstring:\u001b[0m\n",
       "Remove first occurrence of value.\n",
       "\n",
       "Raises ValueError if the value is not present.\n",
       "\u001b[0;31mType:\u001b[0m      builtin_function_or_method\n"
      ]
     },
     "metadata": {},
     "output_type": "display_data"
    }
   ],
   "source": [
    "a.remove?"
   ]
  },
  {
   "cell_type": "code",
   "execution_count": 174,
   "id": "96f96106-f9fc-4667-88ab-e0d6eb12280c",
   "metadata": {},
   "outputs": [],
   "source": [
    "a=[1,2,3,44]\n",
    "a.remove(44)"
   ]
  },
  {
   "cell_type": "code",
   "execution_count": 175,
   "id": "f77c8261-6889-4782-9519-13a246477049",
   "metadata": {},
   "outputs": [
    {
     "data": {
      "text/plain": [
       "[1, 2, 3]"
      ]
     },
     "execution_count": 175,
     "metadata": {},
     "output_type": "execute_result"
    }
   ],
   "source": [
    "a"
   ]
  },
  {
   "cell_type": "markdown",
   "id": "7c32d8db-7336-413c-87b7-07a07ab22a49",
   "metadata": {},
   "source": [
    "**(reverse)**"
   ]
  },
  {
   "cell_type": "code",
   "execution_count": 143,
   "id": "bb378de7-7401-482d-94a9-eeed259d10a6",
   "metadata": {},
   "outputs": [
    {
     "data": {
      "text/plain": [
       "\u001b[0;31mSignature:\u001b[0m \u001b[0ma\u001b[0m\u001b[0;34m.\u001b[0m\u001b[0mreverse\u001b[0m\u001b[0;34m(\u001b[0m\u001b[0;34m)\u001b[0m\u001b[0;34m\u001b[0m\u001b[0;34m\u001b[0m\u001b[0m\n",
       "\u001b[0;31mDocstring:\u001b[0m Reverse *IN PLACE*.\n",
       "\u001b[0;31mType:\u001b[0m      builtin_function_or_method\n"
      ]
     },
     "metadata": {},
     "output_type": "display_data"
    }
   ],
   "source": [
    "a.reverse?"
   ]
  },
  {
   "cell_type": "code",
   "execution_count": 176,
   "id": "d96d3b3a-3fab-481b-a59d-07baa055dcb5",
   "metadata": {},
   "outputs": [
    {
     "data": {
      "text/plain": [
       "[3, 2, 1]"
      ]
     },
     "execution_count": 176,
     "metadata": {},
     "output_type": "execute_result"
    }
   ],
   "source": [
    "a=[1,2,3]\n",
    "a.reverse()\n",
    "a"
   ]
  },
  {
   "cell_type": "markdown",
   "id": "9cc4f252-8b64-47ce-9942-e0cb28d93c05",
   "metadata": {},
   "source": [
    "**(sort)**"
   ]
  },
  {
   "cell_type": "code",
   "execution_count": 144,
   "id": "0d8b35f8-60f7-4279-8a72-a5cf504f2c04",
   "metadata": {},
   "outputs": [
    {
     "data": {
      "text/plain": [
       "\u001b[0;31mSignature:\u001b[0m \u001b[0ma\u001b[0m\u001b[0;34m.\u001b[0m\u001b[0msort\u001b[0m\u001b[0;34m(\u001b[0m\u001b[0;34m*\u001b[0m\u001b[0;34m,\u001b[0m \u001b[0mkey\u001b[0m\u001b[0;34m=\u001b[0m\u001b[0;32mNone\u001b[0m\u001b[0;34m,\u001b[0m \u001b[0mreverse\u001b[0m\u001b[0;34m=\u001b[0m\u001b[0;32mFalse\u001b[0m\u001b[0;34m)\u001b[0m\u001b[0;34m\u001b[0m\u001b[0;34m\u001b[0m\u001b[0m\n",
       "\u001b[0;31mDocstring:\u001b[0m\n",
       "Sort the list in ascending order and return None.\n",
       "\n",
       "The sort is in-place (i.e. the list itself is modified) and stable (i.e. the\n",
       "order of two equal elements is maintained).\n",
       "\n",
       "If a key function is given, apply it once to each list item and sort them,\n",
       "ascending or descending, according to their function values.\n",
       "\n",
       "The reverse flag can be set to sort in descending order.\n",
       "\u001b[0;31mType:\u001b[0m      builtin_function_or_method\n"
      ]
     },
     "metadata": {},
     "output_type": "display_data"
    }
   ],
   "source": [
    "a.sort?"
   ]
  },
  {
   "cell_type": "code",
   "execution_count": 177,
   "id": "1ca483db-ab0b-41a3-acae-85406e6934f5",
   "metadata": {},
   "outputs": [
    {
     "data": {
      "text/plain": [
       "[1, 2, 3, 4]"
      ]
     },
     "execution_count": 177,
     "metadata": {},
     "output_type": "execute_result"
    }
   ],
   "source": [
    "a=[1,3,2,4]\n",
    "a.sort()\n",
    "a"
   ]
  },
  {
   "cell_type": "markdown",
   "id": "abc744a7-6883-48e3-8f20-6acc42361523",
   "metadata": {},
   "source": [
    "### 리스트공부 3단계 "
   ]
  },
  {
   "cell_type": "markdown",
   "id": "df64b5fc-f02b-4357-aad4-aa92a8bb1303",
   "metadata": {},
   "source": [
    "#### 리스트의 뺄셈과 나눗셈 "
   ]
  },
  {
   "cell_type": "markdown",
   "id": "e3c7a35d-3d85-4549-8bc4-a0047dd707ae",
   "metadata": {},
   "source": [
    "`-` 리스트의 뺄셈: 이런건 없다. "
   ]
  },
  {
   "cell_type": "code",
   "execution_count": 178,
   "id": "9a7061d9-e41c-47e9-92a3-14e52d897d07",
   "metadata": {},
   "outputs": [
    {
     "ename": "TypeError",
     "evalue": "unsupported operand type(s) for -: 'list' and 'list'",
     "output_type": "error",
     "traceback": [
      "\u001b[0;31m---------------------------------------------------------------------------\u001b[0m",
      "\u001b[0;31mTypeError\u001b[0m                                 Traceback (most recent call last)",
      "\u001b[0;32m<ipython-input-178-fcd9077664c1>\u001b[0m in \u001b[0;36m<module>\u001b[0;34m\u001b[0m\n\u001b[1;32m      1\u001b[0m \u001b[0ma\u001b[0m\u001b[0;34m=\u001b[0m\u001b[0;34m[\u001b[0m\u001b[0;36m1\u001b[0m\u001b[0;34m,\u001b[0m\u001b[0;36m2\u001b[0m\u001b[0;34m,\u001b[0m\u001b[0;36m3\u001b[0m\u001b[0;34m,\u001b[0m\u001b[0;36m4\u001b[0m\u001b[0;34m]\u001b[0m\u001b[0;34m\u001b[0m\u001b[0;34m\u001b[0m\u001b[0m\n\u001b[0;32m----> 2\u001b[0;31m \u001b[0ma\u001b[0m\u001b[0;34m-\u001b[0m\u001b[0;34m[\u001b[0m\u001b[0;36m1\u001b[0m\u001b[0;34m]\u001b[0m\u001b[0;34m\u001b[0m\u001b[0;34m\u001b[0m\u001b[0m\n\u001b[0m",
      "\u001b[0;31mTypeError\u001b[0m: unsupported operand type(s) for -: 'list' and 'list'"
     ]
    }
   ],
   "source": [
    "a=[1,2,3,4]\n",
    "a-[1]"
   ]
  },
  {
   "cell_type": "markdown",
   "id": "1eba2541-a363-43d8-8319-d2fc357d6568",
   "metadata": {},
   "source": [
    "`-` 리스트의 나눗셈: 이런건 없다. "
   ]
  },
  {
   "cell_type": "code",
   "execution_count": 179,
   "id": "bc20a683-843f-4b78-a56d-85c02d8e8e97",
   "metadata": {},
   "outputs": [
    {
     "ename": "TypeError",
     "evalue": "unsupported operand type(s) for /: 'list' and 'int'",
     "output_type": "error",
     "traceback": [
      "\u001b[0;31m---------------------------------------------------------------------------\u001b[0m",
      "\u001b[0;31mTypeError\u001b[0m                                 Traceback (most recent call last)",
      "\u001b[0;32m<ipython-input-179-0f405c3ca648>\u001b[0m in \u001b[0;36m<module>\u001b[0;34m\u001b[0m\n\u001b[1;32m      1\u001b[0m \u001b[0ma\u001b[0m\u001b[0;34m=\u001b[0m\u001b[0;34m[\u001b[0m\u001b[0;36m1\u001b[0m\u001b[0;34m,\u001b[0m\u001b[0;36m2\u001b[0m\u001b[0;34m,\u001b[0m\u001b[0;36m3\u001b[0m\u001b[0;34m,\u001b[0m\u001b[0;36m1\u001b[0m\u001b[0;34m,\u001b[0m\u001b[0;36m2\u001b[0m\u001b[0;34m,\u001b[0m\u001b[0;36m3\u001b[0m\u001b[0;34m]\u001b[0m\u001b[0;34m\u001b[0m\u001b[0;34m\u001b[0m\u001b[0m\n\u001b[0;32m----> 2\u001b[0;31m \u001b[0ma\u001b[0m\u001b[0;34m/\u001b[0m\u001b[0;36m2\u001b[0m\u001b[0;34m\u001b[0m\u001b[0;34m\u001b[0m\u001b[0m\n\u001b[0m",
      "\u001b[0;31mTypeError\u001b[0m: unsupported operand type(s) for /: 'list' and 'int'"
     ]
    }
   ],
   "source": [
    "a=[1,2,3,1,2,3]\n",
    "a/2 "
   ]
  },
  {
   "cell_type": "markdown",
   "id": "8f9a7a26-6cb0-4c54-929f-7e2c57d03578",
   "metadata": {},
   "source": [
    "#### a.append(4) 와 a+[4] 의 차이점? "
   ]
  },
  {
   "cell_type": "markdown",
   "id": "c60e02a9-ec87-4fc7-85ca-a82f65641b93",
   "metadata": {},
   "source": [
    "`-` a=a+[4]: a는 변화하지 않음. "
   ]
  },
  {
   "cell_type": "code",
   "execution_count": 180,
   "id": "b57359b6-9698-4de5-ba07-5514ce4e130c",
   "metadata": {},
   "outputs": [
    {
     "data": {
      "text/plain": [
       "[1, 2, 3, 4]"
      ]
     },
     "execution_count": 180,
     "metadata": {},
     "output_type": "execute_result"
    }
   ],
   "source": [
    "a=[1,2,3]\n",
    "a+[4]"
   ]
  },
  {
   "cell_type": "code",
   "execution_count": 181,
   "id": "48059416-b911-458c-90f1-7da0557ef80f",
   "metadata": {},
   "outputs": [
    {
     "data": {
      "text/plain": [
       "[1, 2, 3]"
      ]
     },
     "execution_count": 181,
     "metadata": {},
     "output_type": "execute_result"
    }
   ],
   "source": [
    "a"
   ]
  },
  {
   "cell_type": "markdown",
   "id": "fcb943b1-3e41-461a-8592-5dcb96db1d0a",
   "metadata": {},
   "source": [
    "`-` a.append(4): a자체가 변화함  "
   ]
  },
  {
   "cell_type": "code",
   "execution_count": 182,
   "id": "3a8c6f4b-b2dd-410b-ba11-6586d4629bec",
   "metadata": {},
   "outputs": [
    {
     "data": {
      "text/plain": [
       "[1, 2, 3, 4]"
      ]
     },
     "execution_count": 182,
     "metadata": {},
     "output_type": "execute_result"
    }
   ],
   "source": [
    "a=[1,2,3]\n",
    "a.append(4)\n",
    "a"
   ]
  },
  {
   "cell_type": "markdown",
   "id": "620bc31e-452d-4a26-8f93-e0999cec7e1c",
   "metadata": {},
   "source": [
    "`-` 보통 메소드를 쓰면 a자체가 변화할때가 많다. "
   ]
  },
  {
   "cell_type": "code",
   "execution_count": 183,
   "id": "6d802bfc-5101-49a7-8626-493a90d1946b",
   "metadata": {},
   "outputs": [
    {
     "data": {
      "text/plain": [
       "[3, 2, 1]"
      ]
     },
     "execution_count": 183,
     "metadata": {},
     "output_type": "execute_result"
    }
   ],
   "source": [
    "a=[1,2,3]\n",
    "a.reverse()\n",
    "a"
   ]
  },
  {
   "cell_type": "markdown",
   "id": "ad817a81-0e2c-4d42-a17e-21741c3cab3d",
   "metadata": {},
   "source": [
    "`-` 그런데 모든 메소드가 a를 변화시키는 것은 아니다. (명확한 기준은 없는데 왠지 의미상 a를 변화시킬 필요가 없을 것 같은게 있어요..) "
   ]
  },
  {
   "cell_type": "code",
   "execution_count": 184,
   "id": "04c422b1-ce0c-4566-a534-e78b121d8b41",
   "metadata": {},
   "outputs": [
    {
     "data": {
      "text/plain": [
       "2"
      ]
     },
     "execution_count": 184,
     "metadata": {},
     "output_type": "execute_result"
    }
   ],
   "source": [
    "a=[1,2,2,3,4]\n",
    "a.count(2) "
   ]
  },
  {
   "cell_type": "code",
   "execution_count": 185,
   "id": "998ea53c-dff7-478e-b31e-9c1a77639302",
   "metadata": {},
   "outputs": [
    {
     "data": {
      "text/plain": [
       "[1, 2, 2, 3, 4]"
      ]
     },
     "execution_count": 185,
     "metadata": {},
     "output_type": "execute_result"
    }
   ],
   "source": [
    "a"
   ]
  },
  {
   "cell_type": "markdown",
   "id": "4f3a3425-c142-4f5b-b304-cd8dc945703f",
   "metadata": {},
   "source": [
    "#### len은 list의 원소를 세어서 리턴한다. "
   ]
  },
  {
   "cell_type": "code",
   "execution_count": 190,
   "id": "cd4dd85a-2045-4747-a806-8ebe6b5d94ce",
   "metadata": {},
   "outputs": [
    {
     "data": {
      "text/plain": [
       "4"
      ]
     },
     "execution_count": 190,
     "metadata": {},
     "output_type": "execute_result"
    }
   ],
   "source": [
    "a=[1,2,3,3]\n",
    "len(a) "
   ]
  },
  {
   "cell_type": "code",
   "execution_count": 191,
   "id": "e9598036-7731-465c-a5e6-843a4552d351",
   "metadata": {},
   "outputs": [
    {
     "data": {
      "text/plain": [
       "0"
      ]
     },
     "execution_count": 191,
     "metadata": {},
     "output_type": "execute_result"
    }
   ],
   "source": [
    "a=[]\n",
    "len(a)"
   ]
  },
  {
   "cell_type": "markdown",
   "id": "7c628646-4759-48ad-b4ea-771767b9e951",
   "metadata": {},
   "source": [
    "`-` 아래는 동작하지 않음. "
   ]
  },
  {
   "cell_type": "code",
   "execution_count": 192,
   "id": "03de2c4c-d3cc-4f38-90e9-ffb34f924979",
   "metadata": {},
   "outputs": [
    {
     "ename": "AttributeError",
     "evalue": "'list' object has no attribute 'len'",
     "output_type": "error",
     "traceback": [
      "\u001b[0;31m---------------------------------------------------------------------------\u001b[0m",
      "\u001b[0;31mAttributeError\u001b[0m                            Traceback (most recent call last)",
      "\u001b[0;32m<ipython-input-192-0f2df5fcd2b1>\u001b[0m in \u001b[0;36m<module>\u001b[0;34m\u001b[0m\n\u001b[1;32m      1\u001b[0m \u001b[0ma\u001b[0m\u001b[0;34m=\u001b[0m\u001b[0;34m[\u001b[0m\u001b[0;36m1\u001b[0m\u001b[0;34m,\u001b[0m\u001b[0;36m2\u001b[0m\u001b[0;34m,\u001b[0m\u001b[0;36m3\u001b[0m\u001b[0;34m]\u001b[0m\u001b[0;34m\u001b[0m\u001b[0;34m\u001b[0m\u001b[0m\n\u001b[0;32m----> 2\u001b[0;31m \u001b[0ma\u001b[0m\u001b[0;34m.\u001b[0m\u001b[0mlen\u001b[0m\u001b[0;34m(\u001b[0m\u001b[0;34m)\u001b[0m\u001b[0;34m\u001b[0m\u001b[0;34m\u001b[0m\u001b[0m\n\u001b[0m",
      "\u001b[0;31mAttributeError\u001b[0m: 'list' object has no attribute 'len'"
     ]
    }
   ],
   "source": [
    "a=[1,2,3]\n",
    "a.len()"
   ]
  },
  {
   "cell_type": "markdown",
   "id": "cd39a13b-0e9a-4f02-a26a-8ac2051176f6",
   "metadata": {},
   "source": [
    "#### [3]과 3은 다르다"
   ]
  },
  {
   "cell_type": "markdown",
   "id": "c5d5ff57-1706-4ba3-a32c-de15a872f313",
   "metadata": {},
   "source": [
    "`-` 다른점1: [3] 1차원, 3은 0차원 자료형 "
   ]
  },
  {
   "cell_type": "code",
   "execution_count": 193,
   "id": "f15c8eaa-bd2f-44a9-84ea-ae2919bcccfd",
   "metadata": {},
   "outputs": [
    {
     "data": {
      "text/plain": [
       "1"
      ]
     },
     "execution_count": 193,
     "metadata": {},
     "output_type": "execute_result"
    }
   ],
   "source": [
    "a=[3]\n",
    "len(a)"
   ]
  },
  {
   "cell_type": "code",
   "execution_count": 195,
   "id": "8a8cba47-9d6d-4ca6-b1f2-d5fee5878477",
   "metadata": {},
   "outputs": [
    {
     "ename": "TypeError",
     "evalue": "object of type 'int' has no len()",
     "output_type": "error",
     "traceback": [
      "\u001b[0;31m---------------------------------------------------------------------------\u001b[0m",
      "\u001b[0;31mTypeError\u001b[0m                                 Traceback (most recent call last)",
      "\u001b[0;32m<ipython-input-195-ef5c313af7eb>\u001b[0m in \u001b[0;36m<module>\u001b[0;34m\u001b[0m\n\u001b[1;32m      1\u001b[0m \u001b[0ma\u001b[0m\u001b[0;34m=\u001b[0m\u001b[0;36m3\u001b[0m\u001b[0;34m\u001b[0m\u001b[0;34m\u001b[0m\u001b[0m\n\u001b[0;32m----> 2\u001b[0;31m \u001b[0mlen\u001b[0m\u001b[0;34m(\u001b[0m\u001b[0ma\u001b[0m\u001b[0;34m)\u001b[0m\u001b[0;34m\u001b[0m\u001b[0;34m\u001b[0m\u001b[0m\n\u001b[0m",
      "\u001b[0;31mTypeError\u001b[0m: object of type 'int' has no len()"
     ]
    }
   ],
   "source": [
    "a=3\n",
    "len(a)"
   ]
  },
  {
   "cell_type": "markdown",
   "id": "2cdeefbe-586e-43b3-89a5-fe1bcb14c28d",
   "metadata": {},
   "source": [
    "`-` 다른점2: `+`연산 적용시 차이점 "
   ]
  },
  {
   "cell_type": "code",
   "execution_count": 196,
   "id": "c14eab7f-2425-4226-a2d6-8581b8827271",
   "metadata": {},
   "outputs": [
    {
     "data": {
      "text/plain": [
       "[3, 4]"
      ]
     },
     "execution_count": 196,
     "metadata": {},
     "output_type": "execute_result"
    }
   ],
   "source": [
    "a=[3]\n",
    "a+[4]"
   ]
  },
  {
   "cell_type": "code",
   "execution_count": 197,
   "id": "b8100ae1-7bea-4511-a573-1517b64d2455",
   "metadata": {},
   "outputs": [
    {
     "data": {
      "text/plain": [
       "7"
      ]
     },
     "execution_count": 197,
     "metadata": {},
     "output_type": "execute_result"
    }
   ],
   "source": [
    "a=3\n",
    "a+4"
   ]
  },
  {
   "cell_type": "code",
   "execution_count": 198,
   "id": "06420802-2e02-4c61-9b16-dcb70b6d8d90",
   "metadata": {},
   "outputs": [
    {
     "ename": "TypeError",
     "evalue": "can only concatenate list (not \"int\") to list",
     "output_type": "error",
     "traceback": [
      "\u001b[0;31m---------------------------------------------------------------------------\u001b[0m",
      "\u001b[0;31mTypeError\u001b[0m                                 Traceback (most recent call last)",
      "\u001b[0;32m<ipython-input-198-51cc563c823d>\u001b[0m in \u001b[0;36m<module>\u001b[0;34m\u001b[0m\n\u001b[1;32m      1\u001b[0m \u001b[0ma\u001b[0m\u001b[0;34m=\u001b[0m\u001b[0;34m[\u001b[0m\u001b[0;36m3\u001b[0m\u001b[0;34m]\u001b[0m\u001b[0;34m\u001b[0m\u001b[0;34m\u001b[0m\u001b[0m\n\u001b[0;32m----> 2\u001b[0;31m \u001b[0ma\u001b[0m\u001b[0;34m+\u001b[0m\u001b[0;36m4\u001b[0m\u001b[0;34m\u001b[0m\u001b[0;34m\u001b[0m\u001b[0m\n\u001b[0m",
      "\u001b[0;31mTypeError\u001b[0m: can only concatenate list (not \"int\") to list"
     ]
    }
   ],
   "source": [
    "a=[3]\n",
    "a+4"
   ]
  },
  {
   "cell_type": "code",
   "execution_count": 199,
   "id": "bfa4b9ca-28ff-49e9-86e9-ca33165e2fae",
   "metadata": {},
   "outputs": [
    {
     "ename": "TypeError",
     "evalue": "unsupported operand type(s) for +: 'int' and 'list'",
     "output_type": "error",
     "traceback": [
      "\u001b[0;31m---------------------------------------------------------------------------\u001b[0m",
      "\u001b[0;31mTypeError\u001b[0m                                 Traceback (most recent call last)",
      "\u001b[0;32m<ipython-input-199-62e0fc93f386>\u001b[0m in \u001b[0;36m<module>\u001b[0;34m\u001b[0m\n\u001b[1;32m      1\u001b[0m \u001b[0ma\u001b[0m\u001b[0;34m=\u001b[0m\u001b[0;36m3\u001b[0m\u001b[0;34m\u001b[0m\u001b[0;34m\u001b[0m\u001b[0m\n\u001b[0;32m----> 2\u001b[0;31m \u001b[0ma\u001b[0m\u001b[0;34m+\u001b[0m\u001b[0;34m[\u001b[0m\u001b[0;36m4\u001b[0m\u001b[0;34m]\u001b[0m\u001b[0;34m\u001b[0m\u001b[0;34m\u001b[0m\u001b[0m\n\u001b[0m",
      "\u001b[0;31mTypeError\u001b[0m: unsupported operand type(s) for +: 'int' and 'list'"
     ]
    }
   ],
   "source": [
    "a=3\n",
    "a+[4]"
   ]
  },
  {
   "cell_type": "markdown",
   "id": "f001c3bc-ad8d-4c48-96a4-46568545a3b2",
   "metadata": {},
   "source": [
    "#### 리스트의 원소는 어떠한 형태도 가능하다. "
   ]
  },
  {
   "cell_type": "markdown",
   "id": "8ebaa27e-cbfc-47f0-afcb-bb85275ff171",
   "metadata": {},
   "source": [
    "`-` 예제1"
   ]
  },
  {
   "cell_type": "code",
   "execution_count": 202,
   "id": "50ef0d74-3d15-4918-86fe-5c7b8942b970",
   "metadata": {},
   "outputs": [
    {
     "data": {
      "text/plain": [
       "[True, 3, 3.14]"
      ]
     },
     "execution_count": 202,
     "metadata": {},
     "output_type": "execute_result"
    }
   ],
   "source": [
    "a=[True,3,3.14]\n",
    "a"
   ]
  },
  {
   "cell_type": "code",
   "execution_count": 203,
   "id": "58d0ac9b-4675-432d-8098-7c012ce35df3",
   "metadata": {},
   "outputs": [
    {
     "data": {
      "text/plain": [
       "bool"
      ]
     },
     "execution_count": 203,
     "metadata": {},
     "output_type": "execute_result"
    }
   ],
   "source": [
    "type(a[0])"
   ]
  },
  {
   "cell_type": "code",
   "execution_count": 204,
   "id": "66d1afae-10ef-45a9-89b0-fc51af51325b",
   "metadata": {},
   "outputs": [
    {
     "data": {
      "text/plain": [
       "int"
      ]
     },
     "execution_count": 204,
     "metadata": {},
     "output_type": "execute_result"
    }
   ],
   "source": [
    "type(a[1])"
   ]
  },
  {
   "cell_type": "code",
   "execution_count": 205,
   "id": "c1adaf16-1952-4ac1-a159-56becf657222",
   "metadata": {},
   "outputs": [
    {
     "data": {
      "text/plain": [
       "float"
      ]
     },
     "execution_count": 205,
     "metadata": {},
     "output_type": "execute_result"
    }
   ],
   "source": [
    "type(a[2])"
   ]
  },
  {
   "cell_type": "markdown",
   "id": "da17bb2f-8807-4d04-bd7c-97e7d752ce31",
   "metadata": {},
   "source": [
    "***예제1에 대한 디스커션*** \n",
    "- 리스트에 포함된 3개의 원소가 모두 다른 자료형을 가지고 있음. \n",
    "- 즉 원소들이 형변환 되지 않음. (Python의 list는 R에서의 벡터보다 리스트에 가까운 느낌이다) "
   ]
  },
  {
   "cell_type": "markdown",
   "id": "6baaa7aa-0ae3-4e92-a3e3-72c21fd64dab",
   "metadata": {},
   "source": [
    "`-` 예제2"
   ]
  },
  {
   "cell_type": "code",
   "execution_count": 206,
   "id": "13e808e5-71bc-49cd-9e8c-f10f3c1a1fa0",
   "metadata": {},
   "outputs": [
    {
     "data": {
      "text/plain": [
       "[[True, 3, 3.14], True, [3], 3]"
      ]
     },
     "execution_count": 206,
     "metadata": {},
     "output_type": "execute_result"
    }
   ],
   "source": [
    "a=[[True,3,3.14],True,[3],3]\n",
    "a"
   ]
  },
  {
   "cell_type": "markdown",
   "id": "f3f79ed0-ccfd-47b5-add7-846929b3ce84",
   "metadata": {},
   "source": [
    "***예제2에 대한 디스커션*** \n",
    "- 첫번째 원소는 리스트 (1차원) \n",
    "- 두번째 원소는 bool (0차원) \n",
    "- 세번째 원소는 길이가 1인 리스트 (1차원)\n",
    "- 네번째 원소는 int (0차원) "
   ]
  },
  {
   "cell_type": "markdown",
   "id": "38b6d3f1-db4c-4c09-96ca-2e6b624f6f0a",
   "metadata": {},
   "source": [
    "#### 중첩리스트 "
   ]
  },
  {
   "cell_type": "code",
   "execution_count": 207,
   "id": "3b56958c-3cbe-4a58-b813-debd1e34d8a4",
   "metadata": {},
   "outputs": [
    {
     "data": {
      "text/plain": [
       "[[1, 2, 3], [4, 5, 6], [7, 8, 9]]"
      ]
     },
     "execution_count": 207,
     "metadata": {},
     "output_type": "execute_result"
    }
   ],
   "source": [
    "A=[[1,2,3],[4,5,6],[7,8,9]]\n",
    "A"
   ]
  },
  {
   "cell_type": "markdown",
   "id": "4f2317d2-b7d8-446c-ae93-da8b1e786689",
   "metadata": {},
   "source": [
    "`-` A는 아래와 같은 매트릭스로 생각할 수 있다. \n",
    "\n",
    "${\\bf A} = \\begin{bmatrix} 1 & 2 & 3 \\\\ 4 & 5 & 6 \\\\ 7 & 8 & 9 \\end{bmatrix}$"
   ]
  },
  {
   "cell_type": "markdown",
   "id": "e37d2ebd-589b-45bf-8c75-79ccf0c0e160",
   "metadata": {},
   "source": [
    "`-` ${\\bf A}$에서 (1,1)의 원소를 뽑고싶다! = 1을 뽑고싶음 "
   ]
  },
  {
   "cell_type": "code",
   "execution_count": 210,
   "id": "9be532b7-7c26-411e-b8e4-d77ef45f886e",
   "metadata": {},
   "outputs": [
    {
     "ename": "TypeError",
     "evalue": "list indices must be integers or slices, not tuple",
     "output_type": "error",
     "traceback": [
      "\u001b[0;31m---------------------------------------------------------------------------\u001b[0m",
      "\u001b[0;31mTypeError\u001b[0m                                 Traceback (most recent call last)",
      "\u001b[0;32m<ipython-input-210-da4621a80edb>\u001b[0m in \u001b[0;36m<module>\u001b[0;34m\u001b[0m\n\u001b[0;32m----> 1\u001b[0;31m \u001b[0mA\u001b[0m\u001b[0;34m[\u001b[0m\u001b[0;36m0\u001b[0m\u001b[0;34m,\u001b[0m\u001b[0;36m0\u001b[0m\u001b[0;34m]\u001b[0m\u001b[0;34m\u001b[0m\u001b[0;34m\u001b[0m\u001b[0m\n\u001b[0m",
      "\u001b[0;31mTypeError\u001b[0m: list indices must be integers or slices, not tuple"
     ]
    }
   ],
   "source": [
    "A[0,0] "
   ]
  },
  {
   "cell_type": "markdown",
   "id": "e1df8c9c-6242-4cfb-a44c-1d0ddebd6c58",
   "metadata": {},
   "source": [
    "- 실패 "
   ]
  },
  {
   "cell_type": "code",
   "execution_count": 216,
   "id": "6325d61b-d593-4e03-a0b1-6c21bba7562c",
   "metadata": {},
   "outputs": [
    {
     "data": {
      "text/plain": [
       "1"
      ]
     },
     "execution_count": 216,
     "metadata": {},
     "output_type": "execute_result"
    }
   ],
   "source": [
    "A[0][0]"
   ]
  },
  {
   "cell_type": "markdown",
   "id": "116eab4c-5661-4212-9a97-58707e7d76ea",
   "metadata": {},
   "source": [
    "- 성공 "
   ]
  },
  {
   "cell_type": "markdown",
   "id": "f3096ff5-af7f-49d7-ba28-767b14c3ae0d",
   "metadata": {},
   "source": [
    "`-` 성공의 이유분석 "
   ]
  },
  {
   "cell_type": "code",
   "execution_count": 212,
   "id": "0ea7b15e-8e62-4060-bd6c-156b959a73a5",
   "metadata": {},
   "outputs": [
    {
     "data": {
      "text/plain": [
       "[[1, 2, 3], [4, 5, 6], [7, 8, 9]]"
      ]
     },
     "execution_count": 212,
     "metadata": {},
     "output_type": "execute_result"
    }
   ],
   "source": [
    "A"
   ]
  },
  {
   "cell_type": "code",
   "execution_count": 213,
   "id": "ee5e2332-60c7-4b89-8927-34c2b5c1084b",
   "metadata": {},
   "outputs": [
    {
     "data": {
      "text/plain": [
       "[1, 2, 3]"
      ]
     },
     "execution_count": 213,
     "metadata": {},
     "output_type": "execute_result"
    }
   ],
   "source": [
    "A[0]"
   ]
  },
  {
   "cell_type": "code",
   "execution_count": 214,
   "id": "d546d5f7-5eab-4923-b009-a37d9f309792",
   "metadata": {},
   "outputs": [
    {
     "data": {
      "text/plain": [
       "1"
      ]
     },
     "execution_count": 214,
     "metadata": {},
     "output_type": "execute_result"
    }
   ],
   "source": [
    "A[0][0]"
   ]
  },
  {
   "cell_type": "markdown",
   "id": "079d13e9-81bb-4c52-9d65-ede1afa28b20",
   "metadata": {},
   "source": [
    "`-` ${\\bf A}$에서 (2,3)위치의 원소를 뽑아보자. $\\to$ 파이썬 인덱스로 치면 (1,2) "
   ]
  },
  {
   "cell_type": "code",
   "execution_count": 217,
   "id": "fc535005-f99e-4c90-bc97-3386d7597072",
   "metadata": {},
   "outputs": [
    {
     "data": {
      "text/plain": [
       "6"
      ]
     },
     "execution_count": 217,
     "metadata": {},
     "output_type": "execute_result"
    }
   ],
   "source": [
    "A[1][2]"
   ]
  },
  {
   "cell_type": "markdown",
   "id": "e8e4e035-6613-4f75-be2a-5e6542b389bf",
   "metadata": {},
   "source": [
    "`-` 매트릭스는 아니지만 매트릭스 같아!"
   ]
  },
  {
   "cell_type": "markdown",
   "id": "c541a6e2-471d-47c1-b533-f0e2e2f4065a",
   "metadata": {},
   "source": [
    "> 1차원 배열을 다차원 배열로 확장할 수 있는 기본아이디어를 제공함 "
   ]
  },
  {
   "cell_type": "markdown",
   "id": "508d6019-5fde-4ee1-b04a-2a3e61863dd8",
   "metadata": {},
   "source": [
    "### 튜플공부 1단계 "
   ]
  },
  {
   "cell_type": "markdown",
   "id": "52a5c4f1-7498-46eb-9364-f34168a67da6",
   "metadata": {},
   "source": [
    "`-` 튜플은 ()로 선언한다. "
   ]
  },
  {
   "cell_type": "code",
   "execution_count": 218,
   "id": "54aa1d6a-1f76-4066-8def-7078cb02b8c4",
   "metadata": {},
   "outputs": [
    {
     "data": {
      "text/plain": [
       "(1, 2, 3)"
      ]
     },
     "execution_count": 218,
     "metadata": {},
     "output_type": "execute_result"
    }
   ],
   "source": [
    "a=(1,2,3) \n",
    "a"
   ]
  },
  {
   "cell_type": "code",
   "execution_count": 219,
   "id": "0fc97245-55c7-416f-b0f0-3258500c2336",
   "metadata": {},
   "outputs": [
    {
     "data": {
      "text/plain": [
       "tuple"
      ]
     },
     "execution_count": 219,
     "metadata": {},
     "output_type": "execute_result"
    }
   ],
   "source": [
    "type(a)"
   ]
  },
  {
   "cell_type": "markdown",
   "id": "b7a51ffe-6926-4730-bec4-d082766f6638",
   "metadata": {},
   "source": [
    "`-` `+`로 튜플과 튜플을 합칠 수 있다."
   ]
  },
  {
   "cell_type": "code",
   "execution_count": 220,
   "id": "f7ce2a78-d57f-42bf-b280-9bd383dd5b53",
   "metadata": {},
   "outputs": [
    {
     "data": {
      "text/plain": [
       "(1, 2, 3, 4, 5, 6)"
      ]
     },
     "execution_count": 220,
     "metadata": {},
     "output_type": "execute_result"
    }
   ],
   "source": [
    "a=(1,2,3)\n",
    "b=(4,5,6)\n",
    "a+b"
   ]
  },
  {
   "cell_type": "markdown",
   "id": "9ab96528-8f60-4495-bf85-a8de759114b7",
   "metadata": {},
   "source": [
    "`-` 비어있는 튜플을 선언하는 방법 "
   ]
  },
  {
   "cell_type": "code",
   "execution_count": 221,
   "id": "7b2d6ae7-4e04-4096-bbee-594282f4869a",
   "metadata": {},
   "outputs": [
    {
     "data": {
      "text/plain": [
       "()"
      ]
     },
     "execution_count": 221,
     "metadata": {},
     "output_type": "execute_result"
    }
   ],
   "source": [
    "a=tuple()\n",
    "a"
   ]
  },
  {
   "cell_type": "code",
   "execution_count": 222,
   "id": "a3d3263f-6453-4dd6-b446-ae93f5c200fb",
   "metadata": {},
   "outputs": [
    {
     "data": {
      "text/plain": [
       "()"
      ]
     },
     "execution_count": 222,
     "metadata": {},
     "output_type": "execute_result"
    }
   ],
   "source": [
    "a=()\n",
    "a"
   ]
  },
  {
   "cell_type": "markdown",
   "id": "0e1a986f-6df0-493e-814b-3e81387adbde",
   "metadata": {},
   "source": [
    "`-` 원소가 하나있는 튜플을 만들기 위해서는 아래와 같이 한다. "
   ]
  },
  {
   "cell_type": "code",
   "execution_count": 226,
   "id": "aa5aa344-3382-42f9-8f09-b3d620e64ba9",
   "metadata": {},
   "outputs": [
    {
     "data": {
      "text/plain": [
       "(1,)"
      ]
     },
     "execution_count": 226,
     "metadata": {},
     "output_type": "execute_result"
    }
   ],
   "source": [
    "a=(1,)\n",
    "a"
   ]
  },
  {
   "cell_type": "code",
   "execution_count": 227,
   "id": "50671890-945c-4cb6-b949-2f67cf99112b",
   "metadata": {},
   "outputs": [
    {
     "data": {
      "text/plain": [
       "(1, 2)"
      ]
     },
     "execution_count": 227,
     "metadata": {},
     "output_type": "execute_result"
    }
   ],
   "source": [
    "a+(2,)"
   ]
  },
  {
   "cell_type": "markdown",
   "id": "d4d4c7f6-4476-4170-ac14-f3715cc994e4",
   "metadata": {},
   "source": [
    "`-` 튜플도 리스트와 비슷한 방식으로 원소에 접근한다. "
   ]
  },
  {
   "cell_type": "code",
   "execution_count": 228,
   "id": "da793251-20f6-4b98-bfd5-b04ae67cc920",
   "metadata": {},
   "outputs": [
    {
     "data": {
      "text/plain": [
       "1"
      ]
     },
     "execution_count": 228,
     "metadata": {},
     "output_type": "execute_result"
    }
   ],
   "source": [
    "a=(1,2,3)\n",
    "a[0]"
   ]
  },
  {
   "cell_type": "code",
   "execution_count": 229,
   "id": "37d63248-d0c6-49e8-860d-8d0e319035d5",
   "metadata": {},
   "outputs": [
    {
     "data": {
      "text/plain": [
       "2"
      ]
     },
     "execution_count": 229,
     "metadata": {},
     "output_type": "execute_result"
    }
   ],
   "source": [
    "a[1]"
   ]
  },
  {
   "cell_type": "code",
   "execution_count": 230,
   "id": "32f06da6-f467-4eb6-87bd-fb95893aa078",
   "metadata": {},
   "outputs": [
    {
     "data": {
      "text/plain": [
       "3"
      ]
     },
     "execution_count": 230,
     "metadata": {},
     "output_type": "execute_result"
    }
   ],
   "source": [
    "a[2]"
   ]
  },
  {
   "cell_type": "markdown",
   "id": "2600561f-efbe-4d1f-b857-5879e3ce94ae",
   "metadata": {},
   "source": [
    "`-` 튜플은 원소에 접근할 수는 있지만 내용을 바꿀 수는 없다. "
   ]
  },
  {
   "cell_type": "code",
   "execution_count": 231,
   "id": "0986c01a-9487-4b27-8d0a-71f0fd512448",
   "metadata": {},
   "outputs": [
    {
     "data": {
      "text/plain": [
       "1"
      ]
     },
     "execution_count": 231,
     "metadata": {},
     "output_type": "execute_result"
    }
   ],
   "source": [
    "a=(1,2,3)\n",
    "a[0]"
   ]
  },
  {
   "cell_type": "code",
   "execution_count": 232,
   "id": "685980a7-a32e-4474-972b-9045c7080060",
   "metadata": {},
   "outputs": [
    {
     "ename": "TypeError",
     "evalue": "'tuple' object does not support item assignment",
     "output_type": "error",
     "traceback": [
      "\u001b[0;31m---------------------------------------------------------------------------\u001b[0m",
      "\u001b[0;31mTypeError\u001b[0m                                 Traceback (most recent call last)",
      "\u001b[0;32m<ipython-input-232-f96ffea17930>\u001b[0m in \u001b[0;36m<module>\u001b[0;34m\u001b[0m\n\u001b[0;32m----> 1\u001b[0;31m \u001b[0ma\u001b[0m\u001b[0;34m[\u001b[0m\u001b[0;36m0\u001b[0m\u001b[0;34m]\u001b[0m\u001b[0;34m=\u001b[0m\u001b[0;36m100\u001b[0m\u001b[0;34m\u001b[0m\u001b[0;34m\u001b[0m\u001b[0m\n\u001b[0m",
      "\u001b[0;31mTypeError\u001b[0m: 'tuple' object does not support item assignment"
     ]
    }
   ],
   "source": [
    "a[0]=100"
   ]
  },
  {
   "cell_type": "markdown",
   "id": "a795602b-a484-44e6-8da4-416e16e6809f",
   "metadata": {},
   "source": [
    "`-` 예제: 빈튜플을 만들어보고 (1,) (2,) (3,) 을 더하여 원소를 추가해보자. "
   ]
  },
  {
   "cell_type": "code",
   "execution_count": 233,
   "id": "444f959e-cadf-43a7-9d95-218aea3aaed1",
   "metadata": {},
   "outputs": [
    {
     "data": {
      "text/plain": [
       "()"
      ]
     },
     "execution_count": 233,
     "metadata": {},
     "output_type": "execute_result"
    }
   ],
   "source": [
    "a=()\n",
    "a"
   ]
  },
  {
   "cell_type": "code",
   "execution_count": 234,
   "id": "ced670f2-f4fd-43ee-9360-bb0d85e33440",
   "metadata": {},
   "outputs": [
    {
     "data": {
      "text/plain": [
       "(1, 2, 3)"
      ]
     },
     "execution_count": 234,
     "metadata": {},
     "output_type": "execute_result"
    }
   ],
   "source": [
    "a=a+(1,)+(2,)+(3,)\n",
    "a"
   ]
  },
  {
   "cell_type": "markdown",
   "id": "61863ef5-0730-44bd-b2cf-d8a3c7859997",
   "metadata": {},
   "source": [
    "`-` 아래와 같은 방식도 가능 "
   ]
  },
  {
   "cell_type": "code",
   "execution_count": 235,
   "id": "f05c8920-c750-4d5c-bf90-a7d6ff0642dc",
   "metadata": {},
   "outputs": [
    {
     "data": {
      "text/plain": [
       "(1, 2, 3)"
      ]
     },
     "execution_count": 235,
     "metadata": {},
     "output_type": "execute_result"
    }
   ],
   "source": [
    "a = ()\n",
    "a += (1,)\n",
    "a += (2,)\n",
    "a += (3,)\n",
    "a "
   ]
  },
  {
   "cell_type": "markdown",
   "id": "f527e6d0-3020-4380-901a-2be7a300916a",
   "metadata": {},
   "source": [
    "### 튜플공부 2단계: 튜플 언패킹 "
   ]
  },
  {
   "cell_type": "markdown",
   "id": "272c7cbd-7861-4519-89a1-815817ea0b15",
   "metadata": {},
   "source": [
    "`-` 의미가 명확할때는 ()를 생략할 수 있다. "
   ]
  },
  {
   "cell_type": "code",
   "execution_count": 236,
   "id": "8f22ac4f-3ad7-48ee-97a4-ecc9e0c723e5",
   "metadata": {},
   "outputs": [
    {
     "data": {
      "text/plain": [
       "(1, 2, 3, 4, 5)"
      ]
     },
     "execution_count": 236,
     "metadata": {},
     "output_type": "execute_result"
    }
   ],
   "source": [
    "a = 1,2,3,4,5\n",
    "a"
   ]
  },
  {
   "cell_type": "code",
   "execution_count": 237,
   "id": "60010a63-6065-4516-a307-d7d6e09e77ff",
   "metadata": {},
   "outputs": [
    {
     "data": {
      "text/plain": [
       "(1, 2, 3)"
      ]
     },
     "execution_count": 237,
     "metadata": {},
     "output_type": "execute_result"
    }
   ],
   "source": [
    "1,2,3 "
   ]
  },
  {
   "cell_type": "markdown",
   "id": "f47cfc9f-a556-4e29-861f-d4d05f0ba94a",
   "metadata": {},
   "source": [
    "### 1차원자료형의 변환 "
   ]
  },
  {
   "cell_type": "markdown",
   "id": "732913aa-9a4d-45c2-bb6b-48e847695fac",
   "metadata": {},
   "source": [
    "`-` 리스트를 튜플로 "
   ]
  },
  {
   "cell_type": "code",
   "execution_count": 240,
   "id": "0ab50be8-d93f-49d0-954a-af015d3c6976",
   "metadata": {},
   "outputs": [
    {
     "data": {
      "text/plain": [
       "(1, 2, 3)"
      ]
     },
     "execution_count": 240,
     "metadata": {},
     "output_type": "execute_result"
    }
   ],
   "source": [
    "tuple([1,2,3])"
   ]
  },
  {
   "cell_type": "markdown",
   "id": "61075175-918b-41d2-ae6c-82bb3dffd990",
   "metadata": {},
   "source": [
    "`-` 튜플을 리스트로 "
   ]
  },
  {
   "cell_type": "code",
   "execution_count": 239,
   "id": "9377c8b0-419d-4033-b164-95a50441758b",
   "metadata": {},
   "outputs": [
    {
     "data": {
      "text/plain": [
       "[1, 2, 3]"
      ]
     },
     "execution_count": 239,
     "metadata": {},
     "output_type": "execute_result"
    }
   ],
   "source": [
    "list((1,2,3))"
   ]
  },
  {
   "cell_type": "markdown",
   "id": "24ad130b-10d8-46da-b9dd-0ff57631f337",
   "metadata": {},
   "source": [
    "### numpy"
   ]
  },
  {
   "cell_type": "markdown",
   "id": "daa7e303-cc56-49aa-bd2b-0ce046cb2698",
   "metadata": {},
   "source": [
    "파이썬은 그렇게 좋은 계산성능을 보유하고 있지 않음 "
   ]
  },
  {
   "cell_type": "markdown",
   "id": "98b26f16-6758-4c9f-8663-5d4e3a5e0b5c",
   "metadata": {},
   "source": [
    "`-` 놀라운점1: pi가 없음 "
   ]
  },
  {
   "cell_type": "code",
   "execution_count": 241,
   "id": "a0e1f21d-eb5b-48c2-b1e2-63899d32cb26",
   "metadata": {},
   "outputs": [
    {
     "ename": "NameError",
     "evalue": "name 'pi' is not defined",
     "output_type": "error",
     "traceback": [
      "\u001b[0;31m---------------------------------------------------------------------------\u001b[0m",
      "\u001b[0;31mNameError\u001b[0m                                 Traceback (most recent call last)",
      "\u001b[0;32m<ipython-input-241-f84ab820532c>\u001b[0m in \u001b[0;36m<module>\u001b[0;34m\u001b[0m\n\u001b[0;32m----> 1\u001b[0;31m \u001b[0mpi\u001b[0m\u001b[0;34m\u001b[0m\u001b[0;34m\u001b[0m\u001b[0m\n\u001b[0m",
      "\u001b[0;31mNameError\u001b[0m: name 'pi' is not defined"
     ]
    }
   ],
   "source": [
    "pi"
   ]
  },
  {
   "cell_type": "markdown",
   "id": "6e8acf04-89f9-4b29-b1ce-62c3c17e5d10",
   "metadata": {},
   "source": [
    "`-` 놀라운점2: sqrt가 없다. "
   ]
  },
  {
   "cell_type": "code",
   "execution_count": 242,
   "id": "f525fa5b-2d02-4320-998b-08964206b9fe",
   "metadata": {},
   "outputs": [
    {
     "ename": "NameError",
     "evalue": "name 'sqrt' is not defined",
     "output_type": "error",
     "traceback": [
      "\u001b[0;31m---------------------------------------------------------------------------\u001b[0m",
      "\u001b[0;31mNameError\u001b[0m                                 Traceback (most recent call last)",
      "\u001b[0;32m<ipython-input-242-66e338417901>\u001b[0m in \u001b[0;36m<module>\u001b[0;34m\u001b[0m\n\u001b[0;32m----> 1\u001b[0;31m \u001b[0msqrt\u001b[0m\u001b[0;34m(\u001b[0m\u001b[0;36m2\u001b[0m\u001b[0;34m)\u001b[0m\u001b[0;34m\u001b[0m\u001b[0;34m\u001b[0m\u001b[0m\n\u001b[0m",
      "\u001b[0;31mNameError\u001b[0m: name 'sqrt' is not defined"
     ]
    }
   ],
   "source": [
    "sqrt(2)"
   ]
  },
  {
   "cell_type": "markdown",
   "id": "9838d534-4759-4b06-87ec-337f496d8121",
   "metadata": {},
   "source": [
    "`-` 사칙연산빼고 되는게 없는것 같은데? "
   ]
  },
  {
   "cell_type": "code",
   "execution_count": 243,
   "id": "03d94e77-b5ed-4dbf-8b28-360f18dd8912",
   "metadata": {},
   "outputs": [
    {
     "ename": "NameError",
     "evalue": "name 'log' is not defined",
     "output_type": "error",
     "traceback": [
      "\u001b[0;31m---------------------------------------------------------------------------\u001b[0m",
      "\u001b[0;31mNameError\u001b[0m                                 Traceback (most recent call last)",
      "\u001b[0;32m<ipython-input-243-8fe8026424a0>\u001b[0m in \u001b[0;36m<module>\u001b[0;34m\u001b[0m\n\u001b[0;32m----> 1\u001b[0;31m \u001b[0mlog\u001b[0m\u001b[0;34m(\u001b[0m\u001b[0;36m10\u001b[0m\u001b[0;34m)\u001b[0m\u001b[0;34m\u001b[0m\u001b[0;34m\u001b[0m\u001b[0m\n\u001b[0m",
      "\u001b[0;31mNameError\u001b[0m: name 'log' is not defined"
     ]
    }
   ],
   "source": [
    "log(10) "
   ]
  },
  {
   "cell_type": "code",
   "execution_count": 244,
   "id": "97ab5a8a-2e47-4828-96ca-96bb6076008f",
   "metadata": {},
   "outputs": [
    {
     "ename": "NameError",
     "evalue": "name 'exp' is not defined",
     "output_type": "error",
     "traceback": [
      "\u001b[0;31m---------------------------------------------------------------------------\u001b[0m",
      "\u001b[0;31mNameError\u001b[0m                                 Traceback (most recent call last)",
      "\u001b[0;32m<ipython-input-244-a9c50c82dfa5>\u001b[0m in \u001b[0;36m<module>\u001b[0;34m\u001b[0m\n\u001b[0;32m----> 1\u001b[0;31m \u001b[0mexp\u001b[0m\u001b[0;34m(\u001b[0m\u001b[0;36m1\u001b[0m\u001b[0;34m)\u001b[0m\u001b[0;34m\u001b[0m\u001b[0;34m\u001b[0m\u001b[0m\n\u001b[0m",
      "\u001b[0;31mNameError\u001b[0m: name 'exp' is not defined"
     ]
    }
   ],
   "source": [
    "exp(1)"
   ]
  },
  {
   "cell_type": "code",
   "execution_count": 245,
   "id": "9714d68a-13e5-40b7-9c46-6c0015a5b9b8",
   "metadata": {},
   "outputs": [
    {
     "ename": "NameError",
     "evalue": "name 'sin' is not defined",
     "output_type": "error",
     "traceback": [
      "\u001b[0;31m---------------------------------------------------------------------------\u001b[0m",
      "\u001b[0;31mNameError\u001b[0m                                 Traceback (most recent call last)",
      "\u001b[0;32m<ipython-input-245-afbcc558f753>\u001b[0m in \u001b[0;36m<module>\u001b[0;34m\u001b[0m\n\u001b[0;32m----> 1\u001b[0;31m \u001b[0msin\u001b[0m\u001b[0;34m(\u001b[0m\u001b[0;36m0\u001b[0m\u001b[0;34m)\u001b[0m\u001b[0;34m\u001b[0m\u001b[0;34m\u001b[0m\u001b[0m\n\u001b[0m",
      "\u001b[0;31mNameError\u001b[0m: name 'sin' is not defined"
     ]
    }
   ],
   "source": [
    "sin(0)"
   ]
  },
  {
   "cell_type": "markdown",
   "id": "a2d0f31d-88e8-48aa-a892-67829d7217f0",
   "metadata": {},
   "source": [
    "#### numpy를 쓰면 파이썬은 좋은 계산기가 된다. "
   ]
  },
  {
   "cell_type": "markdown",
   "id": "185c4e83-aa7c-49d0-b7f7-19e74a81f727",
   "metadata": {},
   "source": [
    "- 사용법: `library(tidyverse)`와 비슷하게 `import numpy` 를 하면 된다. "
   ]
  },
  {
   "cell_type": "code",
   "execution_count": 246,
   "id": "03b5b3ae-a1d8-4534-a9a8-9c7b363eadf9",
   "metadata": {},
   "outputs": [],
   "source": [
    "import numpy"
   ]
  },
  {
   "cell_type": "code",
   "execution_count": 247,
   "id": "f0f9cc79-8e29-4637-a891-80f48ac1e72a",
   "metadata": {},
   "outputs": [
    {
     "data": {
      "text/plain": [
       "3.141592653589793"
      ]
     },
     "execution_count": 247,
     "metadata": {},
     "output_type": "execute_result"
    }
   ],
   "source": [
    "numpy.pi"
   ]
  },
  {
   "cell_type": "code",
   "execution_count": 248,
   "id": "7f372699-2da5-4890-8fe7-9cb34aa205c6",
   "metadata": {},
   "outputs": [
    {
     "data": {
      "text/plain": [
       "1.4142135623730951"
      ]
     },
     "execution_count": 248,
     "metadata": {},
     "output_type": "execute_result"
    }
   ],
   "source": [
    "numpy.sqrt(2)"
   ]
  },
  {
   "cell_type": "code",
   "execution_count": 249,
   "id": "64f2c182-c5f3-4212-aaa3-68fb0ebfdb65",
   "metadata": {},
   "outputs": [
    {
     "data": {
      "text/plain": [
       "2.718281828459045"
      ]
     },
     "execution_count": 249,
     "metadata": {},
     "output_type": "execute_result"
    }
   ],
   "source": [
    "numpy.exp(1)"
   ]
  },
  {
   "cell_type": "code",
   "execution_count": 250,
   "id": "45ba741b-b1e2-43ab-bbc2-95a5f7761b08",
   "metadata": {},
   "outputs": [
    {
     "data": {
      "text/plain": [
       "1.0"
      ]
     },
     "execution_count": 250,
     "metadata": {},
     "output_type": "execute_result"
    }
   ],
   "source": [
    "numpy.log(2.718281828459045)"
   ]
  },
  {
   "cell_type": "code",
   "execution_count": 251,
   "id": "32ae5211-73af-4d88-8b13-f0859807d36c",
   "metadata": {},
   "outputs": [
    {
     "data": {
      "text/plain": [
       "0.0"
      ]
     },
     "execution_count": 251,
     "metadata": {},
     "output_type": "execute_result"
    }
   ],
   "source": [
    "numpy.sin(0)"
   ]
  },
  {
   "cell_type": "markdown",
   "id": "6eb6628a-501c-4232-82f0-452c2b84eb9a",
   "metadata": {},
   "source": [
    "`-` numpy를 모두 치는 것이 불편함 $\\to$ 줄여서 약어로 쓰고싶다. "
   ]
  },
  {
   "cell_type": "code",
   "execution_count": 252,
   "id": "b8b71c0b-8ef9-4a96-8db8-00a843066ad9",
   "metadata": {},
   "outputs": [],
   "source": [
    "import numpy as np"
   ]
  },
  {
   "cell_type": "code",
   "execution_count": 253,
   "id": "52c27b9d-b98c-486d-90e2-697887176b49",
   "metadata": {},
   "outputs": [
    {
     "data": {
      "text/plain": [
       "1.4142135623730951"
      ]
     },
     "execution_count": 253,
     "metadata": {},
     "output_type": "execute_result"
    }
   ],
   "source": [
    "np.sqrt(2)"
   ]
  },
  {
   "cell_type": "code",
   "execution_count": 254,
   "id": "f2ce3bba-01e6-418c-b04d-4e9da055674d",
   "metadata": {},
   "outputs": [
    {
     "data": {
      "text/plain": [
       "2.718281828459045"
      ]
     },
     "execution_count": 254,
     "metadata": {},
     "output_type": "execute_result"
    }
   ],
   "source": [
    "np.exp(1)"
   ]
  },
  {
   "cell_type": "code",
   "execution_count": 255,
   "id": "5e01f789-b0fb-4088-9ae9-5a1939b61068",
   "metadata": {},
   "outputs": [
    {
     "data": {
      "text/plain": [
       "1.0"
      ]
     },
     "execution_count": 255,
     "metadata": {},
     "output_type": "execute_result"
    }
   ],
   "source": [
    "np.log(2.718281828459045)"
   ]
  },
  {
   "cell_type": "code",
   "execution_count": 256,
   "id": "f29cb2d5-910f-4b86-b84d-e1e0039d8c87",
   "metadata": {},
   "outputs": [
    {
     "data": {
      "text/plain": [
       "0.0"
      ]
     },
     "execution_count": 256,
     "metadata": {},
     "output_type": "execute_result"
    }
   ],
   "source": [
    "np.sin(0)"
   ]
  },
  {
   "cell_type": "markdown",
   "id": "3f095427-198d-43a2-8345-bdb5e2e87ce1",
   "metadata": {},
   "source": [
    "### numpy 공부: 1단계 "
   ]
  },
  {
   "cell_type": "markdown",
   "id": "f7b40e44-0ab1-4d87-afba-afc5a390be46",
   "metadata": {},
   "source": [
    "`-` numpy.ndarray 자료형을 만드는 방법 "
   ]
  },
  {
   "cell_type": "code",
   "execution_count": 264,
   "id": "67cc5330-4348-473b-aaaa-8078360b3be6",
   "metadata": {},
   "outputs": [
    {
     "data": {
      "text/plain": [
       "array([1, 2, 3])"
      ]
     },
     "execution_count": 264,
     "metadata": {},
     "output_type": "execute_result"
    }
   ],
   "source": [
    "a=[1,2,3]\n",
    "b=np.array(a)\n",
    "b"
   ]
  },
  {
   "cell_type": "markdown",
   "id": "a9a4a810-1168-4e1b-82d2-8f3d52407dc4",
   "metadata": {},
   "source": [
    "`-` numpy를 사용하면 R과 유사한 환경이 만들어짐 "
   ]
  },
  {
   "cell_type": "code",
   "execution_count": 265,
   "id": "d5acfe14-5adf-4192-a5b2-0e8cad4914ba",
   "metadata": {},
   "outputs": [
    {
     "ename": "TypeError",
     "evalue": "can only concatenate list (not \"int\") to list",
     "output_type": "error",
     "traceback": [
      "\u001b[0;31m---------------------------------------------------------------------------\u001b[0m",
      "\u001b[0;31mTypeError\u001b[0m                                 Traceback (most recent call last)",
      "\u001b[0;32m<ipython-input-265-98b939904c8e>\u001b[0m in \u001b[0;36m<module>\u001b[0;34m\u001b[0m\n\u001b[0;32m----> 1\u001b[0;31m \u001b[0ma\u001b[0m\u001b[0;34m+\u001b[0m\u001b[0;36m1\u001b[0m\u001b[0;34m\u001b[0m\u001b[0;34m\u001b[0m\u001b[0m\n\u001b[0m",
      "\u001b[0;31mTypeError\u001b[0m: can only concatenate list (not \"int\") to list"
     ]
    }
   ],
   "source": [
    "a+1"
   ]
  },
  {
   "cell_type": "code",
   "execution_count": 266,
   "id": "d89e8779-35a2-4f0a-853b-889da6fefe76",
   "metadata": {},
   "outputs": [
    {
     "data": {
      "text/plain": [
       "array([2, 3, 4])"
      ]
     },
     "execution_count": 266,
     "metadata": {},
     "output_type": "execute_result"
    }
   ],
   "source": [
    "b+1"
   ]
  },
  {
   "cell_type": "code",
   "execution_count": 267,
   "id": "071dd255-e16e-4b94-af89-5087a23c1ddf",
   "metadata": {},
   "outputs": [
    {
     "data": {
      "text/plain": [
       "array([1.        , 1.41421356, 1.73205081])"
      ]
     },
     "execution_count": 267,
     "metadata": {},
     "output_type": "execute_result"
    }
   ],
   "source": [
    "np.sqrt(b)"
   ]
  },
  {
   "cell_type": "code",
   "execution_count": 268,
   "id": "d567449e-5e9f-4554-b0cf-5f654e9ac286",
   "metadata": {},
   "outputs": [
    {
     "data": {
      "text/plain": [
       "array([0.        , 0.69314718, 1.09861229])"
      ]
     },
     "execution_count": 268,
     "metadata": {},
     "output_type": "execute_result"
    }
   ],
   "source": [
    "np.log(b)"
   ]
  },
  {
   "cell_type": "code",
   "execution_count": 271,
   "id": "8dc80070-998d-4479-990a-85b6e75b204c",
   "metadata": {},
   "outputs": [
    {
     "data": {
      "text/plain": [
       "array([0.84147098, 0.90929743, 0.14112001])"
      ]
     },
     "execution_count": 271,
     "metadata": {},
     "output_type": "execute_result"
    }
   ],
   "source": [
    "np.sin(b)"
   ]
  },
  {
   "cell_type": "code",
   "execution_count": 272,
   "id": "b11340a8-8d28-4015-ab88-1561f05fd5c2",
   "metadata": {},
   "outputs": [
    {
     "data": {
      "text/plain": [
       "array([ 2.71828183,  7.3890561 , 20.08553692])"
      ]
     },
     "execution_count": 272,
     "metadata": {},
     "output_type": "execute_result"
    }
   ],
   "source": [
    "np.exp(b)"
   ]
  },
  {
   "cell_type": "code",
   "execution_count": 275,
   "id": "617139a9-11e8-46fb-b7e0-477e0a1b0501",
   "metadata": {},
   "outputs": [
    {
     "data": {
      "text/plain": [
       "array([1.33333333, 1.66666667, 2.        ])"
      ]
     },
     "execution_count": 275,
     "metadata": {},
     "output_type": "execute_result"
    }
   ],
   "source": [
    "((b+1)+2)/3"
   ]
  },
  {
   "cell_type": "code",
   "execution_count": null,
   "id": "8a8a4a8d-6266-414d-8484-7351ea77ca81",
   "metadata": {},
   "outputs": [],
   "source": []
  }
 ],
 "metadata": {
  "kernelspec": {
   "display_name": "Python 3",
   "language": "python",
   "name": "python3"
  },
  "language_info": {
   "codemirror_mode": {
    "name": "ipython",
    "version": 3
   },
   "file_extension": ".py",
   "mimetype": "text/x-python",
   "name": "python",
   "nbconvert_exporter": "python",
   "pygments_lexer": "ipython3",
   "version": "3.9.7"
  },
  "widgets": {
   "application/vnd.jupyter.widget-state+json": {
    "state": {},
    "version_major": 2,
    "version_minor": 0
   }
  }
 },
 "nbformat": 4,
 "nbformat_minor": 5
}
