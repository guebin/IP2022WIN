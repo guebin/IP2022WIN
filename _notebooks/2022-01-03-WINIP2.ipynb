{
 "cells": [
  {
   "cell_type": "markdown",
   "id": "60bc6179-e186-424f-9a82-cbbb609d08ce",
   "metadata": {},
   "source": [
    "# 파이썬입문 겨울방학 특강 (2)"
   ]
  },
  {
   "cell_type": "markdown",
   "id": "dc5ef602-a42e-4472-9386-2d49963a4784",
   "metadata": {},
   "source": [
    "`-` 오늘오전: 자료형, 오브젝트 .. \n",
    "\n",
    "`-` 오늘오후: 참조, 얕은복사, 깊은복사 \n",
    "\n",
    "`-` 내일오전: 뷰와 카피 \n",
    "\n",
    "`-` 내일오후: 개발환경 비교 "
   ]
  },
  {
   "cell_type": "markdown",
   "id": "6f61d1b7-1292-40d0-a285-482316fe508d",
   "metadata": {},
   "source": [
    "### 참조와 에일리어싱 "
   ]
  },
  {
   "cell_type": "markdown",
   "id": "56760684-c0c3-4d5b-af0d-684eadae9eda",
   "metadata": {},
   "source": [
    "`-` 아래의 코드를 관찰하자. "
   ]
  },
  {
   "cell_type": "code",
   "execution_count": 1,
   "id": "e945f043-6d51-47db-bf32-6426a7d8a276",
   "metadata": {},
   "outputs": [],
   "source": [
    "a=[1,2,3]\n",
    "b=a\n",
    "a=a+[4]"
   ]
  },
  {
   "cell_type": "markdown",
   "id": "3647fa62-c7f8-4ee6-bb3a-26268cc91b9a",
   "metadata": {},
   "source": [
    "현재 a,b의 출력결과는? "
   ]
  },
  {
   "cell_type": "code",
   "execution_count": 6,
   "id": "4ef6dfe6-46b9-4a6f-b177-416b137cc9e0",
   "metadata": {},
   "outputs": [
    {
     "data": {
      "text/plain": [
       "([1, 2, 3, 4], [1, 2, 3])"
      ]
     },
     "execution_count": 6,
     "metadata": {},
     "output_type": "execute_result"
    }
   ],
   "source": [
    "a,b"
   ]
  },
  {
   "cell_type": "markdown",
   "id": "e88d4ad8-e334-4e00-83e1-b4889103d05a",
   "metadata": {},
   "source": [
    "`-` 이제 다시 아래의 코드를 관찰하자. "
   ]
  },
  {
   "cell_type": "code",
   "execution_count": 7,
   "id": "a2153fde-f567-40a9-8ae8-c0aa05246f4f",
   "metadata": {},
   "outputs": [],
   "source": [
    "a=[1,2,3]\n",
    "b=a\n",
    "a.append(4) "
   ]
  },
  {
   "cell_type": "code",
   "execution_count": 8,
   "id": "b8c45b46-e35f-4666-891b-00d621c24dce",
   "metadata": {},
   "outputs": [
    {
     "data": {
      "text/plain": [
       "([1, 2, 3, 4], [1, 2, 3, 4])"
      ]
     },
     "execution_count": 8,
     "metadata": {},
     "output_type": "execute_result"
    }
   ],
   "source": [
    "a,b"
   ]
  },
  {
   "cell_type": "markdown",
   "id": "958dda78-6789-439b-acce-6dcc047fe01f",
   "metadata": {},
   "source": [
    "`-` 아래의 코드를 다시 살펴보자. "
   ]
  },
  {
   "cell_type": "markdown",
   "id": "41535763-aee8-4163-821e-dd11bf4fca78",
   "metadata": {},
   "source": [
    "```python\n",
    "a=[1,2,3]\n",
    "b=a\n",
    "a.append(4)\n",
    "```"
   ]
  },
  {
   "cell_type": "markdown",
   "id": "b66077ff-7dbb-4737-a970-59f4694e27b3",
   "metadata": {},
   "source": [
    "a,b라는 변수들은 메모리에 어떻게 저장이 되어있을까? "
   ]
  },
  {
   "cell_type": "markdown",
   "id": "feb1e8dd-67c6-4ef2-ba24-b174a40e6b7c",
   "metadata": {},
   "source": [
    "상상력을 조금 발휘하면 아래와 같이 여길 수 있다. "
   ]
  },
  {
   "cell_type": "markdown",
   "id": "679390f7-6159-41e7-b006-e124e7d09fd2",
   "metadata": {},
   "source": [
    "(1) 메모리는 변수를 담을 방이 여러개 있는 호텔이라고 생각하자. "
   ]
  },
  {
   "cell_type": "markdown",
   "id": "9293ece3-a342-42aa-a512-de665b378354",
   "metadata": {},
   "source": [
    "(2) 아래를 실행하였을 경우 \n",
    "```python\n",
    "a=[1,2,3]\n",
    "```\n",
    "- 메모리주소1에 존재하는 방을 a라고 하고, 그 방에 [1,2,3]을 넣는다. "
   ]
  },
  {
   "cell_type": "markdown",
   "id": "d9f50727-c348-4a8d-93b4-41021894ef38",
   "metadata": {},
   "source": [
    "(3) 아래를 실행하였을 경우 \n",
    "```python\n",
    "b=a\n",
    "```\n",
    "- 메모리주소38에 존재하는 방을 b라고 하고, 그 방에 a를 넣어야하는데, a는 [1,2,3]이니까 [1,2,3]을 넣는다. "
   ]
  },
  {
   "cell_type": "markdown",
   "id": "f62fab30-a28a-48d8-9760-536d09667c08",
   "metadata": {},
   "source": [
    "(4) 아래를 실행하면 \n",
    "```python\n",
    "a.append(4)\n",
    "```\n",
    "- 방 a로가서 [1,2,3]을 [1,2,3,4]로 바꾼다. \n",
    "- 그리고 방 b에는 아무것도 하지 않는다. "
   ]
  },
  {
   "cell_type": "markdown",
   "id": "110d9c14-4a7b-45df-9323-f6d99edee05f",
   "metadata": {},
   "source": [
    "`-` R에서는 맞는 비유인데, 파이썬은 적절하지 않은 비유이다. "
   ]
  },
  {
   "cell_type": "code",
   "execution_count": 11,
   "id": "d42ec846-365e-4ed3-a313-1e6e5a652e18",
   "metadata": {},
   "outputs": [
    {
     "data": {
      "text/plain": [
       "139851743661952"
      ]
     },
     "execution_count": 11,
     "metadata": {},
     "output_type": "execute_result"
    }
   ],
   "source": [
    "id(a)"
   ]
  },
  {
   "cell_type": "code",
   "execution_count": 12,
   "id": "d65f4d2e-5480-46c7-97d7-d1d059d474c3",
   "metadata": {},
   "outputs": [
    {
     "data": {
      "text/plain": [
       "139851743661952"
      ]
     },
     "execution_count": 12,
     "metadata": {},
     "output_type": "execute_result"
    }
   ],
   "source": [
    "id(b)"
   ]
  },
  {
   "cell_type": "markdown",
   "id": "91bd4f4b-8e90-4ca3-9fb7-debdb18ca7c8",
   "metadata": {},
   "source": [
    "실제로는 a,b가 저장된 메모리 주소가 동일함 "
   ]
  },
  {
   "cell_type": "markdown",
   "id": "1c2d03e8-9b24-4899-a388-1e870ee25c1a",
   "metadata": {},
   "source": [
    "`-` 파이썬에서는 아래가 더 적절한 비유이다. "
   ]
  },
  {
   "cell_type": "markdown",
   "id": "07543542-3c4b-44bf-84c3-efb7a01079ac",
   "metadata": {},
   "source": [
    "(1) 메모리는 변수를 담을 방이 여러개 있는 호텔이라고 생각하자. "
   ]
  },
  {
   "cell_type": "markdown",
   "id": "4b1ec1d8-f867-4a04-8edd-af9c31f0a232",
   "metadata": {},
   "source": [
    "(2) 아래를 실행하였을 경우 \n",
    "```python\n",
    "a=[1,2,3]\n",
    "```\n",
    "- 메모리주소139851743661952에서 [1,2,3]을 생성해요 \n",
    "- 방 139851743661952의 방문에 a라는 포스트잇을 붙인다. \n",
    "- 앞으로 [1,2,3]에 접근하기 위해서는 여러 메모리방중에서 a라는 포스트잇이 붙은 방을 찾아가면 된다. "
   ]
  },
  {
   "cell_type": "markdown",
   "id": "f31f5368-c852-44a9-8d00-3fd94e11aa58",
   "metadata": {},
   "source": [
    "(3) 아래를 실행하였을 경우 \n",
    "```python\n",
    "b=a\n",
    "```\n",
    "- a라는 포스트잇이 있는데, a라는 포스트잇이랑 b라는 포스트잇과 같은 효과를 주도록 한다. \n",
    "- 쉽게말하면 b라는 포스트잇을 방 139851743661952의 방문에 붙인다는 이야기. \n",
    "- 앞으로 [1,2,3]에 접근하기 위해서는 여러 메모리방중에서 a라는 포스트잇이 붙어 있거나 b라는 포스트잇이 붙어있는 방을 찾아가면 된다. "
   ]
  },
  {
   "cell_type": "markdown",
   "id": "2cf744b1-6627-4268-973e-38044d868e8f",
   "metadata": {},
   "source": [
    "(4) 아래를 실행하면 \n",
    "```python\n",
    "a.append(4)\n",
    "```\n",
    "- a라는 포스트잇이 붙어있는 방으로 가서, 그 내용물 append함수를 써서 4를 추가하라. 즉 내용물 [1,2,3]을 [1,2,3,4]로 바꾸라. \n",
    "- 같은방에 a,b라는 포스트잇이 모두 붙어있음. 따라서 b라는 포스트잇이 붙은 방을 찾아가서 내용물을 열어보면 [1,2,3,4]가 나온다. "
   ]
  },
  {
   "cell_type": "markdown",
   "id": "b34e9953-4d7d-44d7-95f0-2f80d0fa78cb",
   "metadata": {},
   "source": [
    "### 할당문(=)의 이해 "
   ]
  },
  {
   "cell_type": "markdown",
   "id": "7e4cbd8f-78b6-4588-93ee-e38c4fdb5380",
   "metadata": {},
   "source": [
    "`-` 파이썬에서 할당문을 이해하기 위해서는 언제나 오른쪽을 먼저 읽어야 한다. \n",
    "- 할당문의 오른쪽에서는 객체를 생성하거나 가져옴\n",
    "- 그 후에 라벨을 붙이듯이 할당문 왼쪽의 변수가 할당문 오른쪽의 객체에 바인딩 된다. (참조)"
   ]
  },
  {
   "cell_type": "markdown",
   "id": "32db7d78-86de-44fc-9eeb-2d768638bb7c",
   "metadata": {},
   "source": [
    "`-` `b=a`는 \n",
    "\n",
    "> 나는 이미 a가 의미하는게 무엇인지 알고있어. 그런데 그 실체를 b라고도 부르고 싶어. \n",
    "\n",
    "라는 것과 같다. 즉 이미 a라고 부르고 있는것을 내가 b라고도 부르고싶다는 의미인데 이는 마치 별명과 같다. (b는 a의 별명, alias) 그리고 이처럼 하나의 오브젝트에 여러개의 이름을 붙이는 것을 에일리어싱이라고 부른다. "
   ]
  },
  {
   "cell_type": "markdown",
   "id": "0686cbbe-1d76-4403-8753-f68440035844",
   "metadata": {},
   "source": [
    "`-` 참조: 하나의 메모리 주소에 변수의 이름을 바인딩하는 것을 참조라고 한다. "
   ]
  },
  {
   "cell_type": "markdown",
   "id": "01837f51-2c27-4ad4-b4fd-7ddd5fe0d2b3",
   "metadata": {},
   "source": [
    "`-` 에일리어싱: 하나의 메모리 주소에 여러개의 변수이름을 바인딩 하는 것을 에일리어싱이라고 한다. "
   ]
  },
  {
   "cell_type": "markdown",
   "id": "0cc34293-b662-4eeb-9efb-44b1579d9d38",
   "metadata": {},
   "source": [
    "### id, value "
   ]
  },
  {
   "cell_type": "markdown",
   "id": "daa4c14a-a596-4ba4-8dc1-98d82fb938a5",
   "metadata": {},
   "source": [
    "`-` 아래의 예제를 살펴보자. "
   ]
  },
  {
   "cell_type": "code",
   "execution_count": 16,
   "id": "dbd2931d-9d86-4a18-ace9-af84281e8cab",
   "metadata": {},
   "outputs": [],
   "source": [
    "a=[1,2,3]\n",
    "b=a\n",
    "a.append(4)\n",
    "c=[1,2,3,4]"
   ]
  },
  {
   "cell_type": "markdown",
   "id": "d0b10539-30a8-4a60-ae70-f007d6198b23",
   "metadata": {},
   "source": [
    "여기에서 a,b,c는 모두 같은 value를 가진다. "
   ]
  },
  {
   "cell_type": "code",
   "execution_count": 17,
   "id": "5a59a0c2-a803-4832-98b0-6726d073ff4e",
   "metadata": {},
   "outputs": [
    {
     "data": {
      "text/plain": [
       "[1, 2, 3, 4]"
      ]
     },
     "execution_count": 17,
     "metadata": {},
     "output_type": "execute_result"
    }
   ],
   "source": [
    "a"
   ]
  },
  {
   "cell_type": "code",
   "execution_count": 18,
   "id": "251f2456-cd1a-4ac4-bfb1-ccf3eeee9863",
   "metadata": {},
   "outputs": [
    {
     "data": {
      "text/plain": [
       "[1, 2, 3, 4]"
      ]
     },
     "execution_count": 18,
     "metadata": {},
     "output_type": "execute_result"
    }
   ],
   "source": [
    "b"
   ]
  },
  {
   "cell_type": "code",
   "execution_count": 19,
   "id": "cf187744-4f09-433c-a3d9-3891e87b5334",
   "metadata": {},
   "outputs": [
    {
     "data": {
      "text/plain": [
       "[1, 2, 3, 4]"
      ]
     },
     "execution_count": 19,
     "metadata": {},
     "output_type": "execute_result"
    }
   ],
   "source": [
    "c"
   ]
  },
  {
   "cell_type": "markdown",
   "id": "bbe49350-760e-450e-b5fc-cc0ad55a0cae",
   "metadata": {},
   "source": [
    "하지만 그 id까지 같은 것은 아니다. "
   ]
  },
  {
   "cell_type": "code",
   "execution_count": 20,
   "id": "dddd3673-e689-483f-9174-8f13a79fd270",
   "metadata": {},
   "outputs": [
    {
     "data": {
      "text/plain": [
       "(139851739924096, 139851739924096, 139851742724800)"
      ]
     },
     "execution_count": 20,
     "metadata": {},
     "output_type": "execute_result"
    }
   ],
   "source": [
    "id(a), id(b), id(c)"
   ]
  },
  {
   "cell_type": "markdown",
   "id": "a1776be9-445c-4504-9fa1-7464cf880490",
   "metadata": {},
   "source": [
    "`-` 이제 다시 아래의 코드를 살펴보자. "
   ]
  },
  {
   "cell_type": "code",
   "execution_count": 31,
   "id": "648cb555-6aa4-459a-a81e-b38533a69a7c",
   "metadata": {},
   "outputs": [],
   "source": [
    "a=[1,2,3] \n",
    "b=a \n",
    "a=[1,2,3]+[4] "
   ]
  },
  {
   "cell_type": "code",
   "execution_count": 32,
   "id": "0a2352b6-3e9e-4b7d-adc8-b694a4873b86",
   "metadata": {},
   "outputs": [
    {
     "data": {
      "text/plain": [
       "([1, 2, 3, 4], [1, 2, 3])"
      ]
     },
     "execution_count": 32,
     "metadata": {},
     "output_type": "execute_result"
    }
   ],
   "source": [
    "a,b"
   ]
  },
  {
   "cell_type": "code",
   "execution_count": 33,
   "id": "d58e7d47-db56-4072-9d43-8488e9a62811",
   "metadata": {},
   "outputs": [
    {
     "data": {
      "text/plain": [
       "(139851742145536, 139851743152000)"
      ]
     },
     "execution_count": 33,
     "metadata": {},
     "output_type": "execute_result"
    }
   ],
   "source": [
    "id(a),id(b)"
   ]
  },
  {
   "cell_type": "markdown",
   "id": "93259a82-def2-47fb-a532-0c98755a071c",
   "metadata": {},
   "source": [
    "### 이터닝 "
   ]
  },
  {
   "cell_type": "markdown",
   "id": "16c5191b-8073-4bfc-b268-faa2fe3634f7",
   "metadata": {},
   "source": [
    "`-` 참조의 개념은 확실하게 알겠음. 이제 아래의 예제를 살펴보자. "
   ]
  },
  {
   "cell_type": "code",
   "execution_count": 34,
   "id": "b9e33d9e-1142-4547-bb8a-02fb072adab2",
   "metadata": {},
   "outputs": [
    {
     "data": {
      "text/plain": [
       "139852067748208"
      ]
     },
     "execution_count": 34,
     "metadata": {},
     "output_type": "execute_result"
    }
   ],
   "source": [
    "a=1+2 \n",
    "id(a)"
   ]
  },
  {
   "cell_type": "code",
   "execution_count": 35,
   "id": "4f9c91ac-c3be-4d57-a3e5-0e6fd7717f85",
   "metadata": {},
   "outputs": [
    {
     "data": {
      "text/plain": [
       "139852067748208"
      ]
     },
     "execution_count": 35,
     "metadata": {},
     "output_type": "execute_result"
    }
   ],
   "source": [
    "b=4-1\n",
    "id(b)"
   ]
  },
  {
   "cell_type": "markdown",
   "id": "c86f9e08-163c-4be8-9ad3-702806c82c62",
   "metadata": {},
   "source": [
    "이게 왜 똑같지..? "
   ]
  },
  {
   "cell_type": "markdown",
   "id": "fa6f25b2-b9ff-475c-8add-b6653cba1ebc",
   "metadata": {},
   "source": [
    "(해설) 파이썬의 경우 효율성을 위해서 -5~256까지의 정수를 미리 저장해둠. "
   ]
  },
  {
   "cell_type": "code",
   "execution_count": 42,
   "id": "161ac0b4-b6cd-4508-9772-48cadafd1eac",
   "metadata": {},
   "outputs": [
    {
     "data": {
      "text/plain": [
       "139852067748816"
      ]
     },
     "execution_count": 42,
     "metadata": {},
     "output_type": "execute_result"
    }
   ],
   "source": [
    "id(22)"
   ]
  },
  {
   "cell_type": "markdown",
   "id": "2a15a6b2-6e62-4048-b1c3-ded579da5e30",
   "metadata": {},
   "source": [
    "`-` 이제 아래의 예제를 살펴보자. "
   ]
  },
  {
   "cell_type": "code",
   "execution_count": 43,
   "id": "9de735da-bf2b-43eb-b86f-b4ce6273cc17",
   "metadata": {},
   "outputs": [
    {
     "data": {
      "text/plain": [
       "139851741177168"
      ]
     },
     "execution_count": 43,
     "metadata": {},
     "output_type": "execute_result"
    }
   ],
   "source": [
    "a=1+2021\n",
    "id(a)"
   ]
  },
  {
   "cell_type": "code",
   "execution_count": 69,
   "id": "cc586f95-ce6d-4792-a004-1003c8f0fc52",
   "metadata": {},
   "outputs": [
    {
     "data": {
      "text/plain": [
       "139851741254000"
      ]
     },
     "execution_count": 69,
     "metadata": {},
     "output_type": "execute_result"
    }
   ],
   "source": [
    "b=2023-1\n",
    "id(b)"
   ]
  },
  {
   "cell_type": "code",
   "execution_count": 74,
   "id": "22973fcd-4ca4-463e-ab08-8a9e99014d91",
   "metadata": {},
   "outputs": [
    {
     "data": {
      "text/plain": [
       "139851741253744"
      ]
     },
     "execution_count": 74,
     "metadata": {},
     "output_type": "execute_result"
    }
   ],
   "source": [
    "id(2022)"
   ]
  },
  {
   "cell_type": "markdown",
   "id": "ef893b44-a7ae-4bf3-9bed-31babd14a211",
   "metadata": {},
   "source": [
    "### copy (shallow copy)"
   ]
  },
  {
   "cell_type": "markdown",
   "id": "fb40c0d6-04cf-4e5c-b423-df4c226fbec0",
   "metadata": {},
   "source": [
    "`-` 아래의 예제를 살펴보자. (참조를 제대로 이해했다면 아래의 예제는 자연스럽게 이해가능)"
   ]
  },
  {
   "cell_type": "code",
   "execution_count": 75,
   "id": "a8f71bdb-734e-4ff9-b334-d2e769624795",
   "metadata": {},
   "outputs": [],
   "source": [
    "l1 = [3, [66,55,44]]\n",
    "l2 = l1 "
   ]
  },
  {
   "cell_type": "code",
   "execution_count": 76,
   "id": "1a8a2860-7485-4885-a26e-408078f3043d",
   "metadata": {},
   "outputs": [
    {
     "data": {
      "text/plain": [
       "(139851740541056, 139851740541056)"
      ]
     },
     "execution_count": 76,
     "metadata": {},
     "output_type": "execute_result"
    }
   ],
   "source": [
    "id(l1),id(l2)"
   ]
  },
  {
   "cell_type": "code",
   "execution_count": 78,
   "id": "247584f6-7b17-4502-ae27-3ea4a8b2c75b",
   "metadata": {},
   "outputs": [],
   "source": [
    "l1[0]=4 "
   ]
  },
  {
   "cell_type": "code",
   "execution_count": 79,
   "id": "3a6f6a1d-a36f-4c89-840d-eb616852d07e",
   "metadata": {},
   "outputs": [
    {
     "data": {
      "text/plain": [
       "[4, [66, 55, 44]]"
      ]
     },
     "execution_count": 79,
     "metadata": {},
     "output_type": "execute_result"
    }
   ],
   "source": [
    "l1"
   ]
  },
  {
   "cell_type": "code",
   "execution_count": 80,
   "id": "b589db44-6c96-49b4-9362-ce0d2bc54aa4",
   "metadata": {},
   "outputs": [
    {
     "data": {
      "text/plain": [
       "[4, [66, 55, 44]]"
      ]
     },
     "execution_count": 80,
     "metadata": {},
     "output_type": "execute_result"
    }
   ],
   "source": [
    "l2"
   ]
  },
  {
   "cell_type": "code",
   "execution_count": 81,
   "id": "b3302942-0062-4397-86e1-4ca3aef81fe6",
   "metadata": {},
   "outputs": [],
   "source": [
    "l2.append(5)"
   ]
  },
  {
   "cell_type": "code",
   "execution_count": 82,
   "id": "d4ca04d6-8725-420c-857b-88e1d0d4945a",
   "metadata": {},
   "outputs": [
    {
     "data": {
      "text/plain": [
       "[4, [66, 55, 44], 5]"
      ]
     },
     "execution_count": 82,
     "metadata": {},
     "output_type": "execute_result"
    }
   ],
   "source": [
    "l2"
   ]
  },
  {
   "cell_type": "code",
   "execution_count": 83,
   "id": "9f8a160c-0a1c-4830-b1a0-0bee177d71fe",
   "metadata": {},
   "outputs": [
    {
     "data": {
      "text/plain": [
       "[4, [66, 55, 44], 5]"
      ]
     },
     "execution_count": 83,
     "metadata": {},
     "output_type": "execute_result"
    }
   ],
   "source": [
    "l1"
   ]
  },
  {
   "cell_type": "markdown",
   "id": "5fb34068-6eeb-4b40-a9c8-7368a56ba843",
   "metadata": {},
   "source": [
    "`-` R과 같은 방식으로 `=`를 사용하고 싶다면? "
   ]
  },
  {
   "cell_type": "code",
   "execution_count": 84,
   "id": "bdd72541-bcbe-4bf5-9c35-8b5eafc972b3",
   "metadata": {},
   "outputs": [],
   "source": [
    "l1 = [3, [66,55,44]]\n",
    "l2 = l1.copy()"
   ]
  },
  {
   "cell_type": "code",
   "execution_count": 86,
   "id": "4bd760ff-25cd-4dda-adbb-96b7aee9844b",
   "metadata": {},
   "outputs": [
    {
     "data": {
      "text/plain": [
       "(139851741022656, 139851741533184)"
      ]
     },
     "execution_count": 86,
     "metadata": {},
     "output_type": "execute_result"
    }
   ],
   "source": [
    "id(l1),id(l2) ## 드디어 주소가 달라졌다."
   ]
  },
  {
   "cell_type": "code",
   "execution_count": 90,
   "id": "494ba99e-cc31-4222-816d-e17d3f7f9500",
   "metadata": {},
   "outputs": [],
   "source": [
    "l1[0]=100"
   ]
  },
  {
   "cell_type": "code",
   "execution_count": 91,
   "id": "3f0c319f-2af8-4e14-a340-cb624f2c0a49",
   "metadata": {},
   "outputs": [
    {
     "data": {
      "text/plain": [
       "[100, [66, 55, 44]]"
      ]
     },
     "execution_count": 91,
     "metadata": {},
     "output_type": "execute_result"
    }
   ],
   "source": [
    "l1"
   ]
  },
  {
   "cell_type": "code",
   "execution_count": 92,
   "id": "0d0cb358-53ed-4a12-9d68-8f9bea9c1994",
   "metadata": {},
   "outputs": [
    {
     "data": {
      "text/plain": [
       "[3, [66, 55, 44]]"
      ]
     },
     "execution_count": 92,
     "metadata": {},
     "output_type": "execute_result"
    }
   ],
   "source": [
    "l2"
   ]
  },
  {
   "cell_type": "markdown",
   "id": "1ce69a50-9cf5-4d9d-9e51-6625bc835fee",
   "metadata": {},
   "source": [
    "`-` 이제 다 이해했다고 생각했는데.. "
   ]
  },
  {
   "cell_type": "code",
   "execution_count": 95,
   "id": "0008b77c-8fac-454c-953a-f6671cfe3231",
   "metadata": {},
   "outputs": [],
   "source": [
    "l1 = [3,[66,55,44]]\n",
    "l2 = l1.copy()"
   ]
  },
  {
   "cell_type": "code",
   "execution_count": 96,
   "id": "5951a533-d6d5-43e2-bff5-4924d8a4724a",
   "metadata": {},
   "outputs": [
    {
     "data": {
      "text/plain": [
       "(139851987671936, 139851740745472)"
      ]
     },
     "execution_count": 96,
     "metadata": {},
     "output_type": "execute_result"
    }
   ],
   "source": [
    "id(l1),id(l2)"
   ]
  },
  {
   "cell_type": "code",
   "execution_count": 98,
   "id": "224251a8-804a-4957-a50d-20ea1e9b9c2f",
   "metadata": {},
   "outputs": [],
   "source": [
    "l1[1].append(33)"
   ]
  },
  {
   "cell_type": "code",
   "execution_count": 99,
   "id": "f1c37aaa-7cd8-4c02-86bc-94e7c2348067",
   "metadata": {},
   "outputs": [
    {
     "data": {
      "text/plain": [
       "[3, [66, 55, 44, 33]]"
      ]
     },
     "execution_count": 99,
     "metadata": {},
     "output_type": "execute_result"
    }
   ],
   "source": [
    "l1"
   ]
  },
  {
   "cell_type": "code",
   "execution_count": 100,
   "id": "c83c30e6-cbb4-4f5e-816d-68f4278217c8",
   "metadata": {},
   "outputs": [
    {
     "data": {
      "text/plain": [
       "[3, [66, 55, 44, 33]]"
      ]
     },
     "execution_count": 100,
     "metadata": {},
     "output_type": "execute_result"
    }
   ],
   "source": [
    "l2"
   ]
  },
  {
   "cell_type": "markdown",
   "id": "12a0f89c-7bbc-400f-b123-ba0cdad0cfd7",
   "metadata": {},
   "source": [
    "왜 또 참조한것마냥 l1과 l2가 같이 바뀌고 있지? "
   ]
  },
  {
   "cell_type": "markdown",
   "id": "78b64c55-630d-4b70-9b06-06cb8df36ca3",
   "metadata": {},
   "source": [
    "`-` 위의 문제를 해설하여 보자. (주의: 해설이 좀 길어요) "
   ]
  },
  {
   "cell_type": "markdown",
   "id": "d418a4e9-c234-4834-a85e-c512760bef6d",
   "metadata": {},
   "source": [
    "(상황1)"
   ]
  },
  {
   "cell_type": "code",
   "execution_count": 104,
   "id": "fbed16db-96c4-452c-867f-d14bccca2883",
   "metadata": {},
   "outputs": [],
   "source": [
    "a=2222\n",
    "b=2222"
   ]
  },
  {
   "cell_type": "code",
   "execution_count": 105,
   "id": "6ffc2266-5f08-4b3c-9e1c-7f47df85c129",
   "metadata": {},
   "outputs": [
    {
     "data": {
      "text/plain": [
       "(139851743195216, 139851743195440)"
      ]
     },
     "execution_count": 105,
     "metadata": {},
     "output_type": "execute_result"
    }
   ],
   "source": [
    "id(a),id(b)"
   ]
  },
  {
   "cell_type": "markdown",
   "id": "0cedd345-5f0b-48cd-9015-ff79a2fdea5c",
   "metadata": {},
   "source": [
    "현재 메모리 상황 "
   ]
  },
  {
   "cell_type": "markdown",
   "id": "d3688d99-0e4e-472d-a33c-c8ce2fbc7215",
   "metadata": {},
   "source": [
    "- -5~256 까지의 숫자는 어딘가에 저장되어 있음 \n",
    "- 2222라는 오브젝트가 어떤공간에 생성되고 그 공간에 a라는 라벨이 붙음 \n",
    "- 2222라는 오브젝트가 어떤공간에 생성되고 그 공간에 b라는 라벨이 붙음 "
   ]
  },
  {
   "cell_type": "markdown",
   "id": "fb0363d9-61f1-4f41-ba2e-31f19cf44920",
   "metadata": {},
   "source": [
    "즉 -5~256 이외의 2개의 메모리 공간을 추가적으로 사용 "
   ]
  },
  {
   "cell_type": "markdown",
   "id": "90fdd54d-2e19-4303-8cd8-c72169866725",
   "metadata": {},
   "source": [
    "(상황2) 이제 아래의 상황을 살펴보자 "
   ]
  },
  {
   "cell_type": "code",
   "execution_count": 106,
   "id": "6f5e542f-4fde-4308-b317-259a2c5d1fbb",
   "metadata": {},
   "outputs": [],
   "source": [
    "a=[1,2,2222]\n",
    "b=[1,2,2222]"
   ]
  },
  {
   "cell_type": "code",
   "execution_count": 107,
   "id": "815808ea-9e05-4dae-ac35-26ca44a22dc1",
   "metadata": {},
   "outputs": [
    {
     "data": {
      "text/plain": [
       "(139851740010880, 139851742120448)"
      ]
     },
     "execution_count": 107,
     "metadata": {},
     "output_type": "execute_result"
    }
   ],
   "source": [
    "id(a),id(b)"
   ]
  },
  {
   "cell_type": "code",
   "execution_count": 108,
   "id": "dd4ad5df-2eef-47a6-be05-4dabfcd86d1f",
   "metadata": {},
   "outputs": [
    {
     "data": {
      "text/plain": [
       "(139852067748144, 139852067748144)"
      ]
     },
     "execution_count": 108,
     "metadata": {},
     "output_type": "execute_result"
    }
   ],
   "source": [
    "id(a[0]),id(b[0])"
   ]
  },
  {
   "cell_type": "code",
   "execution_count": 109,
   "id": "575304c1-0269-40c6-9d8d-17260308b257",
   "metadata": {},
   "outputs": [
    {
     "data": {
      "text/plain": [
       "(139852067748176, 139852067748176)"
      ]
     },
     "execution_count": 109,
     "metadata": {},
     "output_type": "execute_result"
    }
   ],
   "source": [
    "id(a[1]),id(b[1])"
   ]
  },
  {
   "cell_type": "code",
   "execution_count": 110,
   "id": "c01401d0-36b1-4d61-befb-64ba22be2c3e",
   "metadata": {},
   "outputs": [
    {
     "data": {
      "text/plain": [
       "(139851743195248, 139851743195568)"
      ]
     },
     "execution_count": 110,
     "metadata": {},
     "output_type": "execute_result"
    }
   ],
   "source": [
    "id(a[2]),id(b[2])"
   ]
  },
  {
   "cell_type": "code",
   "execution_count": 111,
   "id": "7f024488-6c2f-44fb-a59c-475c1b698d7b",
   "metadata": {},
   "outputs": [],
   "source": [
    "a.append(4)"
   ]
  },
  {
   "cell_type": "code",
   "execution_count": 112,
   "id": "f5cce646-515c-4b69-8eb8-fa3fcda83951",
   "metadata": {},
   "outputs": [
    {
     "data": {
      "text/plain": [
       "[1, 2, 2222, 4]"
      ]
     },
     "execution_count": 112,
     "metadata": {},
     "output_type": "execute_result"
    }
   ],
   "source": [
    "a"
   ]
  },
  {
   "cell_type": "code",
   "execution_count": 113,
   "id": "0cd885b6-21ff-452b-8ef9-60fbd97a0c6d",
   "metadata": {},
   "outputs": [
    {
     "data": {
      "text/plain": [
       "[1, 2, 2222]"
      ]
     },
     "execution_count": 113,
     "metadata": {},
     "output_type": "execute_result"
    }
   ],
   "source": [
    "b"
   ]
  },
  {
   "cell_type": "markdown",
   "id": "6d7092f0-6986-4408-8f9d-5e5a8b112951",
   "metadata": {},
   "source": [
    "해설을 다시 해보면 아래와 같다. "
   ]
  },
  {
   "cell_type": "markdown",
   "id": "605f9af3-19b0-4bfa-bd54-067742ba3fa0",
   "metadata": {},
   "source": [
    "- -5~256까지의 숫자가 메모리에 저장되어 있다. \n",
    "- 2222가 어떤 공간에 저장된다. 공간 X1이라고 하자. \n",
    "- 리스트오브젝트가 만들어지고 원소로 1,2,2222를 가짐. 이 공간을 a라고 부름. \n",
    "- 2222가 어떤 공간에 저장된다. 공간을 X2라고 하자. \n",
    "- 리스트오브젝트가 만들어지고 원소로 1,2,2222를 가짐. 이 공간을 b라고 부름. \n",
    "- 공간 a에 원소 4를 추가시킴. "
   ]
  },
  {
   "cell_type": "markdown",
   "id": "00d2431b-0783-4c8a-8a34-7320cda20a8e",
   "metadata": {},
   "source": [
    "즉 -5~256이외에 4개의 메모리 공간을 추가사용 "
   ]
  },
  {
   "cell_type": "markdown",
   "id": "9a29af6a-4d42-435a-b7b6-6ab31ea71c7f",
   "metadata": {},
   "source": [
    "- X1: 2222\n",
    "- X2: 2222 \n",
    "- a = 1,2,공간X1의값 --> append를 쓰면 1,2,공간X1의값,4 \n",
    "- b = 1,2,공간X2의값 \n"
   ]
  },
  {
   "cell_type": "markdown",
   "id": "cc91d8c2-174e-4ae6-9cee-3e33ccedf231",
   "metadata": {},
   "source": [
    "(상황3)"
   ]
  },
  {
   "cell_type": "code",
   "execution_count": 131,
   "id": "93000910-8962-48d2-9190-de595fb002d6",
   "metadata": {},
   "outputs": [],
   "source": [
    "l1 = [3,[66,55,44]]\n",
    "l2 = l1.copy()\n",
    "l1[1].append(33)"
   ]
  },
  {
   "cell_type": "markdown",
   "id": "db510e06-751d-48a0-a775-f52b12b8fb80",
   "metadata": {},
   "source": [
    "해설을 해보자. "
   ]
  },
  {
   "cell_type": "markdown",
   "id": "831a667d-3493-4a1c-9144-198fbedda1b2",
   "metadata": {},
   "source": [
    "- -5~256까지의 숫자가 메모리에 저장되어 있다. \n",
    "- [66,55,44]가 저장되는 공간이 생성됨. 이 공간을 X1 \n",
    "- [3,[66,55,44]]가 저장되는 공간이 생성됨. 이 공간을 l1 \n",
    "- 공간 l2가 만들어지고 그 안에 리스트가 있음. 리스트의 첫번째원소는 3, 두번째원소는 공간X1의 값. \n",
    "- 공간X1의 값에 접근하여 33을 추가함. 즉 공간 X1의 값을 [66,55,44]에서 [66,55,44,33]으로 변경 "
   ]
  },
  {
   "cell_type": "markdown",
   "id": "70f26363-45ff-4b9b-bf5c-2fe2473458e3",
   "metadata": {},
   "source": [
    "따라서 \n",
    "- l1 = [3, 공간X1의 값] \n",
    "- l2 = [3, 공간X2의 값] \n",
    "- l1[1].append(33) 을 하는 순간 공간 x1의 값이 [66,55,44]에서 [66,55,44,33]으로 변경 "
   ]
  },
  {
   "cell_type": "markdown",
   "id": "2752c95b-65bb-4d21-9b41-8f513920c1ac",
   "metadata": {},
   "source": [
    "`-` 결국 아래의 2개의 코드는 다른 코드임 "
   ]
  },
  {
   "cell_type": "code",
   "execution_count": 115,
   "id": "e65057c5-29bd-4b5d-97bd-962cb1bfc3ac",
   "metadata": {},
   "outputs": [],
   "source": [
    "### 코드1\n",
    "a=[2222,3333]\n",
    "b=[2222,3333]"
   ]
  },
  {
   "cell_type": "code",
   "execution_count": 116,
   "id": "b7d21573-ca71-41c2-a5ee-7ea194489e43",
   "metadata": {},
   "outputs": [
    {
     "data": {
      "text/plain": [
       "(139851750028864, 139851740431104)"
      ]
     },
     "execution_count": 116,
     "metadata": {},
     "output_type": "execute_result"
    }
   ],
   "source": [
    "id(a),id(b)"
   ]
  },
  {
   "cell_type": "code",
   "execution_count": 117,
   "id": "e6be7d4b-042d-462f-bc49-26eba409ccbd",
   "metadata": {},
   "outputs": [
    {
     "data": {
      "text/plain": [
       "(139851743196432, 139851743196336)"
      ]
     },
     "execution_count": 117,
     "metadata": {},
     "output_type": "execute_result"
    }
   ],
   "source": [
    "id(a[0]),id(b[0])"
   ]
  },
  {
   "cell_type": "code",
   "execution_count": 118,
   "id": "e86b9684-78f3-47f0-86e7-da3c99c05ee1",
   "metadata": {},
   "outputs": [
    {
     "data": {
      "text/plain": [
       "(139851743196240, 139851743196752)"
      ]
     },
     "execution_count": 118,
     "metadata": {},
     "output_type": "execute_result"
    }
   ],
   "source": [
    "id(a[1]),id(b[1])"
   ]
  },
  {
   "cell_type": "code",
   "execution_count": 119,
   "id": "220b865a-f13a-41f9-b220-6aa4cefa8c97",
   "metadata": {},
   "outputs": [],
   "source": [
    "### 코드2 \n",
    "a=[2222,3333]\n",
    "b=a.copy()"
   ]
  },
  {
   "cell_type": "code",
   "execution_count": 120,
   "id": "75f0d665-b723-432d-9036-bde471ed66cc",
   "metadata": {},
   "outputs": [
    {
     "data": {
      "text/plain": [
       "(139851739986112, 139851739526784)"
      ]
     },
     "execution_count": 120,
     "metadata": {},
     "output_type": "execute_result"
    }
   ],
   "source": [
    "id(a),id(b)"
   ]
  },
  {
   "cell_type": "code",
   "execution_count": 121,
   "id": "d4a25456-5f87-42f9-9124-434134975a51",
   "metadata": {},
   "outputs": [
    {
     "data": {
      "text/plain": [
       "(139851743196912, 139851743196912)"
      ]
     },
     "execution_count": 121,
     "metadata": {},
     "output_type": "execute_result"
    }
   ],
   "source": [
    "id(a[0]),id(b[0])"
   ]
  },
  {
   "cell_type": "code",
   "execution_count": 122,
   "id": "5f0a061c-0711-4eab-ad44-b182cd1e2fdc",
   "metadata": {},
   "outputs": [
    {
     "data": {
      "text/plain": [
       "(139851743196848, 139851743196848)"
      ]
     },
     "execution_count": 122,
     "metadata": {},
     "output_type": "execute_result"
    }
   ],
   "source": [
    "id(a[1]),id(b[1])"
   ]
  },
  {
   "cell_type": "markdown",
   "id": "368ad419-9e1c-401b-a3d3-bd3d39610040",
   "metadata": {},
   "source": [
    "`-` 결국 `*.copy()` 메소드는 깊은곳까지 복사를 하지 않음. (메모리를 너무 아낀다.) "
   ]
  },
  {
   "cell_type": "markdown",
   "id": "6a77e831-b9d7-4cbc-8c03-b8ac7fd37aa1",
   "metadata": {},
   "source": [
    "`-` 사실 그런데 이렇게 해도 평소에는 티가 잘 안난다. "
   ]
  },
  {
   "cell_type": "code",
   "execution_count": 123,
   "id": "02ba8914-7f34-4b84-97ae-68973b018ed3",
   "metadata": {},
   "outputs": [],
   "source": [
    "a=[2222,3333]\n",
    "b=a.copy()"
   ]
  },
  {
   "cell_type": "code",
   "execution_count": 124,
   "id": "a3e29eef-f170-4a3a-875f-e02a521a85b3",
   "metadata": {},
   "outputs": [
    {
     "data": {
      "text/plain": [
       "[2222, 3333]"
      ]
     },
     "execution_count": 124,
     "metadata": {},
     "output_type": "execute_result"
    }
   ],
   "source": [
    "a"
   ]
  },
  {
   "cell_type": "code",
   "execution_count": 125,
   "id": "073d00fd-3093-45c5-aa6a-668c7db6533e",
   "metadata": {},
   "outputs": [
    {
     "data": {
      "text/plain": [
       "[2222, 3333]"
      ]
     },
     "execution_count": 125,
     "metadata": {},
     "output_type": "execute_result"
    }
   ],
   "source": [
    "b"
   ]
  },
  {
   "cell_type": "code",
   "execution_count": 126,
   "id": "e403087f-6ec1-4bb0-9d72-5abdf5e09099",
   "metadata": {},
   "outputs": [],
   "source": [
    "b[1]=4444"
   ]
  },
  {
   "cell_type": "code",
   "execution_count": 127,
   "id": "531c6e54-e2d4-479e-89b6-fee2af8bebc8",
   "metadata": {},
   "outputs": [
    {
     "data": {
      "text/plain": [
       "[2222, 4444]"
      ]
     },
     "execution_count": 127,
     "metadata": {},
     "output_type": "execute_result"
    }
   ],
   "source": [
    "b"
   ]
  },
  {
   "cell_type": "code",
   "execution_count": 128,
   "id": "1d084a6e-ef49-43f9-b20a-4785868521a8",
   "metadata": {},
   "outputs": [
    {
     "data": {
      "text/plain": [
       "(139851740984000, 139851740712640)"
      ]
     },
     "execution_count": 128,
     "metadata": {},
     "output_type": "execute_result"
    }
   ],
   "source": [
    "id(a),id(b)"
   ]
  },
  {
   "cell_type": "code",
   "execution_count": 129,
   "id": "d01671b1-55a8-4c42-b7b2-78078e854edf",
   "metadata": {},
   "outputs": [
    {
     "data": {
      "text/plain": [
       "(139851743197456, 139851743197456)"
      ]
     },
     "execution_count": 129,
     "metadata": {},
     "output_type": "execute_result"
    }
   ],
   "source": [
    "id(a[0]),id(b[0])"
   ]
  },
  {
   "cell_type": "code",
   "execution_count": 130,
   "id": "c54bc133-22e7-4da9-96c7-0021f17e1ea0",
   "metadata": {},
   "outputs": [
    {
     "data": {
      "text/plain": [
       "(139851743197392, 139851743197488)"
      ]
     },
     "execution_count": 130,
     "metadata": {},
     "output_type": "execute_result"
    }
   ],
   "source": [
    "id(a[1]),id(b[1])"
   ]
  },
  {
   "cell_type": "markdown",
   "id": "c0fbc2bf-9b79-49ef-81ae-b18f5d13f759",
   "metadata": {},
   "source": [
    "### shallow copy 연습문제 "
   ]
  },
  {
   "cell_type": "markdown",
   "id": "cb51f685-9ff4-4bc8-b304-28d1bce76174",
   "metadata": {},
   "source": [
    "`-` 예제1: 아래코드의 결과를 (l1,l2의 값, 메모리상황) 예측하라. 결과가 나오는 이유를 설명하라. "
   ]
  },
  {
   "cell_type": "code",
   "execution_count": 132,
   "id": "f85f50a1-06a3-4662-8abc-aec27d5f0aa2",
   "metadata": {},
   "outputs": [],
   "source": [
    "l1= [3,[66,55,44]] ## X1, l1 \n",
    "l2= l1.copy() ## l2 \n",
    "l1[1].append(33) ## "
   ]
  },
  {
   "cell_type": "code",
   "execution_count": 133,
   "id": "6e1c48ed-a11e-4a4c-ac86-da52b883fa8b",
   "metadata": {},
   "outputs": [
    {
     "data": {
      "text/plain": [
       "([3, [66, 55, 44, 33]], [3, [66, 55, 44, 33]])"
      ]
     },
     "execution_count": 133,
     "metadata": {},
     "output_type": "execute_result"
    }
   ],
   "source": [
    "l1,l2"
   ]
  },
  {
   "cell_type": "markdown",
   "id": "84b38fb8-c457-4884-b54b-496a64c1384b",
   "metadata": {},
   "source": [
    "`-` 예제2: 아래코드의 결과를 (l1,l2의 값, 메모리상황) 예측하라. 결과가 나오는 이유를 설명하라. "
   ]
  },
  {
   "cell_type": "code",
   "execution_count": 134,
   "id": "affbaa95-05f7-4a38-9252-bdd3a85bb38f",
   "metadata": {},
   "outputs": [],
   "source": [
    "l1= [3,[66,55,44]] ## X1, l1  \n",
    "l2= l1.copy() ## l2  \n",
    "l1[1] = l1[1]+[33] ## X2 "
   ]
  },
  {
   "cell_type": "code",
   "execution_count": 135,
   "id": "74b831a5-20b4-4c42-b758-cb2dccaf2888",
   "metadata": {},
   "outputs": [
    {
     "data": {
      "text/plain": [
       "([3, [66, 55, 44, 33]], [3, [66, 55, 44]])"
      ]
     },
     "execution_count": 135,
     "metadata": {},
     "output_type": "execute_result"
    }
   ],
   "source": [
    "l1,l2"
   ]
  },
  {
   "cell_type": "markdown",
   "id": "6cb1abd8-10f2-42d9-a73d-c00b5d375be5",
   "metadata": {},
   "source": [
    "`-` 예제3: 예제2에서 이어서 아래를 실행하라. 아래코드의 결과를 (l1,l2의 값, 메모리상황) 예측하라. 결과가 나오는 이유를 설명하라. "
   ]
  },
  {
   "cell_type": "code",
   "execution_count": 136,
   "id": "7292fc17-e19a-429c-b2ef-f802c0f7d76b",
   "metadata": {},
   "outputs": [],
   "source": [
    "l1[1].remove(33)"
   ]
  },
  {
   "cell_type": "code",
   "execution_count": 137,
   "id": "8d3f2d79-89d0-4d2b-9214-fc748a7daf89",
   "metadata": {},
   "outputs": [
    {
     "data": {
      "text/plain": [
       "([3, [66, 55, 44]], [3, [66, 55, 44]])"
      ]
     },
     "execution_count": 137,
     "metadata": {},
     "output_type": "execute_result"
    }
   ],
   "source": [
    "l1,l2"
   ]
  },
  {
   "cell_type": "markdown",
   "id": "98b81569-e06e-481d-aad2-7ca62e49ad49",
   "metadata": {},
   "source": [
    "`-` 예제4: 현재 l1,l2의 값을 확인하라. "
   ]
  },
  {
   "cell_type": "markdown",
   "id": "27b1b012-e1b0-41ac-8bc8-014cfce0dc9e",
   "metadata": {},
   "source": [
    "예제3에서 이어서 아래를 실행하라. 아래코드의 결과를 (l1,l2의 값, 메모리상황) 예측하라. 결과가 나오는 이유를 설명하라. 결과가 예제1과 다른 이유는? "
   ]
  },
  {
   "cell_type": "code",
   "execution_count": 138,
   "id": "f872104b-d394-44d3-9200-c81188cc1747",
   "metadata": {},
   "outputs": [],
   "source": [
    "l1[1].append(33)"
   ]
  },
  {
   "cell_type": "code",
   "execution_count": 139,
   "id": "591f97c9-8dbc-49ad-ad74-9ae886d44193",
   "metadata": {},
   "outputs": [
    {
     "data": {
      "text/plain": [
       "([3, [66, 55, 44, 33]], [3, [66, 55, 44]])"
      ]
     },
     "execution_count": 139,
     "metadata": {},
     "output_type": "execute_result"
    }
   ],
   "source": [
    "l1,l2"
   ]
  },
  {
   "cell_type": "markdown",
   "id": "31aa007a-82cb-4657-a13a-7d5733134ebc",
   "metadata": {},
   "source": [
    "`-` 예제5: 아래코드를 관찰하여 결과를 관찰하라. 결과가 예제1과 같은가 예제2와 같은가? -- 예제1과 같아요 "
   ]
  },
  {
   "cell_type": "code",
   "execution_count": 142,
   "id": "37265e3d-f858-4386-ab55-bf5fb87ffc46",
   "metadata": {},
   "outputs": [],
   "source": [
    "l1=[3,[66,55,44]]\n",
    "l2=l1.copy()\n",
    "l2[1] += [33] ## l2[1] = l2[1]+[33] "
   ]
  },
  {
   "cell_type": "code",
   "execution_count": 143,
   "id": "555a9ff4-850f-42a4-8d0c-520bf8d268c0",
   "metadata": {},
   "outputs": [
    {
     "data": {
      "text/plain": [
       "([3, [66, 55, 44, 33]], [3, [66, 55, 44, 33]])"
      ]
     },
     "execution_count": 143,
     "metadata": {},
     "output_type": "execute_result"
    }
   ],
   "source": [
    "l1,l2"
   ]
  },
  {
   "cell_type": "markdown",
   "id": "ca490102-e4b4-4f0f-a1e3-565be8fe8b14",
   "metadata": {},
   "source": [
    "> a += [1] 는 새로운 오브젝트를 만드는게 아니고, 기존의 오브젝트를 변형하는 스타일의 코드구나? (마치 메소드처럼) "
   ]
  },
  {
   "cell_type": "markdown",
   "id": "8c282205-e25c-4a52-82b6-73cd0456e95d",
   "metadata": {},
   "source": [
    "`-` 예제6: 아래코드를 실행하고 결과를 관찰하라. 왜 예제5와 다른가? "
   ]
  },
  {
   "cell_type": "code",
   "execution_count": 144,
   "id": "ac1edc3f-23a5-40b1-ad4c-364298d74a66",
   "metadata": {},
   "outputs": [],
   "source": [
    "l1=[3,(66,55,44)]\n",
    "l2=l1.copy()\n",
    "l2[1] += (33,)"
   ]
  },
  {
   "cell_type": "code",
   "execution_count": 145,
   "id": "2955dd47-1143-4426-9d72-32b2de287f4c",
   "metadata": {},
   "outputs": [
    {
     "data": {
      "text/plain": [
       "([3, (66, 55, 44)], [3, (66, 55, 44, 33)])"
      ]
     },
     "execution_count": 145,
     "metadata": {},
     "output_type": "execute_result"
    }
   ],
   "source": [
    "l1,l2"
   ]
  },
  {
   "cell_type": "markdown",
   "id": "8b3bd63a-974b-4062-a3a7-7b3fe301675f",
   "metadata": {},
   "source": [
    "(해설) "
   ]
  },
  {
   "cell_type": "markdown",
   "id": "0ba8e1d3-b13d-41db-bfaf-66e9400196ef",
   "metadata": {},
   "source": [
    "- -5,256까지의 값이 메모리 어딘가에 저장되어 있음. \n",
    "- 추가로 (66,55,44)이 저장될 공간이 필요함. 이 공간을 공간 X1이라 하자. \n",
    "\n",
    "- [3,공간x1의 값] 의 값이 저장될 공간이 필요함. 이 공간은 l1이라고 하자. \n",
    "\n",
    "- l2라는 공간을 만들어서 [3,공간x1의값]을 저장 \n",
    "\n",
    "- 공간X1의 값에 33을 추가하고 싶음. 그런데 공간 X1에 저장된 값은 **튜플**인데 튜플은 값을 바꿀 수가 없다. 그래서 할수없이 새로운 공간 X2를 만들고 거기에 (66,55,44,33)을 넣고, 그것을 l2의 두번째 원소에 맵핑 "
   ]
  },
  {
   "cell_type": "markdown",
   "id": "7850f01a-b52f-4cd8-9fc9-15042b0342ab",
   "metadata": {},
   "source": [
    "정리하면 아래와 같은 상황임 \n",
    "\n",
    "- 공간 X1: (66,55,44) \n",
    "- 공간 X2: (66,55,44,33) \n",
    "- 공간 l1: [3,공간X1의값] \n",
    "- 공간 l2: [3,공간X2의값] (기존에는 [3,공간X1의값]이었음)           "
   ]
  },
  {
   "cell_type": "markdown",
   "id": "3c71a78a-6c0f-457f-bdee-d91eab11189c",
   "metadata": {},
   "source": [
    "기억할것 "
   ]
  },
  {
   "cell_type": "markdown",
   "id": "f280d929-c323-4203-82ae-9ac7c57df451",
   "metadata": {},
   "source": [
    "`-` 파이썬은 메모리를 아끼기 위해서 shallow copy라는 이상한 행동을 한다. "
   ]
  },
  {
   "cell_type": "markdown",
   "id": "c8ee2c02-882e-4384-a725-56969845e4fb",
   "metadata": {},
   "source": [
    "`-` 오묘하게도 [1000,2000,3000,4000,5000,6000]와 같이 0차원 자료형으로만 구성된 리스트라면 문제가 되지 않음. (메모리는 아끼면서 문제가 되지 않는다? 천재인데?) "
   ]
  },
  {
   "cell_type": "markdown",
   "id": "b5e98167-3c4c-47ad-af7a-7f94638ff463",
   "metadata": {},
   "source": [
    "`-` 그런데 [[1,2],[3,4]] 와 같이 리스트에 리스트가 포함된 형태라면 문제가 생긴다. (이건 개선이 필요함) \n",
    "- 개선1: 깊은복사\n",
    "- 개선2: 넘파이"
   ]
  },
  {
   "cell_type": "markdown",
   "id": "72e1a558-5d96-46cc-9a17-e9d2eb5df789",
   "metadata": {},
   "source": [
    "### deep copy "
   ]
  },
  {
   "cell_type": "markdown",
   "id": "a544ae7c-6a67-47d0-a6f7-b386e9c4be23",
   "metadata": {},
   "source": [
    "`-` 얕은복사가 아니라 내부객체까지 모두 새로 만드는 깊은 복사를 하기위해서는 아래와 같이 copy 모듈을 사용한다. "
   ]
  },
  {
   "cell_type": "code",
   "execution_count": 147,
   "id": "937824ad-5f86-4499-b8fa-515a83ae7b65",
   "metadata": {},
   "outputs": [],
   "source": [
    "import copy "
   ]
  },
  {
   "cell_type": "markdown",
   "id": "2a6a328e-3c25-4cc3-8f13-08efec4ca7ea",
   "metadata": {},
   "source": [
    "`-` 깊은복사 예제1"
   ]
  },
  {
   "cell_type": "code",
   "execution_count": 148,
   "id": "99d1edcd-722e-4485-b982-682ca10c1219",
   "metadata": {},
   "outputs": [],
   "source": [
    "l1 = [3,[66,55,44]] \n",
    "l2 = copy.deepcopy(l1)"
   ]
  },
  {
   "cell_type": "code",
   "execution_count": 149,
   "id": "5d8ca70b-caf3-458e-a6b4-962e9fcefeee",
   "metadata": {},
   "outputs": [
    {
     "data": {
      "text/plain": [
       "(139852030311616, 139851739502336)"
      ]
     },
     "execution_count": 149,
     "metadata": {},
     "output_type": "execute_result"
    }
   ],
   "source": [
    "id(l1),id(l2)"
   ]
  },
  {
   "cell_type": "code",
   "execution_count": 150,
   "id": "00322f56-db4a-481e-9e57-e22ea72726ef",
   "metadata": {},
   "outputs": [
    {
     "data": {
      "text/plain": [
       "(139852067748208, 139852067748208)"
      ]
     },
     "execution_count": 150,
     "metadata": {},
     "output_type": "execute_result"
    }
   ],
   "source": [
    "id(l1[0]),id(l2[0])"
   ]
  },
  {
   "cell_type": "code",
   "execution_count": 151,
   "id": "026dac8d-fb68-45f7-b74f-f1307cb41bf7",
   "metadata": {},
   "outputs": [
    {
     "data": {
      "text/plain": [
       "(139851739525504, 139851739117696)"
      ]
     },
     "execution_count": 151,
     "metadata": {},
     "output_type": "execute_result"
    }
   ],
   "source": [
    "id(l1[1]),id(l2[1])"
   ]
  },
  {
   "cell_type": "code",
   "execution_count": 152,
   "id": "1d4e1048-2407-462d-9b37-12f5bb98e041",
   "metadata": {},
   "outputs": [],
   "source": [
    "l2[1].append(33)"
   ]
  },
  {
   "cell_type": "code",
   "execution_count": 153,
   "id": "63900099-f916-465c-9d69-80eed6b41383",
   "metadata": {},
   "outputs": [
    {
     "data": {
      "text/plain": [
       "[3, [66, 55, 44]]"
      ]
     },
     "execution_count": 153,
     "metadata": {},
     "output_type": "execute_result"
    }
   ],
   "source": [
    "l1"
   ]
  },
  {
   "cell_type": "code",
   "execution_count": 154,
   "id": "a163141e-5ec4-4ac7-988c-58a6dc23a4e5",
   "metadata": {},
   "outputs": [
    {
     "data": {
      "text/plain": [
       "[3, [66, 55, 44, 33]]"
      ]
     },
     "execution_count": 154,
     "metadata": {},
     "output_type": "execute_result"
    }
   ],
   "source": [
    "l2"
   ]
  },
  {
   "cell_type": "markdown",
   "id": "98ca35f9-f4d2-42e6-96ed-ffcfe84e89e1",
   "metadata": {},
   "source": [
    "`-` 깊은복사 예제2"
   ]
  },
  {
   "cell_type": "code",
   "execution_count": 164,
   "id": "54175fbf-18b0-4457-94fd-b4e801244eae",
   "metadata": {},
   "outputs": [],
   "source": [
    "l1 = [3,[66,[55,44]]] \n",
    "l2 = copy.deepcopy(l1)"
   ]
  },
  {
   "cell_type": "code",
   "execution_count": 165,
   "id": "8f3c7de9-efdd-458c-9895-967ee6c4b90b",
   "metadata": {},
   "outputs": [
    {
     "data": {
      "text/plain": [
       "(139851739573248, 139851739217024)"
      ]
     },
     "execution_count": 165,
     "metadata": {},
     "output_type": "execute_result"
    }
   ],
   "source": [
    "id(l1),id(l2) ## shallow copy = 1 level deep copy "
   ]
  },
  {
   "cell_type": "code",
   "execution_count": 166,
   "id": "5e8e9799-f881-421c-b529-ce91aad00736",
   "metadata": {},
   "outputs": [
    {
     "data": {
      "text/plain": [
       "(139851740009024, 139851739501440)"
      ]
     },
     "execution_count": 166,
     "metadata": {},
     "output_type": "execute_result"
    }
   ],
   "source": [
    "id(l1[1]),id(l2[1]) ## (2 level) deep copy "
   ]
  },
  {
   "cell_type": "code",
   "execution_count": 167,
   "id": "4f21cb5a-f20f-4181-a7d1-5c72a3f58acd",
   "metadata": {},
   "outputs": [
    {
     "data": {
      "text/plain": [
       "(139851738451072, 139851743243584)"
      ]
     },
     "execution_count": 167,
     "metadata": {},
     "output_type": "execute_result"
    }
   ],
   "source": [
    "id(l1[1][1]), id(l2[1][1]) ## (3 level) deep copy "
   ]
  },
  {
   "cell_type": "code",
   "execution_count": 168,
   "id": "85ccb94d-99c1-469a-a5db-6be9860bf3b4",
   "metadata": {},
   "outputs": [],
   "source": [
    "l2[1][1].append(33)"
   ]
  },
  {
   "cell_type": "code",
   "execution_count": 169,
   "id": "169bfc5b-dc70-4bf0-9070-1fb6c29fc7f4",
   "metadata": {},
   "outputs": [
    {
     "data": {
      "text/plain": [
       "([3, [66, [55, 44]]], [3, [66, [55, 44, 33]]])"
      ]
     },
     "execution_count": 169,
     "metadata": {},
     "output_type": "execute_result"
    }
   ],
   "source": [
    "l1,l2"
   ]
  }
 ],
 "metadata": {
  "kernelspec": {
   "display_name": "Python 3",
   "language": "python",
   "name": "python3"
  },
  "language_info": {
   "codemirror_mode": {
    "name": "ipython",
    "version": 3
   },
   "file_extension": ".py",
   "mimetype": "text/x-python",
   "name": "python",
   "nbconvert_exporter": "python",
   "pygments_lexer": "ipython3",
   "version": "3.9.7"
  },
  "widgets": {
   "application/vnd.jupyter.widget-state+json": {
    "state": {},
    "version_major": 2,
    "version_minor": 0
   }
  }
 },
 "nbformat": 4,
 "nbformat_minor": 5
}
