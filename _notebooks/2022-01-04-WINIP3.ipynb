{
 "cells": [
  {
   "cell_type": "markdown",
   "id": "adc89ed1-d3a8-44e3-bea5-11554f9a049e",
   "metadata": {},
   "source": [
    "# 파이썬입문 겨울방학 특강 (3)"
   ]
  },
  {
   "cell_type": "markdown",
   "id": "b1227dee-8a7c-4f50-a83a-451f941bd16b",
   "metadata": {},
   "source": [
    "### import "
   ]
  },
  {
   "cell_type": "code",
   "execution_count": 1,
   "id": "e6de1270-87c7-4c1a-a054-671cbf77d53f",
   "metadata": {},
   "outputs": [],
   "source": [
    "import numpy as np"
   ]
  },
  {
   "cell_type": "markdown",
   "id": "b1d58b88-2ee7-4a56-a1da-2af309f8e376",
   "metadata": {},
   "source": [
    "### numpy공부 1단계(복습)"
   ]
  },
  {
   "cell_type": "markdown",
   "id": "f24484ae-4a8d-4d13-b260-c3d3f6d6dd73",
   "metadata": {},
   "source": [
    "`-` 넘파이의 위력 "
   ]
  },
  {
   "cell_type": "code",
   "execution_count": 2,
   "id": "019395af-63ca-4f62-a00e-c26330c8046c",
   "metadata": {},
   "outputs": [],
   "source": [
    "l=[1,2,3]\n",
    "a=np.array(l) ## list()"
   ]
  },
  {
   "cell_type": "markdown",
   "id": "23a2e9df-b81e-4554-893e-9f1f206916fa",
   "metadata": {},
   "source": [
    "`-` 사칙연산 브로드캐스팅 "
   ]
  },
  {
   "cell_type": "code",
   "execution_count": 8,
   "id": "c9cd6f63-147e-4a90-9979-40aa291159b0",
   "metadata": {},
   "outputs": [
    {
     "data": {
      "text/plain": [
       "array([2, 3, 4])"
      ]
     },
     "execution_count": 8,
     "metadata": {},
     "output_type": "execute_result"
    }
   ],
   "source": [
    "a+1"
   ]
  },
  {
   "cell_type": "code",
   "execution_count": 9,
   "id": "cf4e5282-8fa6-4588-9aa3-7dd4cfc5fcc9",
   "metadata": {},
   "outputs": [
    {
     "ename": "TypeError",
     "evalue": "can only concatenate list (not \"int\") to list",
     "output_type": "error",
     "traceback": [
      "\u001b[0;31m---------------------------------------------------------------------------\u001b[0m",
      "\u001b[0;31mTypeError\u001b[0m                                 Traceback (most recent call last)",
      "\u001b[0;32m<ipython-input-9-558f50c77660>\u001b[0m in \u001b[0;36m<module>\u001b[0;34m\u001b[0m\n\u001b[0;32m----> 1\u001b[0;31m \u001b[0ml\u001b[0m\u001b[0;34m+\u001b[0m\u001b[0;36m1\u001b[0m\u001b[0;34m\u001b[0m\u001b[0;34m\u001b[0m\u001b[0m\n\u001b[0m",
      "\u001b[0;31mTypeError\u001b[0m: can only concatenate list (not \"int\") to list"
     ]
    }
   ],
   "source": [
    "l+1"
   ]
  },
  {
   "cell_type": "code",
   "execution_count": 10,
   "id": "92bb3367-4187-44e6-b64e-f7c0628b2ef2",
   "metadata": {},
   "outputs": [
    {
     "data": {
      "text/plain": [
       "array([2, 4, 6])"
      ]
     },
     "execution_count": 10,
     "metadata": {},
     "output_type": "execute_result"
    }
   ],
   "source": [
    "a*2"
   ]
  },
  {
   "cell_type": "code",
   "execution_count": 11,
   "id": "f3a7d64d-38c1-4d93-805c-6e0597ff596f",
   "metadata": {},
   "outputs": [
    {
     "data": {
      "text/plain": [
       "[1, 2, 3, 1, 2, 3]"
      ]
     },
     "execution_count": 11,
     "metadata": {},
     "output_type": "execute_result"
    }
   ],
   "source": [
    "l*2"
   ]
  },
  {
   "cell_type": "code",
   "execution_count": 12,
   "id": "9dad43bd-77d2-4271-8da3-c72aa6ca1006",
   "metadata": {},
   "outputs": [
    {
     "data": {
      "text/plain": [
       "array([-1,  0,  1])"
      ]
     },
     "execution_count": 12,
     "metadata": {},
     "output_type": "execute_result"
    }
   ],
   "source": [
    "a-2"
   ]
  },
  {
   "cell_type": "code",
   "execution_count": 13,
   "id": "2b2a0bbb-137e-4ef7-b67b-8e9e18d831ac",
   "metadata": {},
   "outputs": [
    {
     "ename": "TypeError",
     "evalue": "unsupported operand type(s) for -: 'list' and 'int'",
     "output_type": "error",
     "traceback": [
      "\u001b[0;31m---------------------------------------------------------------------------\u001b[0m",
      "\u001b[0;31mTypeError\u001b[0m                                 Traceback (most recent call last)",
      "\u001b[0;32m<ipython-input-13-a7ce880f546b>\u001b[0m in \u001b[0;36m<module>\u001b[0;34m\u001b[0m\n\u001b[0;32m----> 1\u001b[0;31m \u001b[0ml\u001b[0m\u001b[0;34m-\u001b[0m\u001b[0;36m2\u001b[0m\u001b[0;34m\u001b[0m\u001b[0;34m\u001b[0m\u001b[0m\n\u001b[0m",
      "\u001b[0;31mTypeError\u001b[0m: unsupported operand type(s) for -: 'list' and 'int'"
     ]
    }
   ],
   "source": [
    "l-2"
   ]
  },
  {
   "cell_type": "code",
   "execution_count": 14,
   "id": "a40bfe97-20ad-4c75-bce1-9966e2e4c735",
   "metadata": {},
   "outputs": [
    {
     "data": {
      "text/plain": [
       "array([0.5, 1. , 1.5])"
      ]
     },
     "execution_count": 14,
     "metadata": {},
     "output_type": "execute_result"
    }
   ],
   "source": [
    "a/2"
   ]
  },
  {
   "cell_type": "code",
   "execution_count": 15,
   "id": "41fa1e80-cd5d-4694-900e-32f8203ec2ea",
   "metadata": {},
   "outputs": [
    {
     "ename": "TypeError",
     "evalue": "unsupported operand type(s) for /: 'list' and 'int'",
     "output_type": "error",
     "traceback": [
      "\u001b[0;31m---------------------------------------------------------------------------\u001b[0m",
      "\u001b[0;31mTypeError\u001b[0m                                 Traceback (most recent call last)",
      "\u001b[0;32m<ipython-input-15-156c9f11ad90>\u001b[0m in \u001b[0;36m<module>\u001b[0;34m\u001b[0m\n\u001b[0;32m----> 1\u001b[0;31m \u001b[0ml\u001b[0m\u001b[0;34m/\u001b[0m\u001b[0;36m2\u001b[0m\u001b[0;34m\u001b[0m\u001b[0;34m\u001b[0m\u001b[0m\n\u001b[0m",
      "\u001b[0;31mTypeError\u001b[0m: unsupported operand type(s) for /: 'list' and 'int'"
     ]
    }
   ],
   "source": [
    "l/2"
   ]
  },
  {
   "cell_type": "markdown",
   "id": "795971aa-8c32-4eea-952a-44de4bafa285",
   "metadata": {},
   "source": [
    "`-` 기타수학연산가능 "
   ]
  },
  {
   "cell_type": "code",
   "execution_count": 18,
   "id": "df401f89-bc8b-4f0f-9d82-b5fa1347e483",
   "metadata": {},
   "outputs": [
    {
     "data": {
      "text/plain": [
       "(array([1.        , 1.41421356, 1.73205081]),\n",
       " array([1.        , 1.41421356, 1.73205081]))"
      ]
     },
     "execution_count": 18,
     "metadata": {},
     "output_type": "execute_result"
    }
   ],
   "source": [
    "np.sqrt(a), np.sqrt(l)"
   ]
  },
  {
   "cell_type": "code",
   "execution_count": 19,
   "id": "0bb82719-5efb-42ee-a899-f58c1fbccd95",
   "metadata": {},
   "outputs": [
    {
     "data": {
      "text/plain": [
       "(array([0.        , 0.69314718, 1.09861229]),\n",
       " array([0.        , 0.69314718, 1.09861229]))"
      ]
     },
     "execution_count": 19,
     "metadata": {},
     "output_type": "execute_result"
    }
   ],
   "source": [
    "np.log(a), np.log(l)"
   ]
  },
  {
   "cell_type": "markdown",
   "id": "97048171-2071-4e8b-a628-80a88af181e5",
   "metadata": {},
   "source": [
    "### numpy공부 2단계 "
   ]
  },
  {
   "cell_type": "markdown",
   "id": "03b1b8bf-71a9-4828-9bd1-5fab2e1e23f7",
   "metadata": {},
   "source": [
    "#### 연립1차방정식의 풀이 "
   ]
  },
  {
   "cell_type": "markdown",
   "id": "13668317-f43a-49d0-94b6-f1856a6dfa1b",
   "metadata": {},
   "source": [
    "`-` 아래의 연립방정식 고려 "
   ]
  },
  {
   "cell_type": "markdown",
   "id": "efd1bf34-f4b8-4bf3-96a5-884ad0dd2439",
   "metadata": {},
   "source": [
    "$\\begin{cases}\n",
    "x + y = 2 \\\\\n",
    "y + z = 2 \\\\ \n",
    "x + z = 2 \n",
    "\\end{cases}$"
   ]
  },
  {
   "cell_type": "markdown",
   "id": "ea04f828-ed02-4525-9049-e3dd2c2842b6",
   "metadata": {},
   "source": [
    "`-` 행렬표현은? "
   ]
  },
  {
   "cell_type": "markdown",
   "id": "077db1b1-2a7b-48ef-bf8b-54ae6ab5b2bb",
   "metadata": {},
   "source": [
    "$\\begin{bmatrix}\n",
    "1 &1& 0 \\\\ \n",
    "0 & 1 & 1 \\\\\n",
    "1 & 0 & 1 \n",
    "\\end{bmatrix} \n",
    "\\begin{bmatrix}\n",
    "x \\\\\n",
    "y \\\\\n",
    "z\n",
    "\\end{bmatrix}\n",
    "=\\begin{bmatrix}\n",
    "2 \\\\\n",
    "2 \\\\\n",
    "2 \n",
    "\\end{bmatrix}\n",
    "$"
   ]
  },
  {
   "cell_type": "code",
   "execution_count": 20,
   "id": "cd3b0470-0e03-4409-8129-91a7b3c2026c",
   "metadata": {},
   "outputs": [
    {
     "data": {
      "text/plain": [
       "[[1, 1, 0], [0, 1, 1], [1, 0, 1]]"
      ]
     },
     "execution_count": 20,
     "metadata": {},
     "output_type": "execute_result"
    }
   ],
   "source": [
    "A = [[1,1,0],[0,1,1],[1,0,1]] \n",
    "A"
   ]
  },
  {
   "cell_type": "code",
   "execution_count": 22,
   "id": "b75cbafb-0310-4be2-a6bb-4697c2a8ab66",
   "metadata": {},
   "outputs": [
    {
     "data": {
      "text/plain": [
       "array([[1, 1, 0],\n",
       "       [0, 1, 1],\n",
       "       [1, 0, 1]])"
      ]
     },
     "execution_count": 22,
     "metadata": {},
     "output_type": "execute_result"
    }
   ],
   "source": [
    "A2=np.array(A)\n",
    "A2"
   ]
  },
  {
   "cell_type": "markdown",
   "id": "ae9d041c-de67-489a-aaa4-5d6ff25440ee",
   "metadata": {},
   "source": [
    "`-` A의 원소인덱싱 "
   ]
  },
  {
   "cell_type": "code",
   "execution_count": 23,
   "id": "7c3be0c5-1ae3-4792-b66c-c699fb320268",
   "metadata": {},
   "outputs": [
    {
     "data": {
      "text/plain": [
       "(1, 1, 0)"
      ]
     },
     "execution_count": 23,
     "metadata": {},
     "output_type": "execute_result"
    }
   ],
   "source": [
    "A[0][0], A[0][1], A[0][2]"
   ]
  },
  {
   "cell_type": "code",
   "execution_count": 24,
   "id": "d12268a2-3933-4b96-9a68-b55963ac1ae3",
   "metadata": {},
   "outputs": [
    {
     "data": {
      "text/plain": [
       "(0, 1, 1)"
      ]
     },
     "execution_count": 24,
     "metadata": {},
     "output_type": "execute_result"
    }
   ],
   "source": [
    "A[1][0], A[1][1], A[1][2]"
   ]
  },
  {
   "cell_type": "code",
   "execution_count": 25,
   "id": "8cce425d-7d33-46e2-b680-02820f278a4e",
   "metadata": {},
   "outputs": [
    {
     "data": {
      "text/plain": [
       "(1, 0, 1)"
      ]
     },
     "execution_count": 25,
     "metadata": {},
     "output_type": "execute_result"
    }
   ],
   "source": [
    "A[2][0], A[2][1], A[2][2]"
   ]
  },
  {
   "cell_type": "markdown",
   "id": "7b784012-aaf7-470d-bad1-878aa84a2943",
   "metadata": {},
   "source": [
    "`-` A2에서의 원소인덱싱 "
   ]
  },
  {
   "cell_type": "code",
   "execution_count": 28,
   "id": "084142b5-4c9c-49ef-ac53-726ba213766f",
   "metadata": {},
   "outputs": [
    {
     "data": {
      "text/plain": [
       "(1, 1, 0)"
      ]
     },
     "execution_count": 28,
     "metadata": {},
     "output_type": "execute_result"
    }
   ],
   "source": [
    "A2[0][0], A2[0][1], A2[0][2]"
   ]
  },
  {
   "cell_type": "code",
   "execution_count": 29,
   "id": "5b29272f-8bf4-4a29-b061-e3afbe8634ce",
   "metadata": {},
   "outputs": [
    {
     "data": {
      "text/plain": [
       "(0, 1, 1)"
      ]
     },
     "execution_count": 29,
     "metadata": {},
     "output_type": "execute_result"
    }
   ],
   "source": [
    "A2[1][0], A2[1][1], A2[1][2]"
   ]
  },
  {
   "cell_type": "code",
   "execution_count": 30,
   "id": "8d00cca6-d484-4f52-b0eb-e28fc121aa3c",
   "metadata": {},
   "outputs": [
    {
     "data": {
      "text/plain": [
       "(1, 0, 1)"
      ]
     },
     "execution_count": 30,
     "metadata": {},
     "output_type": "execute_result"
    }
   ],
   "source": [
    "A2[2][0], A2[2][1], A2[2][2]"
   ]
  },
  {
   "cell_type": "markdown",
   "id": "c2951457-ea47-4baf-80e7-a24e97909bae",
   "metadata": {},
   "source": [
    "`-` A2에서의 원소에 접근하는 또다른 방법 (numpy 신기술)"
   ]
  },
  {
   "cell_type": "code",
   "execution_count": 33,
   "id": "cef47325-c63e-4a2f-b491-b78f0982ca74",
   "metadata": {},
   "outputs": [
    {
     "data": {
      "text/plain": [
       "(1, 1, 0)"
      ]
     },
     "execution_count": 33,
     "metadata": {},
     "output_type": "execute_result"
    }
   ],
   "source": [
    "A2[0,0], A2[0,1], A2[0,2]"
   ]
  },
  {
   "cell_type": "code",
   "execution_count": 34,
   "id": "baf2f5c6-6378-4e8d-a218-b355373d44c5",
   "metadata": {},
   "outputs": [
    {
     "data": {
      "text/plain": [
       "(0, 1, 1)"
      ]
     },
     "execution_count": 34,
     "metadata": {},
     "output_type": "execute_result"
    }
   ],
   "source": [
    "A2[1,0], A2[1,1], A2[1,2]"
   ]
  },
  {
   "cell_type": "code",
   "execution_count": 35,
   "id": "4dbd81a6-c542-4533-9708-38af955b1b42",
   "metadata": {},
   "outputs": [
    {
     "data": {
      "text/plain": [
       "(1, 0, 1)"
      ]
     },
     "execution_count": 35,
     "metadata": {},
     "output_type": "execute_result"
    }
   ],
   "source": [
    "A2[2,0], A2[2,1], A2[2,2]"
   ]
  },
  {
   "cell_type": "markdown",
   "id": "4f25f0bf-7091-4dc7-ad1b-531bb311d3b1",
   "metadata": {},
   "source": [
    "`-` 슬라이싱!"
   ]
  },
  {
   "cell_type": "code",
   "execution_count": 37,
   "id": "39ec9565-f615-42b1-810e-80eb30863a6c",
   "metadata": {},
   "outputs": [
    {
     "data": {
      "text/plain": [
       "array([1, 1, 0])"
      ]
     },
     "execution_count": 37,
     "metadata": {},
     "output_type": "execute_result"
    }
   ],
   "source": [
    "A2[0,:] ## R의 경우라면 A2[0,]"
   ]
  },
  {
   "cell_type": "code",
   "execution_count": 38,
   "id": "ffa1a9c9-799e-41f9-a834-018c7b4b3235",
   "metadata": {},
   "outputs": [
    {
     "data": {
      "text/plain": [
       "array([0, 1, 1])"
      ]
     },
     "execution_count": 38,
     "metadata": {},
     "output_type": "execute_result"
    }
   ],
   "source": [
    "A2[1,:] "
   ]
  },
  {
   "cell_type": "code",
   "execution_count": 39,
   "id": "82bdcd50-47a7-4ba0-95b1-516f68fe9811",
   "metadata": {},
   "outputs": [
    {
     "data": {
      "text/plain": [
       "array([1, 0, 1])"
      ]
     },
     "execution_count": 39,
     "metadata": {},
     "output_type": "execute_result"
    }
   ],
   "source": [
    "A2[2,:] "
   ]
  },
  {
   "cell_type": "markdown",
   "id": "a75904cb-aa27-4da8-9e41-283be868456f",
   "metadata": {},
   "source": [
    "`-` 연립방정식 문제를 다시 풀어보자. "
   ]
  },
  {
   "cell_type": "markdown",
   "id": "1c82c47c-8c1e-48dd-94d3-288e0bf584fe",
   "metadata": {},
   "source": [
    "$\\begin{bmatrix}\n",
    "1 & 1 & 0 \\\\ \n",
    "0 & 1 & 1 \\\\\n",
    "1 & 0 & 1 \n",
    "\\end{bmatrix} \n",
    "\\begin{bmatrix}\n",
    "x_1 \\\\\n",
    "x_2 \\\\\n",
    "x_3\n",
    "\\end{bmatrix}\n",
    "=\\begin{bmatrix}\n",
    "2 \\\\\n",
    "2 \\\\\n",
    "2 \n",
    "\\end{bmatrix}\n",
    "\\quad \\Longleftrightarrow \\quad {\\bf A} {\\bf x} = {\\bf b}\n",
    "$"
   ]
  },
  {
   "cell_type": "code",
   "execution_count": 41,
   "id": "32d77809-6b7f-4e58-aa56-bfea51552110",
   "metadata": {},
   "outputs": [],
   "source": [
    "b=np.array([2,2,2])"
   ]
  },
  {
   "cell_type": "code",
   "execution_count": 46,
   "id": "29ff861b-3540-42e3-b50b-729b8a208e56",
   "metadata": {},
   "outputs": [
    {
     "data": {
      "text/plain": [
       "array([1., 1., 1.])"
      ]
     },
     "execution_count": 46,
     "metadata": {},
     "output_type": "execute_result"
    }
   ],
   "source": [
    "np.linalg.inv(A2) @ b ## R로 치면 solve(A2) %*% b "
   ]
  },
  {
   "cell_type": "markdown",
   "id": "3e325fc9-bddc-4a8e-bd83-af0a6602e50b",
   "metadata": {},
   "source": [
    "#### 인덱싱 "
   ]
  },
  {
   "cell_type": "markdown",
   "id": "0ba57dcd-7fe5-42f1-bd29-a426f257b66b",
   "metadata": {},
   "source": [
    "`-` 선언 "
   ]
  },
  {
   "cell_type": "code",
   "execution_count": 48,
   "id": "ffff0bdc-88a4-4d57-934f-770b69fc06e9",
   "metadata": {},
   "outputs": [
    {
     "data": {
      "text/plain": [
       "array([11, 22, 33, 44, 55, 66])"
      ]
     },
     "execution_count": 48,
     "metadata": {},
     "output_type": "execute_result"
    }
   ],
   "source": [
    "l=[11,22,33,44,55,66] \n",
    "a=np.array(l)\n",
    "a"
   ]
  },
  {
   "cell_type": "markdown",
   "id": "de40a25c-09a7-4c8b-a58b-0d8c2f94397d",
   "metadata": {},
   "source": [
    "`-` 인덱스로 접근 "
   ]
  },
  {
   "cell_type": "code",
   "execution_count": 51,
   "id": "7c4ef528-f9a9-4fff-8c2f-cd30603f207f",
   "metadata": {},
   "outputs": [
    {
     "data": {
      "text/plain": [
       "(11, 22, 33, 44, 55, 66)"
      ]
     },
     "execution_count": 51,
     "metadata": {},
     "output_type": "execute_result"
    }
   ],
   "source": [
    "l[0],l[1],l[2],l[3],l[4],l[5]"
   ]
  },
  {
   "cell_type": "code",
   "execution_count": 52,
   "id": "6925e45f-7a4b-42a8-882d-f31ab40ddadc",
   "metadata": {},
   "outputs": [
    {
     "data": {
      "text/plain": [
       "(11, 22, 33, 44, 55, 66)"
      ]
     },
     "execution_count": 52,
     "metadata": {},
     "output_type": "execute_result"
    }
   ],
   "source": [
    "a[0],a[1],a[2],a[3],a[4],a[5]"
   ]
  },
  {
   "cell_type": "markdown",
   "id": "558a0ad4-f12e-49f0-a9cb-fd228c840540",
   "metadata": {},
   "source": [
    "`-` `:` 이용 (슬라이싱) "
   ]
  },
  {
   "cell_type": "code",
   "execution_count": 54,
   "id": "92d10fa0-4bce-44e0-bc2e-b8721c15d958",
   "metadata": {},
   "outputs": [
    {
     "data": {
      "text/plain": [
       "[33, 44]"
      ]
     },
     "execution_count": 54,
     "metadata": {},
     "output_type": "execute_result"
    }
   ],
   "source": [
    "l[2:4] # index=2, index=3 (4는 포함되지 않음) "
   ]
  },
  {
   "cell_type": "code",
   "execution_count": 55,
   "id": "0b477b52-3b3c-4b51-8e1a-1d23ce2b4ad9",
   "metadata": {},
   "outputs": [
    {
     "data": {
      "text/plain": [
       "array([33, 44])"
      ]
     },
     "execution_count": 55,
     "metadata": {},
     "output_type": "execute_result"
    }
   ],
   "source": [
    "a[2:4]"
   ]
  },
  {
   "cell_type": "markdown",
   "id": "806086bc-fb44-4a8d-a817-fd08729c5e89",
   "metadata": {},
   "source": [
    "너무 헷갈림.. 특히 마지막 원소를 포함해야할때!"
   ]
  },
  {
   "cell_type": "code",
   "execution_count": 59,
   "id": "8572ba5c-7879-4b1a-9839-c6c64d4e98e0",
   "metadata": {},
   "outputs": [
    {
     "data": {
      "text/plain": [
       "[33, 44, 55, 66]"
      ]
     },
     "execution_count": 59,
     "metadata": {},
     "output_type": "execute_result"
    }
   ],
   "source": [
    "l[2:6]"
   ]
  },
  {
   "cell_type": "code",
   "execution_count": 60,
   "id": "18fbc683-20fb-443e-b883-f5ed52caf9aa",
   "metadata": {},
   "outputs": [
    {
     "data": {
      "text/plain": [
       "array([33, 44, 55, 66])"
      ]
     },
     "execution_count": 60,
     "metadata": {},
     "output_type": "execute_result"
    }
   ],
   "source": [
    "a[2:6]"
   ]
  },
  {
   "cell_type": "markdown",
   "id": "6ba21c7e-f859-4e75-8721-f98a99a84bbf",
   "metadata": {},
   "source": [
    "다행스럽게도 마지막의 6은 생략가능하다. 따라서 보통 아래와 같이 쓴다. "
   ]
  },
  {
   "cell_type": "code",
   "execution_count": 61,
   "id": "575998ce-03d8-4107-a3f8-db5675908a1d",
   "metadata": {},
   "outputs": [
    {
     "data": {
      "text/plain": [
       "[33, 44, 55, 66]"
      ]
     },
     "execution_count": 61,
     "metadata": {},
     "output_type": "execute_result"
    }
   ],
   "source": [
    "l[2:]"
   ]
  },
  {
   "cell_type": "code",
   "execution_count": 62,
   "id": "8695727c-56ed-4c1c-bf03-10cc20ac5a91",
   "metadata": {},
   "outputs": [
    {
     "data": {
      "text/plain": [
       "array([33, 44, 55, 66])"
      ]
     },
     "execution_count": 62,
     "metadata": {},
     "output_type": "execute_result"
    }
   ],
   "source": [
    "a[2:]"
   ]
  },
  {
   "cell_type": "markdown",
   "id": "20f5d0a5-12fb-41ec-8211-09777ca5b468",
   "metadata": {},
   "source": [
    "동일한 논리로 처음 인덱스도 생략가능하다. "
   ]
  },
  {
   "cell_type": "code",
   "execution_count": 64,
   "id": "b7526679-c858-44e7-a296-15c3f0753750",
   "metadata": {},
   "outputs": [
    {
     "data": {
      "text/plain": [
       "(array([11, 22, 33]), array([11, 22, 33]))"
      ]
     },
     "execution_count": 64,
     "metadata": {},
     "output_type": "execute_result"
    }
   ],
   "source": [
    "a[0:3], a[:3]"
   ]
  },
  {
   "cell_type": "markdown",
   "id": "51d114dd-7707-4f5c-94f0-b09bcedd422e",
   "metadata": {},
   "source": [
    "처음과 마지막을 둘다 생략한다면? "
   ]
  },
  {
   "cell_type": "code",
   "execution_count": 65,
   "id": "19ed36e3-d87d-4a65-8f38-125814d20e84",
   "metadata": {},
   "outputs": [
    {
     "data": {
      "text/plain": [
       "array([11, 22, 33, 44, 55, 66])"
      ]
     },
     "execution_count": 65,
     "metadata": {},
     "output_type": "execute_result"
    }
   ],
   "source": [
    "a[:]"
   ]
  },
  {
   "cell_type": "markdown",
   "id": "e23946df-f677-4ba0-9790-dcfdf5035025",
   "metadata": {},
   "source": [
    "`-` 부울값을 이용한 인덱싱 "
   ]
  },
  {
   "cell_type": "code",
   "execution_count": 66,
   "id": "a2f68d84-aba8-48d4-9bd8-571fe95869f2",
   "metadata": {},
   "outputs": [
    {
     "data": {
      "text/plain": [
       "array([11, 22, 33, 44, 55, 66])"
      ]
     },
     "execution_count": 66,
     "metadata": {},
     "output_type": "execute_result"
    }
   ],
   "source": [
    "l=[11,22,33,44,55,66] \n",
    "a=np.array(l)\n",
    "a"
   ]
  },
  {
   "cell_type": "code",
   "execution_count": 68,
   "id": "bde67d49-0afb-4019-a277-582d8b64615e",
   "metadata": {},
   "outputs": [
    {
     "data": {
      "text/plain": [
       "array([22, 44, 66])"
      ]
     },
     "execution_count": 68,
     "metadata": {},
     "output_type": "execute_result"
    }
   ],
   "source": [
    "a[ [False, True, False, True, False, True] ]"
   ]
  },
  {
   "cell_type": "code",
   "execution_count": 69,
   "id": "f151ab04-7f57-4468-9da6-c58a7d7591d6",
   "metadata": {},
   "outputs": [
    {
     "data": {
      "text/plain": [
       "array([ True,  True, False, False, False, False])"
      ]
     },
     "execution_count": 69,
     "metadata": {},
     "output_type": "execute_result"
    }
   ],
   "source": [
    "a<33"
   ]
  },
  {
   "cell_type": "code",
   "execution_count": 70,
   "id": "fa4b2313-2c60-42fd-8db7-6f2d01366325",
   "metadata": {},
   "outputs": [
    {
     "data": {
      "text/plain": [
       "array([11, 22])"
      ]
     },
     "execution_count": 70,
     "metadata": {},
     "output_type": "execute_result"
    }
   ],
   "source": [
    "a[a<33]"
   ]
  },
  {
   "cell_type": "markdown",
   "id": "58dc007b-9422-4ff1-a399-a7cd28184ae8",
   "metadata": {},
   "source": [
    "리스트는 안된다. "
   ]
  },
  {
   "cell_type": "code",
   "execution_count": 74,
   "id": "92d9545b-3438-4ec4-8d6f-489194855ad5",
   "metadata": {},
   "outputs": [
    {
     "ename": "TypeError",
     "evalue": "'<' not supported between instances of 'list' and 'int'",
     "output_type": "error",
     "traceback": [
      "\u001b[0;31m---------------------------------------------------------------------------\u001b[0m",
      "\u001b[0;31mTypeError\u001b[0m                                 Traceback (most recent call last)",
      "\u001b[0;32m<ipython-input-74-0617af835ebc>\u001b[0m in \u001b[0;36m<module>\u001b[0;34m\u001b[0m\n\u001b[0;32m----> 1\u001b[0;31m \u001b[0ml\u001b[0m\u001b[0;34m<\u001b[0m\u001b[0;36m33\u001b[0m \u001b[0;31m## 일단 여기서 막힘\u001b[0m\u001b[0;34m\u001b[0m\u001b[0;34m\u001b[0m\u001b[0m\n\u001b[0m",
      "\u001b[0;31mTypeError\u001b[0m: '<' not supported between instances of 'list' and 'int'"
     ]
    }
   ],
   "source": [
    "l<33 ## 일단 여기서 막힘 "
   ]
  },
  {
   "cell_type": "markdown",
   "id": "c122f199-bdaa-481f-9c46-bfef957a457d",
   "metadata": {},
   "source": [
    "#### reshape "
   ]
  },
  {
   "cell_type": "markdown",
   "id": "ead74d98-e1ac-4a21-8164-1aae0b79423f",
   "metadata": {},
   "source": [
    "`-` reshape "
   ]
  },
  {
   "cell_type": "code",
   "execution_count": 75,
   "id": "35266bb7-d6ed-4c48-ae18-56f3b9452823",
   "metadata": {},
   "outputs": [
    {
     "data": {
      "text/plain": [
       "array([11, 22, 33, 44, 55, 66])"
      ]
     },
     "execution_count": 75,
     "metadata": {},
     "output_type": "execute_result"
    }
   ],
   "source": [
    "l = [11,22,33,44,55,66]\n",
    "a = np.array(l)\n",
    "a"
   ]
  },
  {
   "cell_type": "code",
   "execution_count": 76,
   "id": "61e3c173-bce4-4634-a2c2-dca8307c4c5f",
   "metadata": {},
   "outputs": [
    {
     "data": {
      "text/plain": [
       "array([[11, 22, 33],\n",
       "       [44, 55, 66]])"
      ]
     },
     "execution_count": 76,
     "metadata": {},
     "output_type": "execute_result"
    }
   ],
   "source": [
    "a.reshape(2,3)"
   ]
  },
  {
   "cell_type": "code",
   "execution_count": 78,
   "id": "1bf01e8d-959a-4da6-a92c-761819503839",
   "metadata": {},
   "outputs": [
    {
     "data": {
      "text/plain": [
       "array([11, 22, 33, 44, 55, 66])"
      ]
     },
     "execution_count": 78,
     "metadata": {},
     "output_type": "execute_result"
    }
   ],
   "source": [
    "a ## reshape은 a자체가 변화하지 않음 "
   ]
  },
  {
   "cell_type": "code",
   "execution_count": 79,
   "id": "93b72bb0-2584-4d95-a0ee-1eef887a9638",
   "metadata": {},
   "outputs": [
    {
     "data": {
      "text/plain": [
       "array([[11, 22, 33],\n",
       "       [44, 55, 66]])"
      ]
     },
     "execution_count": 79,
     "metadata": {},
     "output_type": "execute_result"
    }
   ],
   "source": [
    "b = a.reshape(2,3)\n",
    "b"
   ]
  },
  {
   "cell_type": "markdown",
   "id": "b8d74a00-07ea-4387-b263-8c8dfab6e8ee",
   "metadata": {},
   "source": [
    "`-` b를 다시 a처럼 바꾸고 싶다면? "
   ]
  },
  {
   "cell_type": "code",
   "execution_count": 80,
   "id": "2fa9550e-7f26-4503-8231-70f535f40364",
   "metadata": {},
   "outputs": [
    {
     "data": {
      "text/plain": [
       "array([11, 22, 33, 44, 55, 66])"
      ]
     },
     "execution_count": 80,
     "metadata": {},
     "output_type": "execute_result"
    }
   ],
   "source": [
    "b.reshape(6)"
   ]
  },
  {
   "cell_type": "code",
   "execution_count": 81,
   "id": "1d305517-97b1-4303-bb63-7588b71e0d11",
   "metadata": {},
   "outputs": [
    {
     "data": {
      "text/plain": [
       "array([11, 22, 33, 44, 55, 66])"
      ]
     },
     "execution_count": 81,
     "metadata": {},
     "output_type": "execute_result"
    }
   ],
   "source": [
    "b.flatten()"
   ]
  },
  {
   "cell_type": "code",
   "execution_count": 85,
   "id": "30c37c4f-9e36-4789-b533-28c9786a2c8d",
   "metadata": {},
   "outputs": [
    {
     "data": {
      "text/plain": [
       "array([11, 22, 33, 44, 55, 66])"
      ]
     },
     "execution_count": 85,
     "metadata": {},
     "output_type": "execute_result"
    }
   ],
   "source": [
    "b.ravel()"
   ]
  },
  {
   "cell_type": "code",
   "execution_count": 84,
   "id": "85e9ed20-d290-4e3f-8f82-6670f935eec1",
   "metadata": {},
   "outputs": [
    {
     "data": {
      "text/plain": [
       "array([11, 22, 33, 44, 55, 66])"
      ]
     },
     "execution_count": 84,
     "metadata": {},
     "output_type": "execute_result"
    }
   ],
   "source": [
    "b.reshape(-1)"
   ]
  },
  {
   "cell_type": "markdown",
   "id": "969e4e75-6f48-4e5b-8980-b81ec09f042a",
   "metadata": {},
   "source": [
    "### numpy공부 3단계 "
   ]
  },
  {
   "cell_type": "markdown",
   "id": "2db786fb-8987-4ab1-874b-cdf05120849c",
   "metadata": {},
   "source": [
    "`-` 2차원 array a,b를 선언하자. "
   ]
  },
  {
   "cell_type": "code",
   "execution_count": 86,
   "id": "d3a1f94d-dc35-418b-8623-40dab74317d0",
   "metadata": {},
   "outputs": [
    {
     "data": {
      "text/plain": [
       "array([[11, 22],\n",
       "       [33, 44]])"
      ]
     },
     "execution_count": 86,
     "metadata": {},
     "output_type": "execute_result"
    }
   ],
   "source": [
    "a=np.array([[11,22,33,44]]).reshape(2,2)\n",
    "a"
   ]
  },
  {
   "cell_type": "code",
   "execution_count": 88,
   "id": "c31d834e-30b0-4ca3-ac1e-e21908a13227",
   "metadata": {},
   "outputs": [
    {
     "data": {
      "text/plain": [
       "array([[11, 22, 33],\n",
       "       [44, 55, 66]])"
      ]
     },
     "execution_count": 88,
     "metadata": {},
     "output_type": "execute_result"
    }
   ],
   "source": [
    "b=np.array([[11,22,33,44,55,66]]).reshape(2,3)\n",
    "b"
   ]
  },
  {
   "cell_type": "markdown",
   "id": "c3fc0aeb-b636-49e7-ba17-7acbaa650dcc",
   "metadata": {},
   "source": [
    "`-` `a.` + TAB, `b.` + TAB "
   ]
  },
  {
   "cell_type": "code",
   "execution_count": 90,
   "id": "16f3caee-82d8-4577-bc78-c887a1a846c5",
   "metadata": {},
   "outputs": [
    {
     "data": {
      "text/plain": [
       "((2, 2), (2, 3))"
      ]
     },
     "execution_count": 90,
     "metadata": {},
     "output_type": "execute_result"
    }
   ],
   "source": [
    "a.shape, b.shape"
   ]
  },
  {
   "cell_type": "code",
   "execution_count": 99,
   "id": "2dda5ca1-210b-4012-a85f-05d6aad35c7e",
   "metadata": {},
   "outputs": [
    {
     "data": {
      "text/plain": [
       "(4, 6)"
      ]
     },
     "execution_count": 99,
     "metadata": {},
     "output_type": "execute_result"
    }
   ],
   "source": [
    "a.size, b.size"
   ]
  },
  {
   "cell_type": "code",
   "execution_count": 100,
   "id": "f5c6136f-851d-4447-8aaa-6e000ebfac32",
   "metadata": {},
   "outputs": [
    {
     "data": {
      "text/plain": [
       "(8, 8)"
      ]
     },
     "execution_count": 100,
     "metadata": {},
     "output_type": "execute_result"
    }
   ],
   "source": [
    "a.itemsize, b.itemsize"
   ]
  },
  {
   "cell_type": "markdown",
   "id": "d8263f65-ede0-4f83-983d-81d5d663ce6a",
   "metadata": {},
   "source": [
    "- ? "
   ]
  },
  {
   "cell_type": "code",
   "execution_count": 102,
   "id": "63f0df68-c2bb-4be9-b64f-11cf27bbadeb",
   "metadata": {},
   "outputs": [
    {
     "data": {
      "text/plain": [
       "((16, 8), (24, 8))"
      ]
     },
     "execution_count": 102,
     "metadata": {},
     "output_type": "execute_result"
    }
   ],
   "source": [
    "a.strides, b.strides"
   ]
  },
  {
   "cell_type": "markdown",
   "id": "2c25a1e6-44b9-4ee5-bf0f-dd500b8553eb",
   "metadata": {},
   "source": [
    "- ? "
   ]
  },
  {
   "cell_type": "markdown",
   "id": "cd8b61a1-211f-4382-a299-aaed0f285ed0",
   "metadata": {},
   "source": [
    "***a의 형태***"
   ]
  },
  {
   "cell_type": "code",
   "execution_count": 103,
   "id": "312b5523-18a5-47f2-b500-caba2cbbdf46",
   "metadata": {},
   "outputs": [
    {
     "data": {
      "text/plain": [
       "array([[11, 22],\n",
       "       [33, 44]])"
      ]
     },
     "execution_count": 103,
     "metadata": {},
     "output_type": "execute_result"
    }
   ],
   "source": [
    "a"
   ]
  },
  {
   "cell_type": "markdown",
   "id": "d84695a8-c03a-4ef9-bf74-7afef44ee2e2",
   "metadata": {},
   "source": [
    "***b의 형태***"
   ]
  },
  {
   "cell_type": "code",
   "execution_count": 104,
   "id": "181e8079-2520-4ac7-8a50-22aa7e124e07",
   "metadata": {},
   "outputs": [
    {
     "data": {
      "text/plain": [
       "array([[11, 22, 33],\n",
       "       [44, 55, 66]])"
      ]
     },
     "execution_count": 104,
     "metadata": {},
     "output_type": "execute_result"
    }
   ],
   "source": [
    "b"
   ]
  },
  {
   "cell_type": "markdown",
   "id": "e293755a-b9b9-4dd0-bfd3-1a5a7585a6a6",
   "metadata": {},
   "source": [
    "`-` itemsize와 strides의 의미를 유추하기 위해서 c,d를 더 만들어보자. "
   ]
  },
  {
   "cell_type": "code",
   "execution_count": 105,
   "id": "e6d822ef-22cc-4591-840f-d8622751086e",
   "metadata": {},
   "outputs": [],
   "source": [
    "c = np.array([11,22,33,44]).reshape(4,1)\n",
    "d = np.array([11,22,33,44])"
   ]
  },
  {
   "cell_type": "markdown",
   "id": "a0cf1a26-f94a-4696-b25a-a84f62501665",
   "metadata": {},
   "source": [
    "***c의 형태***"
   ]
  },
  {
   "cell_type": "code",
   "execution_count": 106,
   "id": "ebb7e007-c2b4-4017-ade0-eab12e94ac22",
   "metadata": {},
   "outputs": [
    {
     "data": {
      "text/plain": [
       "array([[11],\n",
       "       [22],\n",
       "       [33],\n",
       "       [44]])"
      ]
     },
     "execution_count": 106,
     "metadata": {},
     "output_type": "execute_result"
    }
   ],
   "source": [
    "c"
   ]
  },
  {
   "cell_type": "markdown",
   "id": "af4d86a2-20bf-44d7-b6b3-9fd1cf2ee804",
   "metadata": {},
   "source": [
    "***d의 형태***"
   ]
  },
  {
   "cell_type": "code",
   "execution_count": 107,
   "id": "5e3d39a2-b01c-4bba-bb02-35ecd4ef41a9",
   "metadata": {},
   "outputs": [
    {
     "data": {
      "text/plain": [
       "array([11, 22, 33, 44])"
      ]
     },
     "execution_count": 107,
     "metadata": {},
     "output_type": "execute_result"
    }
   ],
   "source": [
    "d"
   ]
  },
  {
   "cell_type": "markdown",
   "id": "4f2534c7-2a2b-4f94-9751-061c23916c1c",
   "metadata": {},
   "source": [
    "`-` a,b,c,d 속성비교 "
   ]
  },
  {
   "cell_type": "code",
   "execution_count": 109,
   "id": "493682bc-b3fd-4010-829d-2ec965670d62",
   "metadata": {},
   "outputs": [
    {
     "data": {
      "text/plain": [
       "((2, 2), (2, 3), (4, 1), (4,))"
      ]
     },
     "execution_count": 109,
     "metadata": {},
     "output_type": "execute_result"
    }
   ],
   "source": [
    "a.shape, b.shape, c.shape, d.shape ## 차원 "
   ]
  },
  {
   "cell_type": "code",
   "execution_count": 111,
   "id": "95c6630f-77f1-4bad-a3b8-d2e5adb1f9f6",
   "metadata": {},
   "outputs": [
    {
     "data": {
      "text/plain": [
       "(4, 6, 4, 4)"
      ]
     },
     "execution_count": 111,
     "metadata": {},
     "output_type": "execute_result"
    }
   ],
   "source": [
    "a.size, b.size, c.size, d.size ## 원소의 수"
   ]
  },
  {
   "cell_type": "code",
   "execution_count": 112,
   "id": "4242fe08-9232-4bea-8a71-e2ce8d3366f0",
   "metadata": {},
   "outputs": [
    {
     "data": {
      "text/plain": [
       "(8, 8, 8, 8)"
      ]
     },
     "execution_count": 112,
     "metadata": {},
     "output_type": "execute_result"
    }
   ],
   "source": [
    "a.itemsize, b.itemsize, c.itemsize, d.itemsize ## 항상 8? "
   ]
  },
  {
   "cell_type": "code",
   "execution_count": 115,
   "id": "d41e8e1a-7816-4b3a-a7f7-32823e4e6b69",
   "metadata": {},
   "outputs": [
    {
     "data": {
      "text/plain": [
       "((16, 8), (24, 8), (8, 8), (8,))"
      ]
     },
     "execution_count": 115,
     "metadata": {},
     "output_type": "execute_result"
    }
   ],
   "source": [
    "a.strides, b.strides, c.strides, d.strides ## 차원이랑 관련이 있어보임.. + 8의 배수 "
   ]
  },
  {
   "cell_type": "code",
   "execution_count": 116,
   "id": "6d738ce0-4836-4508-b607-a91219b91c3c",
   "metadata": {},
   "outputs": [
    {
     "data": {
      "text/plain": [
       "array([[11, 22],\n",
       "       [33, 44]])"
      ]
     },
     "execution_count": 116,
     "metadata": {},
     "output_type": "execute_result"
    }
   ],
   "source": [
    "a"
   ]
  },
  {
   "cell_type": "markdown",
   "id": "4dfd033e-01e2-4b60-9f9c-cd25c5ce41e4",
   "metadata": {},
   "source": [
    "`-` itemsize, strides는 무엇? \n",
    "- itemsize: 숫자하나를 저장하는 필요한 메모리 공간 \n",
    "- strides: (다음 행으로 가기위해서 JUMP해야하는 메모리 공간수, 다음 열로 가기위해서 JUMP해야하는 메모리 공간수) "
   ]
  },
  {
   "cell_type": "markdown",
   "id": "7eba64dd-f88d-477c-b896-e74dedd462aa",
   "metadata": {},
   "source": [
    "`-` strides에 대한 추가해설 "
   ]
  },
  {
   "cell_type": "markdown",
   "id": "80550620-3826-4230-b230-53954c8c2c56",
   "metadata": {},
   "source": [
    "**(오브젝트b)**"
   ]
  },
  {
   "cell_type": "code",
   "execution_count": 117,
   "id": "4a419ac7-e2ea-4f17-8a53-f36031da4a7e",
   "metadata": {},
   "outputs": [
    {
     "data": {
      "text/plain": [
       "array([[11, 22, 33],\n",
       "       [44, 55, 66]])"
      ]
     },
     "execution_count": 117,
     "metadata": {},
     "output_type": "execute_result"
    }
   ],
   "source": [
    "b"
   ]
  },
  {
   "cell_type": "code",
   "execution_count": 118,
   "id": "fcf41374-479d-4a96-afb3-2e8369a70bdd",
   "metadata": {},
   "outputs": [
    {
     "data": {
      "text/plain": [
       "array([11, 22, 33, 44, 55, 66])"
      ]
     },
     "execution_count": 118,
     "metadata": {},
     "output_type": "execute_result"
    }
   ],
   "source": [
    "b.reshape(-1)"
   ]
  },
  {
   "cell_type": "code",
   "execution_count": 119,
   "id": "733e1135-2951-4f16-a51f-04be255c41cc",
   "metadata": {},
   "outputs": [
    {
     "data": {
      "text/plain": [
       "(24, 8)"
      ]
     },
     "execution_count": 119,
     "metadata": {},
     "output_type": "execute_result"
    }
   ],
   "source": [
    "b.strides"
   ]
  },
  {
   "cell_type": "markdown",
   "id": "db90526a-4054-452d-ae4e-b9b7b491b8d1",
   "metadata": {},
   "source": [
    "`-` itemsize는 항상 8이다?"
   ]
  },
  {
   "cell_type": "code",
   "execution_count": 120,
   "id": "7ecaff53-02f9-47bd-8e06-fcd180b21794",
   "metadata": {},
   "outputs": [
    {
     "data": {
      "text/plain": [
       "array([11, 22, 33, 44, 55, 66], dtype=int32)"
      ]
     },
     "execution_count": 120,
     "metadata": {},
     "output_type": "execute_result"
    }
   ],
   "source": [
    "e=np.array([11,22,33,44,55,66],dtype='int32')\n",
    "e"
   ]
  },
  {
   "cell_type": "code",
   "execution_count": 121,
   "id": "a6ec20ed-c121-4397-880a-f4bbb6055967",
   "metadata": {},
   "outputs": [
    {
     "data": {
      "text/plain": [
       "4"
      ]
     },
     "execution_count": 121,
     "metadata": {},
     "output_type": "execute_result"
    }
   ],
   "source": [
    "e.itemsize"
   ]
  },
  {
   "cell_type": "code",
   "execution_count": 122,
   "id": "4a1bcd5d-c256-4194-b753-ff1da88ae34b",
   "metadata": {},
   "outputs": [
    {
     "data": {
      "text/plain": [
       "array([[11, 22, 33],\n",
       "       [44, 55, 66]], dtype=int32)"
      ]
     },
     "execution_count": 122,
     "metadata": {},
     "output_type": "execute_result"
    }
   ],
   "source": [
    "e=e.reshape(2,3)\n",
    "e"
   ]
  },
  {
   "cell_type": "code",
   "execution_count": 123,
   "id": "9edf5859-84fb-4bcb-ac98-d41b8a59d29e",
   "metadata": {},
   "outputs": [
    {
     "data": {
      "text/plain": [
       "(12, 4)"
      ]
     },
     "execution_count": 123,
     "metadata": {},
     "output_type": "execute_result"
    }
   ],
   "source": [
    "e.strides"
   ]
  },
  {
   "cell_type": "markdown",
   "id": "668fcc69-94a7-4811-809f-25dd62e37bf1",
   "metadata": {},
   "source": [
    "### 참조 "
   ]
  },
  {
   "cell_type": "markdown",
   "id": "425154c4-2da8-49af-a6d3-00c2ddd4fc41",
   "metadata": {},
   "source": [
    "`-` a를 선언, b는 a의 참조"
   ]
  },
  {
   "cell_type": "code",
   "execution_count": 147,
   "id": "45c21292-d0f3-42f6-9c65-d70f615a2659",
   "metadata": {},
   "outputs": [],
   "source": [
    "a=np.array([[1,2],[3,4]])\n",
    "b=a ## 참조 "
   ]
  },
  {
   "cell_type": "code",
   "execution_count": 148,
   "id": "13d202a4-de07-43c0-b9bb-5c09fdc2ec57",
   "metadata": {},
   "outputs": [
    {
     "data": {
      "text/plain": [
       "array([[1, 2],\n",
       "       [3, 4]])"
      ]
     },
     "execution_count": 148,
     "metadata": {},
     "output_type": "execute_result"
    }
   ],
   "source": [
    "a"
   ]
  },
  {
   "cell_type": "code",
   "execution_count": 149,
   "id": "edf3ad68-2a89-485d-9037-5ebf5088aa1b",
   "metadata": {},
   "outputs": [
    {
     "data": {
      "text/plain": [
       "array([[1, 2],\n",
       "       [3, 4]])"
      ]
     },
     "execution_count": 149,
     "metadata": {},
     "output_type": "execute_result"
    }
   ],
   "source": [
    "b"
   ]
  },
  {
   "cell_type": "code",
   "execution_count": 150,
   "id": "c3ce97c0-b56f-4e3d-95a2-3b2e7c98cf89",
   "metadata": {},
   "outputs": [
    {
     "data": {
      "text/plain": [
       "(2, 2)"
      ]
     },
     "execution_count": 150,
     "metadata": {},
     "output_type": "execute_result"
    }
   ],
   "source": [
    "a.shape"
   ]
  },
  {
   "cell_type": "code",
   "execution_count": 151,
   "id": "58654047-a724-4784-be86-85964071ba92",
   "metadata": {},
   "outputs": [
    {
     "data": {
      "text/plain": [
       "(2, 2)"
      ]
     },
     "execution_count": 151,
     "metadata": {},
     "output_type": "execute_result"
    }
   ],
   "source": [
    "b.shape"
   ]
  },
  {
   "cell_type": "markdown",
   "id": "30291e1d-10ff-4b2e-88f5-59c7ed60ed16",
   "metadata": {},
   "source": [
    "`-` a의 shape을 바꾸어보자 $\\to$ b도 같이 바뀐다 "
   ]
  },
  {
   "cell_type": "code",
   "execution_count": 152,
   "id": "1b4ac7b4-0eaa-41d8-aeaf-04ca5274da30",
   "metadata": {},
   "outputs": [],
   "source": [
    "a.shape = (4,)"
   ]
  },
  {
   "cell_type": "code",
   "execution_count": 153,
   "id": "ca1744e2-44db-491f-b506-6bb3df87ebb5",
   "metadata": {},
   "outputs": [
    {
     "data": {
      "text/plain": [
       "array([1, 2, 3, 4])"
      ]
     },
     "execution_count": 153,
     "metadata": {},
     "output_type": "execute_result"
    }
   ],
   "source": [
    "a"
   ]
  },
  {
   "cell_type": "code",
   "execution_count": 154,
   "id": "33d90d4c-9783-43d7-a226-596048db7e96",
   "metadata": {},
   "outputs": [
    {
     "data": {
      "text/plain": [
       "array([1, 2, 3, 4])"
      ]
     },
     "execution_count": 154,
     "metadata": {},
     "output_type": "execute_result"
    }
   ],
   "source": [
    "b"
   ]
  },
  {
   "cell_type": "code",
   "execution_count": 155,
   "id": "52b44631-27cf-4990-9006-08a7af954d3b",
   "metadata": {},
   "outputs": [
    {
     "data": {
      "text/plain": [
       "(139811809650992, 139811809650992)"
      ]
     },
     "execution_count": 155,
     "metadata": {},
     "output_type": "execute_result"
    }
   ],
   "source": [
    "id(a),id(b)"
   ]
  },
  {
   "cell_type": "markdown",
   "id": "bb9e361f-6313-487e-a159-49e984a0684b",
   "metadata": {
    "tags": []
   },
   "source": [
    "### view "
   ]
  },
  {
   "cell_type": "markdown",
   "id": "9f38990e-94fe-4301-a84a-cd2d9b5c1ee6",
   "metadata": {},
   "source": [
    "`-` a를 선언, b는 a의 view"
   ]
  },
  {
   "cell_type": "code",
   "execution_count": 227,
   "id": "000383b7-1a5a-42e8-a9a6-35aa038e5f5a",
   "metadata": {},
   "outputs": [],
   "source": [
    "a=np.array([[1,2],[3,4]]) \n",
    "b=a.view() ## shallow copy "
   ]
  },
  {
   "cell_type": "code",
   "execution_count": 171,
   "id": "14f30631-a9cb-4502-a87d-bdd6d3e5a2c1",
   "metadata": {},
   "outputs": [
    {
     "data": {
      "text/plain": [
       "array([[1, 2],\n",
       "       [3, 4]])"
      ]
     },
     "execution_count": 171,
     "metadata": {},
     "output_type": "execute_result"
    }
   ],
   "source": [
    "a"
   ]
  },
  {
   "cell_type": "code",
   "execution_count": 172,
   "id": "2c3d29cf-7309-4e8c-bca1-e87b4f3c9cc6",
   "metadata": {},
   "outputs": [
    {
     "data": {
      "text/plain": [
       "array([[1, 2],\n",
       "       [3, 4]])"
      ]
     },
     "execution_count": 172,
     "metadata": {},
     "output_type": "execute_result"
    }
   ],
   "source": [
    "b"
   ]
  },
  {
   "cell_type": "code",
   "execution_count": 173,
   "id": "a96e23ee-9b3b-4269-9740-f8e35450f1b6",
   "metadata": {},
   "outputs": [
    {
     "data": {
      "text/plain": [
       "(2, 2)"
      ]
     },
     "execution_count": 173,
     "metadata": {},
     "output_type": "execute_result"
    }
   ],
   "source": [
    "a.shape"
   ]
  },
  {
   "cell_type": "code",
   "execution_count": 174,
   "id": "e26ae05a-a7dd-49fa-b5bc-4b7dd0a7c2e7",
   "metadata": {},
   "outputs": [
    {
     "data": {
      "text/plain": [
       "(2, 2)"
      ]
     },
     "execution_count": 174,
     "metadata": {},
     "output_type": "execute_result"
    }
   ],
   "source": [
    "b.shape"
   ]
  },
  {
   "cell_type": "code",
   "execution_count": 175,
   "id": "5e751bd5-1b9d-4eb7-91d3-61f9fc8d7b97",
   "metadata": {},
   "outputs": [],
   "source": [
    "a.shape= (4,1)"
   ]
  },
  {
   "cell_type": "code",
   "execution_count": 176,
   "id": "8a264bec-5aa7-43ad-8550-412a58382443",
   "metadata": {},
   "outputs": [
    {
     "data": {
      "text/plain": [
       "array([[1],\n",
       "       [2],\n",
       "       [3],\n",
       "       [4]])"
      ]
     },
     "execution_count": 176,
     "metadata": {},
     "output_type": "execute_result"
    }
   ],
   "source": [
    "a"
   ]
  },
  {
   "cell_type": "code",
   "execution_count": 177,
   "id": "22a025be-5e0f-455c-9156-ced83e050cae",
   "metadata": {},
   "outputs": [
    {
     "data": {
      "text/plain": [
       "array([[1, 2],\n",
       "       [3, 4]])"
      ]
     },
     "execution_count": 177,
     "metadata": {},
     "output_type": "execute_result"
    }
   ],
   "source": [
    "b"
   ]
  },
  {
   "cell_type": "code",
   "execution_count": 178,
   "id": "c42f5a78-ff56-4117-ada0-51a72eadedc6",
   "metadata": {},
   "outputs": [
    {
     "data": {
      "text/plain": [
       "(139811818705616, 139811818705424)"
      ]
     },
     "execution_count": 178,
     "metadata": {},
     "output_type": "execute_result"
    }
   ],
   "source": [
    "id(a), id(b)"
   ]
  },
  {
   "cell_type": "markdown",
   "id": "b79caee6-c04b-4710-893f-50de47c94dd2",
   "metadata": {},
   "source": [
    "`-` 그런데.. "
   ]
  },
  {
   "cell_type": "code",
   "execution_count": 179,
   "id": "9ba1c185-67cd-4bed-8ddd-d75cedda0e2a",
   "metadata": {},
   "outputs": [],
   "source": [
    "a[0]=100"
   ]
  },
  {
   "cell_type": "code",
   "execution_count": 180,
   "id": "650f3425-adab-4ceb-a648-5663cee89c8a",
   "metadata": {},
   "outputs": [
    {
     "data": {
      "text/plain": [
       "array([[100],\n",
       "       [  2],\n",
       "       [  3],\n",
       "       [  4]])"
      ]
     },
     "execution_count": 180,
     "metadata": {},
     "output_type": "execute_result"
    }
   ],
   "source": [
    "a"
   ]
  },
  {
   "cell_type": "code",
   "execution_count": 181,
   "id": "d537be13-c3f2-48b1-b47e-241d1e76e43d",
   "metadata": {},
   "outputs": [
    {
     "data": {
      "text/plain": [
       "array([[100,   2],\n",
       "       [  3,   4]])"
      ]
     },
     "execution_count": 181,
     "metadata": {},
     "output_type": "execute_result"
    }
   ],
   "source": [
    "b"
   ]
  },
  {
   "cell_type": "markdown",
   "id": "8d00dda7-5dc4-4f46-8d24-7f39d344ba2f",
   "metadata": {},
   "source": [
    "`-` 출생의 비밀 "
   ]
  },
  {
   "cell_type": "code",
   "execution_count": 182,
   "id": "36c9aca8-beb4-4745-a8e2-146a7d444d59",
   "metadata": {},
   "outputs": [
    {
     "data": {
      "text/plain": [
       "array([[100,   2],\n",
       "       [  3,   4]])"
      ]
     },
     "execution_count": 182,
     "metadata": {},
     "output_type": "execute_result"
    }
   ],
   "source": [
    "b"
   ]
  },
  {
   "cell_type": "code",
   "execution_count": 183,
   "id": "e34ade3c-8be5-4e6f-95a9-6d94dd80a6d9",
   "metadata": {},
   "outputs": [
    {
     "data": {
      "text/plain": [
       "array([[100],\n",
       "       [  2],\n",
       "       [  3],\n",
       "       [  4]])"
      ]
     },
     "execution_count": 183,
     "metadata": {},
     "output_type": "execute_result"
    }
   ],
   "source": [
    "b.base"
   ]
  },
  {
   "cell_type": "markdown",
   "id": "7cad8c2e-a1ab-48ba-a14d-842c6e52e2af",
   "metadata": {},
   "source": [
    "- ? 이거 바뀐 a아니야? "
   ]
  },
  {
   "cell_type": "code",
   "execution_count": 184,
   "id": "cbc11955-6d56-4bb7-8203-7a79024393fa",
   "metadata": {},
   "outputs": [
    {
     "data": {
      "text/plain": [
       "139811818705616"
      ]
     },
     "execution_count": 184,
     "metadata": {},
     "output_type": "execute_result"
    }
   ],
   "source": [
    "id(b.base)"
   ]
  },
  {
   "cell_type": "code",
   "execution_count": 185,
   "id": "2ee4b4ed-8e3e-4da3-934f-cb029f6bc3a3",
   "metadata": {},
   "outputs": [
    {
     "data": {
      "text/plain": [
       "139811818705616"
      ]
     },
     "execution_count": 185,
     "metadata": {},
     "output_type": "execute_result"
    }
   ],
   "source": [
    "id(a)"
   ]
  },
  {
   "cell_type": "markdown",
   "id": "cd53a1ae-b742-41fe-ab7c-67d8c6e3d476",
   "metadata": {},
   "source": [
    "`-` View \n",
    "- b가 a의 뷰라는 의미는, b가 a를 소스로하여 만들어진 오브젝트란 의미이다. \n",
    "- 따라서 이때 b.base는 a가 된다. \n",
    "- b는 자체적으로 데이터를 가지고 있지 않으며 a와 공유한다. \n",
    "- 이러한 의미에서 view를 shallow copy 라고 부른다. (가장 껍데기 구조만 복사하므로) "
   ]
  },
  {
   "cell_type": "markdown",
   "id": "93671161-af2c-4bbc-ab3f-3b2b1a83c5f3",
   "metadata": {},
   "source": [
    "`note1` 원본 ndarray의 일 경우는 .base가 None으로 나온다. "
   ]
  },
  {
   "cell_type": "code",
   "execution_count": 188,
   "id": "0ce40a32-6f34-452d-be7c-839a3012e211",
   "metadata": {},
   "outputs": [],
   "source": [
    "a.base"
   ]
  },
  {
   "cell_type": "markdown",
   "id": "cfe3124e-2b8a-4b5f-9673-a2fcb869d913",
   "metadata": {},
   "source": [
    "`note2` b.base의 shpae과 b의 shape은 아무 관련없다. "
   ]
  },
  {
   "cell_type": "code",
   "execution_count": 191,
   "id": "808b5a58-51db-4f45-972c-ef51ab6aaddf",
   "metadata": {},
   "outputs": [
    {
     "data": {
      "text/plain": [
       "(2, 2)"
      ]
     },
     "execution_count": 191,
     "metadata": {},
     "output_type": "execute_result"
    }
   ],
   "source": [
    "b.shape"
   ]
  },
  {
   "cell_type": "code",
   "execution_count": 192,
   "id": "fb20b65c-d61c-4cc2-8e65-d75132160bf8",
   "metadata": {},
   "outputs": [
    {
     "data": {
      "text/plain": [
       "(4, 1)"
      ]
     },
     "execution_count": 192,
     "metadata": {},
     "output_type": "execute_result"
    }
   ],
   "source": [
    "b.base.shape"
   ]
  },
  {
   "cell_type": "markdown",
   "id": "734a2232-8860-4215-95f2-c67c6006310c",
   "metadata": {},
   "source": [
    "### copy "
   ]
  },
  {
   "cell_type": "markdown",
   "id": "4f1269e6-fd7d-44a0-a45c-ff395ba22a07",
   "metadata": {},
   "source": [
    "`-` a를 선언, b는 a의 copy"
   ]
  },
  {
   "cell_type": "code",
   "execution_count": 193,
   "id": "1b2237be-a9d0-4d0d-8ccc-9599c6e2f683",
   "metadata": {},
   "outputs": [],
   "source": [
    "a=np.array([[1,2],[3,4]])\n",
    "b=a.copy()"
   ]
  },
  {
   "cell_type": "code",
   "execution_count": 195,
   "id": "d29a4a78-c68e-4d84-b6e5-6c4ceb77dae2",
   "metadata": {},
   "outputs": [
    {
     "data": {
      "text/plain": [
       "(139811818708208, 139811818707344)"
      ]
     },
     "execution_count": 195,
     "metadata": {},
     "output_type": "execute_result"
    }
   ],
   "source": [
    "id(a),id(b)"
   ]
  },
  {
   "cell_type": "markdown",
   "id": "96b1434e-597b-4a4d-accb-83a65a901d0b",
   "metadata": {},
   "source": [
    "`-` a의 shape을 바꿔도 b에는 적용되지 않음 "
   ]
  },
  {
   "cell_type": "code",
   "execution_count": 196,
   "id": "4cd103e5-35e8-4790-a6f8-484dbffdd3de",
   "metadata": {},
   "outputs": [
    {
     "data": {
      "text/plain": [
       "array([[1],\n",
       "       [2],\n",
       "       [3],\n",
       "       [4]])"
      ]
     },
     "execution_count": 196,
     "metadata": {},
     "output_type": "execute_result"
    }
   ],
   "source": [
    "a.shape = (4,1)\n",
    "a"
   ]
  },
  {
   "cell_type": "code",
   "execution_count": 197,
   "id": "2191328e-e4fa-4d92-bca5-bbfdfd5234db",
   "metadata": {},
   "outputs": [
    {
     "data": {
      "text/plain": [
       "array([[1, 2],\n",
       "       [3, 4]])"
      ]
     },
     "execution_count": 197,
     "metadata": {},
     "output_type": "execute_result"
    }
   ],
   "source": [
    "b"
   ]
  },
  {
   "cell_type": "markdown",
   "id": "e1ede2f1-96a9-4deb-a545-e7527aa0944f",
   "metadata": {},
   "source": [
    "`-` 그리고 a[0]의 값을 바꿔도 b에는 적용되지 않음. "
   ]
  },
  {
   "cell_type": "code",
   "execution_count": 199,
   "id": "f1db54aa-4138-43e4-ac27-db13283a50ba",
   "metadata": {},
   "outputs": [],
   "source": [
    "a[0]=100"
   ]
  },
  {
   "cell_type": "code",
   "execution_count": 200,
   "id": "79d0c6c3-3bfd-43bc-832b-71a9c7d0e92e",
   "metadata": {},
   "outputs": [
    {
     "data": {
      "text/plain": [
       "array([[100],\n",
       "       [  2],\n",
       "       [  3],\n",
       "       [  4]])"
      ]
     },
     "execution_count": 200,
     "metadata": {},
     "output_type": "execute_result"
    }
   ],
   "source": [
    "a"
   ]
  },
  {
   "cell_type": "code",
   "execution_count": 201,
   "id": "3dd6b61c-ee4d-486b-8766-b5781560d898",
   "metadata": {},
   "outputs": [
    {
     "data": {
      "text/plain": [
       "array([[1, 2],\n",
       "       [3, 4]])"
      ]
     },
     "execution_count": 201,
     "metadata": {},
     "output_type": "execute_result"
    }
   ],
   "source": [
    "b"
   ]
  },
  {
   "cell_type": "markdown",
   "id": "cfff9b15-a50f-4318-9a5c-babdc79bf6ac",
   "metadata": {},
   "source": [
    "`-` b의 출생을 조사해보니.. "
   ]
  },
  {
   "cell_type": "code",
   "execution_count": 203,
   "id": "3ccc61a8-c067-48f7-8482-2a3c47d4cca0",
   "metadata": {},
   "outputs": [
    {
     "data": {
      "text/plain": [
       "(None, None)"
      ]
     },
     "execution_count": 203,
     "metadata": {},
     "output_type": "execute_result"
    }
   ],
   "source": [
    "a.base,b.base"
   ]
  },
  {
   "cell_type": "markdown",
   "id": "eaf13833-7982-46e2-b63c-2cbd2a6980ef",
   "metadata": {},
   "source": [
    "출생의 비밀은 없었다. 둘다 원본. "
   ]
  },
  {
   "cell_type": "markdown",
   "id": "cf8e27c9-c1dc-45d0-91b1-a088968fc2eb",
   "metadata": {},
   "source": [
    "***.copy의 한계(?)***"
   ]
  },
  {
   "cell_type": "code",
   "execution_count": 206,
   "id": "895f5e75-5032-4755-ba84-d693433f0a42",
   "metadata": {},
   "outputs": [
    {
     "data": {
      "text/plain": [
       "array([1, list([1, 2])], dtype=object)"
      ]
     },
     "execution_count": 206,
     "metadata": {},
     "output_type": "execute_result"
    }
   ],
   "source": [
    "a=np.array([1,[1,2]],dtype='O')\n",
    "a"
   ]
  },
  {
   "cell_type": "code",
   "execution_count": 207,
   "id": "3d4de25e-b394-43b3-94c3-e57ec281a4f5",
   "metadata": {},
   "outputs": [],
   "source": [
    "b=a.copy()"
   ]
  },
  {
   "cell_type": "code",
   "execution_count": 208,
   "id": "d885c304-c8ed-49ba-ae89-d84f28b72a1f",
   "metadata": {},
   "outputs": [
    {
     "data": {
      "text/plain": [
       "array([1, list([1, 2])], dtype=object)"
      ]
     },
     "execution_count": 208,
     "metadata": {},
     "output_type": "execute_result"
    }
   ],
   "source": [
    "b"
   ]
  },
  {
   "cell_type": "code",
   "execution_count": 209,
   "id": "cd98933d-52c5-4f61-bf2a-a71f8ccaf7e9",
   "metadata": {},
   "outputs": [],
   "source": [
    "a[0]=222"
   ]
  },
  {
   "cell_type": "code",
   "execution_count": 210,
   "id": "4d2fe391-4138-4895-acfd-ef39e90fcc9f",
   "metadata": {},
   "outputs": [
    {
     "data": {
      "text/plain": [
       "array([222, list([1, 2])], dtype=object)"
      ]
     },
     "execution_count": 210,
     "metadata": {},
     "output_type": "execute_result"
    }
   ],
   "source": [
    "a"
   ]
  },
  {
   "cell_type": "code",
   "execution_count": 211,
   "id": "b60a9c45-54e6-4e29-baff-ff00b48976e5",
   "metadata": {},
   "outputs": [
    {
     "data": {
      "text/plain": [
       "array([1, list([1, 2])], dtype=object)"
      ]
     },
     "execution_count": 211,
     "metadata": {},
     "output_type": "execute_result"
    }
   ],
   "source": [
    "b"
   ]
  },
  {
   "cell_type": "code",
   "execution_count": 214,
   "id": "31f45f75-b9d4-4bf6-aaba-a313a488179a",
   "metadata": {},
   "outputs": [],
   "source": [
    "a[1][0]=333"
   ]
  },
  {
   "cell_type": "code",
   "execution_count": 215,
   "id": "913b5b5b-bd72-4dab-b60e-a8f3bf9b6102",
   "metadata": {},
   "outputs": [
    {
     "data": {
      "text/plain": [
       "array([222, list([333, 2])], dtype=object)"
      ]
     },
     "execution_count": 215,
     "metadata": {},
     "output_type": "execute_result"
    }
   ],
   "source": [
    "a"
   ]
  },
  {
   "cell_type": "code",
   "execution_count": 216,
   "id": "3020de52-3c59-4969-b2d4-e682b2324cf7",
   "metadata": {},
   "outputs": [
    {
     "data": {
      "text/plain": [
       "array([1, list([333, 2])], dtype=object)"
      ]
     },
     "execution_count": 216,
     "metadata": {},
     "output_type": "execute_result"
    }
   ],
   "source": [
    "b"
   ]
  },
  {
   "cell_type": "markdown",
   "id": "47738165-d72d-41e1-8a7b-f221d6c4a233",
   "metadata": {},
   "source": [
    "***해결책: 더 깊은 복사***"
   ]
  },
  {
   "cell_type": "code",
   "execution_count": 217,
   "id": "b40c3777-3634-4822-9d67-a275458e990f",
   "metadata": {},
   "outputs": [],
   "source": [
    "import copy "
   ]
  },
  {
   "cell_type": "code",
   "execution_count": 218,
   "id": "eba1ad9b-a84a-4c4b-8370-bc37cb146369",
   "metadata": {},
   "outputs": [],
   "source": [
    "a=np.array([1,[1,2]],dtype='O')\n",
    "b=copy.deepcopy(a)"
   ]
  },
  {
   "cell_type": "code",
   "execution_count": 219,
   "id": "2d92b696-9780-4358-9940-cd2bf62f20b1",
   "metadata": {},
   "outputs": [
    {
     "data": {
      "text/plain": [
       "array([1, list([1, 2])], dtype=object)"
      ]
     },
     "execution_count": 219,
     "metadata": {},
     "output_type": "execute_result"
    }
   ],
   "source": [
    "a"
   ]
  },
  {
   "cell_type": "code",
   "execution_count": 220,
   "id": "246ea9fa-6960-4508-917a-2ab61dc69b80",
   "metadata": {},
   "outputs": [
    {
     "data": {
      "text/plain": [
       "array([1, list([1, 2])], dtype=object)"
      ]
     },
     "execution_count": 220,
     "metadata": {},
     "output_type": "execute_result"
    }
   ],
   "source": [
    "b"
   ]
  },
  {
   "cell_type": "code",
   "execution_count": 221,
   "id": "55b14446-d55d-4f1e-a168-22c8df26efa7",
   "metadata": {},
   "outputs": [],
   "source": [
    "a[0]=100"
   ]
  },
  {
   "cell_type": "code",
   "execution_count": 222,
   "id": "88aa8591-dad3-4309-815c-587334e51f93",
   "metadata": {},
   "outputs": [
    {
     "data": {
      "text/plain": [
       "(array([100, list([1, 2])], dtype=object),\n",
       " array([1, list([1, 2])], dtype=object))"
      ]
     },
     "execution_count": 222,
     "metadata": {},
     "output_type": "execute_result"
    }
   ],
   "source": [
    "a,b"
   ]
  },
  {
   "cell_type": "code",
   "execution_count": 225,
   "id": "e3a7023d-2e69-42e8-b726-e2efe85c9471",
   "metadata": {},
   "outputs": [],
   "source": [
    "a[1][0]=200"
   ]
  },
  {
   "cell_type": "code",
   "execution_count": 226,
   "id": "56653ee2-a520-43f7-a225-54d1ca46fbb4",
   "metadata": {},
   "outputs": [
    {
     "data": {
      "text/plain": [
       "(array([100, list([200, 2])], dtype=object),\n",
       " array([1, list([1, 2])], dtype=object))"
      ]
     },
     "execution_count": 226,
     "metadata": {},
     "output_type": "execute_result"
    }
   ],
   "source": [
    "a,b"
   ]
  },
  {
   "cell_type": "markdown",
   "id": "b6fa8115-96c8-46c5-946a-923ead5d68cf",
   "metadata": {},
   "source": [
    "일반적으로 넘파이를 이용할때 자주 사용하는 데이터 구조인 행렬, 텐서등을 이용하면 위와 같은 copy모듈은 불필요함 "
   ]
  },
  {
   "cell_type": "markdown",
   "id": "3cda1e34-657c-411e-a27b-5c16d1badfc3",
   "metadata": {},
   "source": [
    "### 별명, 뷰, 카피 "
   ]
  },
  {
   "cell_type": "markdown",
   "id": "4b4c8242-a445-4c4d-a9d9-2058764d26c4",
   "metadata": {},
   "source": [
    "`-` test 함수 작성 "
   ]
  },
  {
   "cell_type": "code",
   "execution_count": 237,
   "id": "7571ac3e-0233-49aa-b2aa-c7863951bed1",
   "metadata": {},
   "outputs": [],
   "source": [
    "def test(a,b): \n",
    "    if id(a) == id(b): \n",
    "        print(\"별명\")\n",
    "    elif id(a) == id(b.base) or id(a.base)==id(b): \n",
    "        print(\"뷰\")\n",
    "    elif (id(a.base)!=id(None) and id(b.base)!=id(None)) and id(a.base) == id(b.base):\n",
    "        print(\"공통의 base를 가짐\")\n",
    "    else: \n",
    "        print(\"카피, 혹은 아무 관련없는 오브젝트\") "
   ]
  },
  {
   "cell_type": "markdown",
   "id": "4f42b2d5-0832-469f-92bd-7ac1e165e1eb",
   "metadata": {},
   "source": [
    "`-` 잘 동작하나? "
   ]
  },
  {
   "cell_type": "markdown",
   "id": "610a19ac-5cf4-491b-9c6b-14eb02b60a9c",
   "metadata": {},
   "source": [
    "(테스트1) "
   ]
  },
  {
   "cell_type": "code",
   "execution_count": 238,
   "id": "338e898a-0a28-427e-8de3-08db81c8f1d9",
   "metadata": {},
   "outputs": [],
   "source": [
    "a=np.array([1,2,3,4])\n",
    "b=a"
   ]
  },
  {
   "cell_type": "code",
   "execution_count": 239,
   "id": "dff31db5-edc6-4aa0-aa03-91b74cd1373e",
   "metadata": {},
   "outputs": [
    {
     "name": "stdout",
     "output_type": "stream",
     "text": [
      "별명\n"
     ]
    }
   ],
   "source": [
    "test(a,b)"
   ]
  },
  {
   "cell_type": "markdown",
   "id": "08422bcf-46e6-4554-b43d-4ff90c33b6fd",
   "metadata": {},
   "source": [
    "(테스트2) "
   ]
  },
  {
   "cell_type": "code",
   "execution_count": 240,
   "id": "9b958cbe-aa65-4589-bd9e-afd9e5e0dfee",
   "metadata": {},
   "outputs": [],
   "source": [
    "a=np.array([1,2,3,4])\n",
    "b=a.view()"
   ]
  },
  {
   "cell_type": "code",
   "execution_count": 241,
   "id": "10a16dcb-b94c-4580-b23d-f5c6c6ffe040",
   "metadata": {},
   "outputs": [
    {
     "name": "stdout",
     "output_type": "stream",
     "text": [
      "뷰\n"
     ]
    }
   ],
   "source": [
    "test(a,b)"
   ]
  },
  {
   "cell_type": "markdown",
   "id": "fe1c8dc4-09d2-40cf-96e8-f6ab475afe0f",
   "metadata": {},
   "source": [
    "(테스트3) "
   ]
  },
  {
   "cell_type": "code",
   "execution_count": 242,
   "id": "acb3903a-de8d-4297-b2ed-f58c63d58aea",
   "metadata": {},
   "outputs": [],
   "source": [
    "a=np.array([1,2,3,4])\n",
    "b=a.view()\n",
    "c=a.view()"
   ]
  },
  {
   "cell_type": "code",
   "execution_count": 243,
   "id": "cf4e4f6f-8a6f-437a-9803-b84735000ca7",
   "metadata": {},
   "outputs": [
    {
     "name": "stdout",
     "output_type": "stream",
     "text": [
      "공통의 base를 가짐\n"
     ]
    }
   ],
   "source": [
    "test(b,c)"
   ]
  },
  {
   "cell_type": "code",
   "execution_count": 244,
   "id": "d3d9d15b-dea2-4998-adee-4140069ca393",
   "metadata": {},
   "outputs": [
    {
     "name": "stdout",
     "output_type": "stream",
     "text": [
      "뷰\n"
     ]
    }
   ],
   "source": [
    "test(a,b)"
   ]
  },
  {
   "cell_type": "code",
   "execution_count": 245,
   "id": "1aeddbdf-98e1-49e0-be5b-5858fb8447c8",
   "metadata": {},
   "outputs": [
    {
     "name": "stdout",
     "output_type": "stream",
     "text": [
      "뷰\n"
     ]
    }
   ],
   "source": [
    "test(a,c)"
   ]
  },
  {
   "cell_type": "markdown",
   "id": "daa5427b-91e9-44a8-98c8-a5fcbcfe226d",
   "metadata": {},
   "source": [
    "(테스트4) "
   ]
  },
  {
   "cell_type": "code",
   "execution_count": 246,
   "id": "e3b38a00-deb1-4b84-baa2-9dc550dafda2",
   "metadata": {},
   "outputs": [],
   "source": [
    "a=np.array([1,2,3,4])\n",
    "b=a.copy()"
   ]
  },
  {
   "cell_type": "code",
   "execution_count": 247,
   "id": "a17cc503-9163-42a0-b430-457222331718",
   "metadata": {},
   "outputs": [
    {
     "name": "stdout",
     "output_type": "stream",
     "text": [
      "카피, 혹은 아무 관련없는 오브젝트\n"
     ]
    }
   ],
   "source": [
    "test(a,b)"
   ]
  },
  {
   "cell_type": "markdown",
   "id": "06f69114-7b32-49d1-9827-eb98e507de7c",
   "metadata": {},
   "source": [
    "`-` 우리가 사용했던 어떠한 것들이 뷰가 나올지 카피가 나올지 사실 잘 모른다. "
   ]
  },
  {
   "cell_type": "code",
   "execution_count": 248,
   "id": "17b432fb-6f2c-4f79-8977-beaec93f8bd0",
   "metadata": {},
   "outputs": [],
   "source": [
    "a=np.array([1,2,3,4])\n",
    "b=a[:3]"
   ]
  },
  {
   "cell_type": "code",
   "execution_count": 249,
   "id": "d4ba3271-3ffa-4186-bc95-cdb9f896e5dd",
   "metadata": {},
   "outputs": [
    {
     "data": {
      "text/plain": [
       "array([1, 2, 3, 4])"
      ]
     },
     "execution_count": 249,
     "metadata": {},
     "output_type": "execute_result"
    }
   ],
   "source": [
    "a"
   ]
  },
  {
   "cell_type": "code",
   "execution_count": 250,
   "id": "f2b0b34c-e53d-4724-967a-a9f167879dbf",
   "metadata": {},
   "outputs": [
    {
     "data": {
      "text/plain": [
       "array([1, 2, 3])"
      ]
     },
     "execution_count": 250,
     "metadata": {},
     "output_type": "execute_result"
    }
   ],
   "source": [
    "b"
   ]
  },
  {
   "cell_type": "code",
   "execution_count": 251,
   "id": "f02f2293-7147-4ff2-a82d-0bd7f6b806f0",
   "metadata": {},
   "outputs": [
    {
     "name": "stdout",
     "output_type": "stream",
     "text": [
      "뷰\n"
     ]
    }
   ],
   "source": [
    "test(a,b)"
   ]
  },
  {
   "cell_type": "code",
   "execution_count": 254,
   "id": "9d497359-60dd-475f-8a59-cebb65c4d206",
   "metadata": {},
   "outputs": [
    {
     "data": {
      "text/plain": [
       "array([1, 2, 3])"
      ]
     },
     "execution_count": 254,
     "metadata": {},
     "output_type": "execute_result"
    }
   ],
   "source": [
    "c=a[[0,1,2]]\n",
    "c"
   ]
  },
  {
   "cell_type": "code",
   "execution_count": 255,
   "id": "4b3883f5-f77f-410e-b02c-fe5c0eb15cde",
   "metadata": {},
   "outputs": [
    {
     "name": "stdout",
     "output_type": "stream",
     "text": [
      "카피, 혹은 아무 관련없는 오브젝트\n"
     ]
    }
   ],
   "source": [
    "test(a,c)"
   ]
  },
  {
   "cell_type": "markdown",
   "id": "e2a2649c-9ecf-4f0a-946f-8428910bed15",
   "metadata": {},
   "source": [
    "`-` "
   ]
  },
  {
   "cell_type": "code",
   "execution_count": 260,
   "id": "1c4e6a3d-9cc0-4593-9369-34f6841bcace",
   "metadata": {},
   "outputs": [
    {
     "data": {
      "text/plain": [
       "array([[1, 2],\n",
       "       [3, 4]])"
      ]
     },
     "execution_count": 260,
     "metadata": {},
     "output_type": "execute_result"
    }
   ],
   "source": [
    "a=np.array([[1,2],[3,4]])\n",
    "a"
   ]
  },
  {
   "cell_type": "code",
   "execution_count": 265,
   "id": "283cdfa5-1447-44e4-bd3f-f08be463dbc6",
   "metadata": {},
   "outputs": [],
   "source": [
    "b=a.flatten()\n",
    "c=a.ravel()\n",
    "d=a.reshape(-1)"
   ]
  },
  {
   "cell_type": "code",
   "execution_count": 269,
   "id": "09af63c4-cb02-4a4d-aaf7-4cf7024731a7",
   "metadata": {},
   "outputs": [
    {
     "name": "stdout",
     "output_type": "stream",
     "text": [
      "카피, 혹은 아무 관련없는 오브젝트\n"
     ]
    }
   ],
   "source": [
    "test(a,b)"
   ]
  },
  {
   "cell_type": "code",
   "execution_count": 270,
   "id": "04b9cf75-6ac8-4db9-bf42-634b7ee08d66",
   "metadata": {},
   "outputs": [
    {
     "name": "stdout",
     "output_type": "stream",
     "text": [
      "뷰\n"
     ]
    }
   ],
   "source": [
    "test(a,c)"
   ]
  },
  {
   "cell_type": "code",
   "execution_count": 271,
   "id": "d0ed3eaf-d5f3-413d-bbfe-c28865d0b9a1",
   "metadata": {},
   "outputs": [
    {
     "name": "stdout",
     "output_type": "stream",
     "text": [
      "뷰\n"
     ]
    }
   ],
   "source": [
    "test(a,d)"
   ]
  },
  {
   "cell_type": "code",
   "execution_count": 272,
   "id": "a2b69e54-e0e4-4e15-9bde-c6f0f4dabb90",
   "metadata": {},
   "outputs": [
    {
     "name": "stdout",
     "output_type": "stream",
     "text": [
      "공통의 base를 가짐\n"
     ]
    }
   ],
   "source": [
    "test(c,d)"
   ]
  },
  {
   "cell_type": "code",
   "execution_count": 273,
   "id": "133ad3ea-1d5e-4d76-8e1b-9bcbcb8237be",
   "metadata": {},
   "outputs": [
    {
     "name": "stdout",
     "output_type": "stream",
     "text": [
      "카피, 혹은 아무 관련없는 오브젝트\n"
     ]
    }
   ],
   "source": [
    "test(b,c)"
   ]
  }
 ],
 "metadata": {
  "kernelspec": {
   "display_name": "Python 3",
   "language": "python",
   "name": "python3"
  },
  "language_info": {
   "codemirror_mode": {
    "name": "ipython",
    "version": 3
   },
   "file_extension": ".py",
   "mimetype": "text/x-python",
   "name": "python",
   "nbconvert_exporter": "python",
   "pygments_lexer": "ipython3",
   "version": "3.9.7"
  },
  "widgets": {
   "application/vnd.jupyter.widget-state+json": {
    "state": {},
    "version_major": 2,
    "version_minor": 0
   }
  }
 },
 "nbformat": 4,
 "nbformat_minor": 5
}
